{
 "cells": [
  {
   "cell_type": "code",
   "execution_count": 4,
   "metadata": {},
   "outputs": [],
   "source": [
    "import os\n",
    "import pandas as pd\n",
    "import pickle\n",
    "import matplotlib.pyplot as plt\n",
    "import gzip\n",
    "import numpy as np\n",
    "import seaborn as sns\n",
    "import itertools\n",
    "from IPython.display import Markdown, display\n",
    "from mpl_toolkits.mplot3d import axes3d, Axes3D\n",
    "%matplotlib inline\n",
    "\n",
    "sns.set()\n",
    "\n",
    "from sklearn.linear_model import LogisticRegression\n",
    "from sklearn.linear_model import SGDClassifier\n",
    "from sklearn.ensemble import RandomForestClassifier\n",
    "from sklearn.ensemble import GradientBoostingClassifier\n",
    "from sklearn.tree import DecisionTreeClassifier\n",
    "from sklearn.neural_network import MLPClassifier\n",
    "\n",
    "from sklearn.model_selection import train_test_split\n",
    "from sklearn.model_selection import cross_val_score\n",
    "from sklearn.model_selection import cross_val_predict\n",
    "\n",
    "from sklearn.metrics import roc_auc_score\n",
    "from sklearn.metrics import accuracy_score\n",
    "from sklearn.metrics import precision_score, recall_score\n",
    "from sklearn.metrics import precision_recall_curve\n",
    "from sklearn.metrics import f1_score\n",
    "from sklearn.metrics import roc_curve, auc\n",
    "from sklearn.metrics import confusion_matrix, classification_report\n",
    "\n",
    "from sklearn import decomposition\n",
    "from sklearn.discriminant_analysis import LinearDiscriminantAnalysis as LDA\n",
    "\n",
    "from sklearn.preprocessing import StandardScaler"
   ]
  },
  {
   "cell_type": "code",
   "execution_count": 5,
   "metadata": {},
   "outputs": [
    {
     "name": "stdout",
     "output_type": "stream",
     "text": [
      "ID,HAS_EMAIL,PHONE_COUNTRY,IS_FRAUDSTER,TERMS_VERSION,CREATED_DATE,STATE,COUNTRY,BIRTH_YEAR,KYC,FAILED_SIGN_IN_ATTEMPTS\n",
      "\n",
      "1872820f-e3ac-4c02-bdc7-727897b60043,1,GB||JE||IM||GG,False,2018-05-25,2017-08-06 07:33:33.341000,ACTIVE,GB,1971,PASSED,0\n",
      "\n",
      "545ff94d-66f8-4bea-b398-84425fb2301e,1,GB||JE||IM||GG,False,2018-01-01,2017-03-07 10:18:59.427000,ACTIVE,GB,1982,PASSED,0\n",
      "\n",
      "10376f1a-a28a-4885-8daa-c8ca496026bb,1,ES,False,2018-09-20,2018-05-31 04:41:24.672000,ACTIVE,ES,1973,PASSED,0\n",
      "\n",
      "fd308db7-0753-4377-879f-6ecf2af14e4f,1,FR,False,2018-05-25,2018-06-01 17:24:23.852000,ACTIVE,FR,1986,PASSED,0\n",
      "\n"
     ]
    }
   ],
   "source": [
    "n = 5\n",
    "with open('data/users.csv') as lines:\n",
    "  for i in range(n):\n",
    "    print(next(lines))"
   ]
  },
  {
   "cell_type": "code",
   "execution_count": 39,
   "metadata": {},
   "outputs": [],
   "source": [
    "users = pd.read_csv('data/users.csv')"
   ]
  },
  {
   "cell_type": "code",
   "execution_count": 9,
   "metadata": {},
   "outputs": [
    {
     "name": "stdout",
     "output_type": "stream",
     "text": [
      "CURRENCY,AMOUNT,STATE,CREATED_DATE,MERCHANT_CATEGORY,MERCHANT_COUNTRY,ENTRY_METHOD,USER_ID,TYPE,SOURCE,ID,AMOUNT_USD\n",
      "\n",
      "GBP,4420,COMPLETED,2017-12-10 16:38:55.577,,NLD,chip,3ff52b92-d416-4e22-8cad-018f500d4bbc,ATM,GAIA,367bf5f9-7cce-4683-90b9-d3c011bf4c87,3268.0\n",
      "\n",
      "PLN,1500,COMPLETED,2017-12-10 16:37:24.792,point_of_interest,POL,manu,76cbaad3-4721-4a3b-92b9-3eb9e9319565,CARD_PAYMENT,GAIA,ff6802b9-360d-4efe-b09b-f99c6cac3383,\n",
      "\n",
      "GBP,191,COMPLETED,2017-12-10 16:37:16.234,airport,PRT,chip,7bcaa34e-b889-4582-9c29-0b3bab34fb8c,CARD_PAYMENT,GAIA,ddb4a930-7d8a-4f38-9079-ddc4b0db980e,141.0\n",
      "\n",
      "GBP,10000,COMPLETED,2017-12-10 16:34:42.592,,,misc,b3a6762b-a940-4459-bb1d-8e28e151f901,TOPUP,HERA,080ef0be-850a-4f14-ab03-28ff68e6b797,7394.0\n",
      "\n"
     ]
    }
   ],
   "source": [
    "n = 5\n",
    "with open('./data/transactions.csv') as transactions:\n",
    "  for _ in range(n):\n",
    "    print(next(transactions))"
   ]
  },
  {
   "cell_type": "code",
   "execution_count": 10,
   "metadata": {},
   "outputs": [],
   "source": [
    "tr = pd.read_csv('./data/transactions.csv')"
   ]
  },
  {
   "cell_type": "code",
   "execution_count": 41,
   "metadata": {},
   "outputs": [],
   "source": [
    "df = pd.merge(users, tr, how='inner', left_on='ID', right_on='USER_ID')"
   ]
  },
  {
   "cell_type": "markdown",
   "metadata": {},
   "source": [
    "### Exploratory Data Analysis and Cleaning"
   ]
  },
  {
   "cell_type": "markdown",
   "metadata": {},
   "source": [
    "Looking at:\n",
    "Structure: \n",
    "  - Reasonable. Loads correctly.\n",
    "\n",
    "Granularity: \n",
    "  - Transactions is at the individual transaction.  There are multiple per user.\n",
    "  - User is at the user level.  Single per user.\n",
    "  - When we merge the two data files, the merged data file takes on the granularity of the transaction\n",
    "\n",
    "Scope:\n",
    " - test\n",
    "\n",
    "Temporality:\n",
    " - test\n",
    "\n",
    "Faithfulness:\n",
    " - I'll walk through each field in the next block to examine if the data looks reasonable and if not, how to address it.\n",
    "\n"
   ]
  },
  {
   "cell_type": "markdown",
   "metadata": {},
   "source": [
    "### EDA and Faithfulness\n",
    "We'll look at the User dataset first.\n",
    "\n",
    "If I don't mention missing values, it will be because there are none and so nothing to address.  The number of missing values will be seen by the following `.info()` call.\n",
    "\n",
    "We can actually see that only the `Terms_Version` field has missing values. We will look into the nature of these."
   ]
  },
  {
   "cell_type": "code",
   "execution_count": 42,
   "metadata": {},
   "outputs": [
    {
     "name": "stdout",
     "output_type": "stream",
     "text": [
      "<class 'pandas.core.frame.DataFrame'>\n",
      "RangeIndex: 9944 entries, 0 to 9943\n",
      "Data columns (total 11 columns):\n",
      " #   Column                   Non-Null Count  Dtype \n",
      "---  ------                   --------------  ----- \n",
      " 0   ID                       9944 non-null   object\n",
      " 1   HAS_EMAIL                9944 non-null   int64 \n",
      " 2   PHONE_COUNTRY            9944 non-null   object\n",
      " 3   IS_FRAUDSTER             9944 non-null   bool  \n",
      " 4   TERMS_VERSION            8417 non-null   object\n",
      " 5   CREATED_DATE             9944 non-null   object\n",
      " 6   STATE                    9944 non-null   object\n",
      " 7   COUNTRY                  9944 non-null   object\n",
      " 8   BIRTH_YEAR               9944 non-null   int64 \n",
      " 9   KYC                      9944 non-null   object\n",
      " 10  FAILED_SIGN_IN_ATTEMPTS  9944 non-null   int64 \n",
      "dtypes: bool(1), int64(3), object(7)\n",
      "memory usage: 786.7+ KB\n"
     ]
    }
   ],
   "source": [
    "users.info()"
   ]
  },
  {
   "cell_type": "markdown",
   "metadata": {},
   "source": [
    "Notes: Id\n",
    "  - It is unique(no counts>1) and so leads me to believe that the granularity of the dataset is at the user level."
   ]
  },
  {
   "cell_type": "code",
   "execution_count": 44,
   "metadata": {},
   "outputs": [
    {
     "data": {
      "text/plain": [
       "1"
      ]
     },
     "execution_count": 44,
     "metadata": {},
     "output_type": "execute_result"
    }
   ],
   "source": [
    "users['ID'].value_counts().max()"
   ]
  },
  {
   "cell_type": "markdown",
   "metadata": {},
   "source": [
    "Notes: Has_Email\n",
    "\n",
    "A boolen in the form of 1/0."
   ]
  },
  {
   "cell_type": "code",
   "execution_count": 45,
   "metadata": {},
   "outputs": [
    {
     "data": {
      "text/plain": [
       "HAS_EMAIL\n",
       "1    9414\n",
       "0     530\n",
       "Name: count, dtype: int64"
      ]
     },
     "execution_count": 45,
     "metadata": {},
     "output_type": "execute_result"
    }
   ],
   "source": [
    "users['HAS_EMAIL'].value_counts()"
   ]
  },
  {
   "cell_type": "markdown",
   "metadata": {},
   "source": [
    "Notes: Phone_Country\n",
    "\n",
    "The highest number by far belongs to `GB...GG`.  It may be interesting to split these out into single countries or otherwise look into this field."
   ]
  },
  {
   "cell_type": "code",
   "execution_count": 46,
   "metadata": {},
   "outputs": [
    {
     "data": {
      "text/plain": [
       "PHONE_COUNTRY\n",
       "GB||JE||IM||GG    4302\n",
       "FR                1309\n",
       "PL                 672\n",
       "LT                 492\n",
       "ES                 411\n",
       "                  ... \n",
       "CO                   1\n",
       "GE                   1\n",
       "OM                   1\n",
       "AD                   1\n",
       "CR                   1\n",
       "Name: count, Length: 83, dtype: int64"
      ]
     },
     "execution_count": 46,
     "metadata": {},
     "output_type": "execute_result"
    }
   ],
   "source": [
    "users['PHONE_COUNTRY'].value_counts()"
   ]
  },
  {
   "cell_type": "code",
   "execution_count": 47,
   "metadata": {},
   "outputs": [
    {
     "data": {
      "text/plain": [
       "array(['GB||JE||IM||GG', 'ES', 'FR', 'SI', 'PL', 'BE', 'CH', 'CZ', 'GR',\n",
       "       'FI||AX', 'CY', 'IE', 'LT', 'US||PR||CA', 'MT', 'HU', 'RO', 'DK',\n",
       "       'MY', 'DE', 'HR', 'BG', 'PT', 'RU||KZ', 'MK', 'NO||SJ||BV', 'IT',\n",
       "       'EE', 'LV', 'SE', 'JO', 'SK', 'NL', 'AD', 'AT', 'IN', 'NC', 'ZA',\n",
       "       'LU', 'GI', 'IS', 'ME', 'BR', 'MX', 'CC||CX||AU', 'NZ', 'TH', 'ID',\n",
       "       'EH||MA', 'TR', 'OM', 'BL||MF||GP', 'GF', 'GE', 'PE', 'CO', 'MV',\n",
       "       'MQ', 'QA', 'IL', 'AL', 'VN', 'JP', 'CN', 'AZ', 'KR', 'TF||RE||YT',\n",
       "       'BN', 'TW', 'MN', 'AR', 'EG', 'HK', 'KG', 'UA', 'CM', 'AE', 'SN',\n",
       "       'PH', 'MO', 'KY', 'DZ', 'CR'], dtype=object)"
      ]
     },
     "execution_count": 47,
     "metadata": {},
     "output_type": "execute_result"
    }
   ],
   "source": [
    "users['PHONE_COUNTRY'].unique()"
   ]
  },
  {
   "cell_type": "markdown",
   "metadata": {},
   "source": [
    "Notes: Is_Fraudster\n",
    "\n",
    "This is our target variable. Only about .2 percent are identified as such."
   ]
  },
  {
   "cell_type": "code",
   "execution_count": 48,
   "metadata": {},
   "outputs": [
    {
     "data": {
      "text/plain": [
       "IS_FRAUDSTER\n",
       "False    9646\n",
       "True      298\n",
       "Name: count, dtype: int64"
      ]
     },
     "execution_count": 48,
     "metadata": {},
     "output_type": "execute_result"
    }
   ],
   "source": [
    "users['IS_FRAUDSTER'].value_counts()"
   ]
  },
  {
   "cell_type": "markdown",
   "metadata": {},
   "source": [
    "Notes: Terms_Version\n",
    "\n",
    "We have a limited number of versions and then about 1000 who have no value.  I will make the assumption that those users have never received or signed a \"Terms\" agreement rather than that this missing data is just invalid.\n"
   ]
  },
  {
   "cell_type": "code",
   "execution_count": 49,
   "metadata": {},
   "outputs": [
    {
     "data": {
      "text/plain": [
       "TERMS_VERSION\n",
       "2018-05-25    3393\n",
       "2018-09-20    2109\n",
       "2018-03-20    2048\n",
       "2018-01-13     440\n",
       "2018-01-01     232\n",
       "2017-01-16     121\n",
       "2017-02-02      74\n",
       "Name: count, dtype: int64"
      ]
     },
     "execution_count": 49,
     "metadata": {},
     "output_type": "execute_result"
    }
   ],
   "source": [
    "users['TERMS_VERSION'].value_counts()"
   ]
  },
  {
   "cell_type": "code",
   "execution_count": 50,
   "metadata": {},
   "outputs": [
    {
     "name": "stdout",
     "output_type": "stream",
     "text": [
      "<class 'pandas.core.frame.DataFrame'>\n",
      "RangeIndex: 9944 entries, 0 to 9943\n",
      "Data columns (total 11 columns):\n",
      " #   Column                   Non-Null Count  Dtype \n",
      "---  ------                   --------------  ----- \n",
      " 0   ID                       9944 non-null   object\n",
      " 1   HAS_EMAIL                9944 non-null   int64 \n",
      " 2   PHONE_COUNTRY            9944 non-null   object\n",
      " 3   IS_FRAUDSTER             9944 non-null   bool  \n",
      " 4   TERMS_VERSION            8417 non-null   object\n",
      " 5   CREATED_DATE             9944 non-null   object\n",
      " 6   STATE                    9944 non-null   object\n",
      " 7   COUNTRY                  9944 non-null   object\n",
      " 8   BIRTH_YEAR               9944 non-null   int64 \n",
      " 9   KYC                      9944 non-null   object\n",
      " 10  FAILED_SIGN_IN_ATTEMPTS  9944 non-null   int64 \n",
      "dtypes: bool(1), int64(3), object(7)\n",
      "memory usage: 786.7+ KB\n"
     ]
    }
   ],
   "source": [
    "users.info()"
   ]
  },
  {
   "cell_type": "markdown",
   "metadata": {},
   "source": [
    "Notes: Created_Date\n",
    "\n",
    "This will be transformed into a date time.  The value does have both a date and a time.  I'll split it into two fields.  It is possible that there is some relevant information in the time at which the account was created."
   ]
  },
  {
   "cell_type": "code",
   "execution_count": 54,
   "metadata": {},
   "outputs": [],
   "source": [
    "users['DT_CREATED_DATETIME'] = pd.to_datetime(users['CREATED_DATE'])\n",
    "users['DT_CREATED_DATE'] = users['DT_CREATED_DATETIME'].dt.date\n",
    "users['DT_CREATED_TIME'] = users['DT_CREATED_DATETIME'].dt.time\n"
   ]
  },
  {
   "cell_type": "code",
   "execution_count": 55,
   "metadata": {},
   "outputs": [
    {
     "data": {
      "text/plain": [
       "DT_CREATED_DATE\n",
       "2018-03-11    62\n",
       "2017-12-08    58\n",
       "2018-03-10    57\n",
       "2018-03-07    49\n",
       "2018-03-06    47\n",
       "              ..\n",
       "2016-01-11     1\n",
       "2017-01-04     1\n",
       "2016-04-02     1\n",
       "2016-12-24     1\n",
       "2016-02-23     1\n",
       "Name: count, Length: 930, dtype: int64"
      ]
     },
     "execution_count": 55,
     "metadata": {},
     "output_type": "execute_result"
    }
   ],
   "source": [
    "users['DT_CREATED_DATE'].value_counts()"
   ]
  },
  {
   "cell_type": "markdown",
   "metadata": {},
   "source": [
    "Notes: Amount\n",
    "\n",
    "There are significant outliers.  Looking into this below."
   ]
  },
  {
   "cell_type": "code",
   "execution_count": 15,
   "metadata": {},
   "outputs": [
    {
     "data": {
      "text/plain": [
       "count    5.861250e+05\n",
       "mean     6.862871e+03\n",
       "std      7.502182e+04\n",
       "min      0.000000e+00\n",
       "25%      3.470000e+02\n",
       "50%      1.008000e+03\n",
       "75%      3.689000e+03\n",
       "max      1.641211e+07\n",
       "Name: AMOUNT_USD, dtype: float64"
      ]
     },
     "execution_count": 15,
     "metadata": {},
     "output_type": "execute_result"
    }
   ],
   "source": [
    "df_m['AMOUNT_USD'].describe()"
   ]
  },
  {
   "cell_type": "code",
   "execution_count": 16,
   "metadata": {},
   "outputs": [
    {
     "data": {
      "image/png": "[encoded data removed]",
      "text/plain": [
       "<Figure size 640x480 with 1 Axes>"
      ]
     },
     "metadata": {},
     "output_type": "display_data"
    }
   ],
   "source": [
    "sns.kdeplot(df_m, x=\"AMOUNT\")\n",
    "\n",
    "plt.show()"
   ]
  },
  {
   "cell_type": "code",
   "execution_count": 17,
   "metadata": {},
   "outputs": [
    {
     "name": "stdout",
     "output_type": "stream",
     "text": [
      "IQR = 215649.0\n",
      "Highest = 108832.5\n"
     ]
    }
   ],
   "source": [
    "median = 1008\n",
    "std = 71883\n",
    "high = median + 1.5 * std\n",
    "low = median - 1.5 * std\n",
    "print(\"IQR =\", high - low)\n",
    "print(\"Highest =\", high) \n",
    "\n",
    "df_m['OUTLIER_HIGH'] = False\n",
    "# set outlier_high to True for all rows where AMOUNT_USD is greater than high\n",
    "df_m.loc[df_m['AMOUNT_USD'] > high, 'OUTLIER_HIGH'] = True\n",
    "\n"
   ]
  },
  {
   "cell_type": "code",
   "execution_count": 18,
   "metadata": {},
   "outputs": [
    {
     "data": {
      "text/plain": [
       "count     638742\n",
       "unique         2\n",
       "top        False\n",
       "freq      634853\n",
       "Name: OUTLIER_HIGH, dtype: object"
      ]
     },
     "execution_count": 18,
     "metadata": {},
     "output_type": "execute_result"
    }
   ],
   "source": [
    "df_m[\"OUTLIER_HIGH\"].describe()"
   ]
  },
  {
   "cell_type": "code",
   "execution_count": 19,
   "metadata": {},
   "outputs": [
    {
     "name": "stdout",
     "output_type": "stream",
     "text": [
      "IQR = 7141686.0\n",
      "Highest = 3572236.0\n"
     ]
    }
   ],
   "source": [
    "median = 1393\n",
    "std = 2380562\n",
    "high = median + 1.5 * std\n",
    "low = median - 1.5 * std\n",
    "print(\"IQR =\", high - low)\n",
    "print(\"Highest =\", high) \n",
    "\n",
    "df_m['OUTLIER_HIGH_2'] = False\n",
    "# set outlier_high to True for all rows where AMOUNT_USD is greater than high\n",
    "df_m.loc[df_m['AMOUNT'] > high, 'OUTLIER_HIGH_2'] = True\n",
    "\n"
   ]
  },
  {
   "cell_type": "code",
   "execution_count": 20,
   "metadata": {},
   "outputs": [
    {
     "data": {
      "text/plain": [
       "count     638742\n",
       "unique         2\n",
       "top        False\n",
       "freq      638361\n",
       "Name: OUTLIER_HIGH_2, dtype: object"
      ]
     },
     "execution_count": 20,
     "metadata": {},
     "output_type": "execute_result"
    }
   ],
   "source": [
    "df_m[\"OUTLIER_HIGH_2\"].describe()"
   ]
  },
  {
   "cell_type": "code",
   "execution_count": 21,
   "metadata": {},
   "outputs": [],
   "source": [
    "df_out2 = df_m[df_m[\"OUTLIER_HIGH_2\"] == True]"
   ]
  },
  {
   "cell_type": "code",
   "execution_count": 22,
   "metadata": {},
   "outputs": [],
   "source": [
    "test = df_m[df_m['IS_FRAUDSTER'] == True]"
   ]
  },
  {
   "cell_type": "code",
   "execution_count": 23,
   "metadata": {},
   "outputs": [
    {
     "data": {
      "image/png": "[encoded data removed]",
      "text/plain": [
       "<Figure size 640x480 with 1 Axes>"
      ]
     },
     "metadata": {},
     "output_type": "display_data"
    }
   ],
   "source": [
    "import matplotlib.pyplot as plt\n",
    "df[\"PHONE_COUNTRY\"].value_counts().plot(kind=\"bar\")\n",
    "plt.show()\n",
    "\n"
   ]
  },
  {
   "cell_type": "code",
   "execution_count": 24,
   "metadata": {},
   "outputs": [],
   "source": [
    "df_m[\"HAS_MULTIPLE_PHONE_COUNTRIES\"] = False\n",
    "\n",
    "df_m.loc[df_m[\"PHONE_COUNTRY\"].str.len() > 3, \"HAS_MULTIPLE_PHONE_COUNTRIES\"] = True\n"
   ]
  },
  {
   "cell_type": "code",
   "execution_count": 25,
   "metadata": {},
   "outputs": [
    {
     "data": {
      "text/html": [
       "<div>\n",
       "<style scoped>\n",
       "    .dataframe tbody tr th:only-of-type {\n",
       "        vertical-align: middle;\n",
       "    }\n",
       "\n",
       "    .dataframe tbody tr th {\n",
       "        vertical-align: top;\n",
       "    }\n",
       "\n",
       "    .dataframe thead th {\n",
       "        text-align: right;\n",
       "    }\n",
       "</style>\n",
       "<table border=\"1\" class=\"dataframe\">\n",
       "  <thead>\n",
       "    <tr style=\"text-align: right;\">\n",
       "      <th>IS_FRAUDSTER</th>\n",
       "      <th>False</th>\n",
       "      <th>True</th>\n",
       "    </tr>\n",
       "    <tr>\n",
       "      <th>HAS_MULTIPLE_PHONE_COUNTRIES</th>\n",
       "      <th></th>\n",
       "      <th></th>\n",
       "    </tr>\n",
       "  </thead>\n",
       "  <tbody>\n",
       "    <tr>\n",
       "      <th>False</th>\n",
       "      <td>298508</td>\n",
       "      <td>1069</td>\n",
       "    </tr>\n",
       "    <tr>\n",
       "      <th>True</th>\n",
       "      <td>326320</td>\n",
       "      <td>12845</td>\n",
       "    </tr>\n",
       "  </tbody>\n",
       "</table>\n",
       "</div>"
      ],
      "text/plain": [
       "IS_FRAUDSTER                   False  True \n",
       "HAS_MULTIPLE_PHONE_COUNTRIES               \n",
       "False                         298508   1069\n",
       "True                          326320  12845"
      ]
     },
     "execution_count": 25,
     "metadata": {},
     "output_type": "execute_result"
    }
   ],
   "source": [
    "res = df_m.pivot_table(index=['HAS_MULTIPLE_PHONE_COUNTRIES'],columns=['IS_FRAUDSTER'],values='USER_ID', aggfunc='count')\n",
    "res\n"
   ]
  },
  {
   "cell_type": "code",
   "execution_count": 26,
   "metadata": {},
   "outputs": [
    {
     "data": {
      "text/html": [
       "<div>\n",
       "<style scoped>\n",
       "    .dataframe tbody tr th:only-of-type {\n",
       "        vertical-align: middle;\n",
       "    }\n",
       "\n",
       "    .dataframe tbody tr th {\n",
       "        vertical-align: top;\n",
       "    }\n",
       "\n",
       "    .dataframe thead th {\n",
       "        text-align: right;\n",
       "    }\n",
       "</style>\n",
       "<table border=\"1\" class=\"dataframe\">\n",
       "  <thead>\n",
       "    <tr style=\"text-align: right;\">\n",
       "      <th>IS_FRAUDSTER</th>\n",
       "      <th>False</th>\n",
       "      <th>True</th>\n",
       "    </tr>\n",
       "    <tr>\n",
       "      <th>OUTLIER_HIGH</th>\n",
       "      <th></th>\n",
       "      <th></th>\n",
       "    </tr>\n",
       "  </thead>\n",
       "  <tbody>\n",
       "    <tr>\n",
       "      <th>False</th>\n",
       "      <td>621471</td>\n",
       "      <td>13382</td>\n",
       "    </tr>\n",
       "    <tr>\n",
       "      <th>True</th>\n",
       "      <td>3357</td>\n",
       "      <td>532</td>\n",
       "    </tr>\n",
       "  </tbody>\n",
       "</table>\n",
       "</div>"
      ],
      "text/plain": [
       "IS_FRAUDSTER   False  True \n",
       "OUTLIER_HIGH               \n",
       "False         621471  13382\n",
       "True            3357    532"
      ]
     },
     "execution_count": 26,
     "metadata": {},
     "output_type": "execute_result"
    }
   ],
   "source": [
    "res = df_m.pivot_table(index=['OUTLIER_HIGH'],columns=['IS_FRAUDSTER'],values='USER_ID', aggfunc='count')\n",
    "res\n"
   ]
  },
  {
   "cell_type": "code",
   "execution_count": 27,
   "metadata": {},
   "outputs": [
    {
     "data": {
      "text/html": [
       "<div>\n",
       "<style scoped>\n",
       "    .dataframe tbody tr th:only-of-type {\n",
       "        vertical-align: middle;\n",
       "    }\n",
       "\n",
       "    .dataframe tbody tr th {\n",
       "        vertical-align: top;\n",
       "    }\n",
       "\n",
       "    .dataframe thead th {\n",
       "        text-align: right;\n",
       "    }\n",
       "</style>\n",
       "<table border=\"1\" class=\"dataframe\">\n",
       "  <thead>\n",
       "    <tr style=\"text-align: right;\">\n",
       "      <th>IS_FRAUDSTER</th>\n",
       "      <th>False</th>\n",
       "      <th>True</th>\n",
       "    </tr>\n",
       "    <tr>\n",
       "      <th>OUTLIER_HIGH</th>\n",
       "      <th></th>\n",
       "      <th></th>\n",
       "    </tr>\n",
       "  </thead>\n",
       "  <tbody>\n",
       "    <tr>\n",
       "      <th>False</th>\n",
       "      <td>621471</td>\n",
       "      <td>13382</td>\n",
       "    </tr>\n",
       "    <tr>\n",
       "      <th>True</th>\n",
       "      <td>3357</td>\n",
       "      <td>532</td>\n",
       "    </tr>\n",
       "  </tbody>\n",
       "</table>\n",
       "</div>"
      ],
      "text/plain": [
       "IS_FRAUDSTER   False  True \n",
       "OUTLIER_HIGH               \n",
       "False         621471  13382\n",
       "True            3357    532"
      ]
     },
     "execution_count": 27,
     "metadata": {},
     "output_type": "execute_result"
    }
   ],
   "source": [
    "res = pd.crosstab(index=df_m['OUTLIER_HIGH'],columns=df_m['IS_FRAUDSTER'])\n",
    "res"
   ]
  },
  {
   "cell_type": "code",
   "execution_count": 28,
   "metadata": {},
   "outputs": [
    {
     "name": "stdout",
     "output_type": "stream",
     "text": [
      "<class 'pandas.core.frame.DataFrame'>\n",
      "RangeIndex: 638742 entries, 0 to 638741\n",
      "Data columns (total 26 columns):\n",
      " #   Column                        Non-Null Count   Dtype  \n",
      "---  ------                        --------------   -----  \n",
      " 0   ID_x                          638742 non-null  object \n",
      " 1   HAS_EMAIL                     638742 non-null  int64  \n",
      " 2   PHONE_COUNTRY                 638742 non-null  object \n",
      " 3   IS_FRAUDSTER                  638742 non-null  bool   \n",
      " 4   TERMS_VERSION                 613084 non-null  object \n",
      " 5   CREATED_DATE_x                638742 non-null  object \n",
      " 6   STATE_x                       638742 non-null  object \n",
      " 7   COUNTRY                       638742 non-null  object \n",
      " 8   BIRTH_YEAR                    638742 non-null  int64  \n",
      " 9   KYC                           638742 non-null  object \n",
      " 10  FAILED_SIGN_IN_ATTEMPTS       638742 non-null  int64  \n",
      " 11  CURRENCY                      638742 non-null  object \n",
      " 12  AMOUNT                        638742 non-null  int64  \n",
      " 13  STATE_y                       638742 non-null  object \n",
      " 14  CREATED_DATE_y                638742 non-null  object \n",
      " 15  MERCHANT_CATEGORY             208677 non-null  object \n",
      " 16  MERCHANT_COUNTRY              447017 non-null  object \n",
      " 17  ENTRY_METHOD                  638742 non-null  object \n",
      " 18  USER_ID                       638742 non-null  object \n",
      " 19  TYPE                          638742 non-null  object \n",
      " 20  SOURCE                        638742 non-null  object \n",
      " 21  ID_y                          638742 non-null  object \n",
      " 22  AMOUNT_USD                    586125 non-null  float64\n",
      " 23  OUTLIER_HIGH                  638742 non-null  bool   \n",
      " 24  OUTLIER_HIGH_2                638742 non-null  bool   \n",
      " 25  HAS_MULTIPLE_PHONE_COUNTRIES  638742 non-null  bool   \n",
      "dtypes: bool(4), float64(1), int64(4), object(17)\n",
      "memory usage: 109.6+ MB\n"
     ]
    }
   ],
   "source": [
    "df_m.info()"
   ]
  },
  {
   "cell_type": "code",
   "execution_count": 29,
   "metadata": {},
   "outputs": [],
   "source": [
    "X = df_m[[\"HAS_EMAIL\", \"TERMS_VERSION\", \"BIRTH_YEAR\", \"KYC\",\n",
    "            \"OUTLIER_HIGH\", \"OUTLIER_HIGH_2\",\"HAS_MULTIPLE_PHONE_COUNTRIES\", \"AMOUNT\", \"AMOUNT_USD\"]]\n",
    "Y = df_m[\"IS_FRAUDSTER\"]"
   ]
  },
  {
   "cell_type": "code",
   "execution_count": 30,
   "metadata": {},
   "outputs": [],
   "source": [
    "\n",
    "new_cols = pd.get_dummies(X[[\"TERMS_VERSION\", \"KYC\"]], drop_first=True)\n",
    "X = pd.concat([X, new_cols], axis=1)"
   ]
  },
  {
   "cell_type": "code",
   "execution_count": 31,
   "metadata": {},
   "outputs": [
    {
     "data": {
      "text/plain": [
       "Index(['HAS_EMAIL', 'BIRTH_YEAR', 'OUTLIER_HIGH', 'OUTLIER_HIGH_2',\n",
       "       'HAS_MULTIPLE_PHONE_COUNTRIES', 'AMOUNT', 'AMOUNT_USD',\n",
       "       'TERMS_VERSION_2017-02-02', 'TERMS_VERSION_2018-01-01',\n",
       "       'TERMS_VERSION_2018-01-13', 'TERMS_VERSION_2018-03-20',\n",
       "       'TERMS_VERSION_2018-05-25', 'TERMS_VERSION_2018-09-20', 'KYC_NONE',\n",
       "       'KYC_PASSED', 'KYC_PENDING'],\n",
       "      dtype='object')"
      ]
     },
     "execution_count": 31,
     "metadata": {},
     "output_type": "execute_result"
    }
   ],
   "source": [
    "X=X.drop([\"TERMS_VERSION\", \"KYC\"], axis=1)\n",
    "X.columns"
   ]
  },
  {
   "cell_type": "code",
   "execution_count": 32,
   "metadata": {},
   "outputs": [
    {
     "data": {
      "text/html": [
       "<div>\n",
       "<style scoped>\n",
       "    .dataframe tbody tr th:only-of-type {\n",
       "        vertical-align: middle;\n",
       "    }\n",
       "\n",
       "    .dataframe tbody tr th {\n",
       "        vertical-align: top;\n",
       "    }\n",
       "\n",
       "    .dataframe thead th {\n",
       "        text-align: right;\n",
       "    }\n",
       "</style>\n",
       "<table border=\"1\" class=\"dataframe\">\n",
       "  <thead>\n",
       "    <tr style=\"text-align: right;\">\n",
       "      <th></th>\n",
       "      <th>HAS_EMAIL</th>\n",
       "      <th>BIRTH_YEAR</th>\n",
       "      <th>OUTLIER_HIGH</th>\n",
       "      <th>OUTLIER_HIGH_2</th>\n",
       "      <th>HAS_MULTIPLE_PHONE_COUNTRIES</th>\n",
       "      <th>AMOUNT</th>\n",
       "      <th>AMOUNT_USD</th>\n",
       "      <th>TERMS_VERSION_2017-02-02</th>\n",
       "      <th>TERMS_VERSION_2018-01-01</th>\n",
       "      <th>TERMS_VERSION_2018-01-13</th>\n",
       "      <th>TERMS_VERSION_2018-03-20</th>\n",
       "      <th>TERMS_VERSION_2018-05-25</th>\n",
       "      <th>TERMS_VERSION_2018-09-20</th>\n",
       "      <th>KYC_NONE</th>\n",
       "      <th>KYC_PASSED</th>\n",
       "      <th>KYC_PENDING</th>\n",
       "    </tr>\n",
       "  </thead>\n",
       "  <tbody>\n",
       "    <tr>\n",
       "      <th>HAS_EMAIL</th>\n",
       "      <td>1.000000</td>\n",
       "      <td>0.010204</td>\n",
       "      <td>0.006010</td>\n",
       "      <td>0.002546</td>\n",
       "      <td>0.029785</td>\n",
       "      <td>0.001176</td>\n",
       "      <td>0.003532</td>\n",
       "      <td>0.004882</td>\n",
       "      <td>0.011240</td>\n",
       "      <td>0.001469</td>\n",
       "      <td>0.010131</td>\n",
       "      <td>0.026399</td>\n",
       "      <td>0.066403</td>\n",
       "      <td>0.284749</td>\n",
       "      <td>0.227754</td>\n",
       "      <td>0.001153</td>\n",
       "    </tr>\n",
       "    <tr>\n",
       "      <th>BIRTH_YEAR</th>\n",
       "      <td>0.010204</td>\n",
       "      <td>1.000000</td>\n",
       "      <td>0.039800</td>\n",
       "      <td>0.011669</td>\n",
       "      <td>0.005100</td>\n",
       "      <td>0.006580</td>\n",
       "      <td>0.035428</td>\n",
       "      <td>0.009935</td>\n",
       "      <td>0.022881</td>\n",
       "      <td>0.041190</td>\n",
       "      <td>0.012849</td>\n",
       "      <td>0.000388</td>\n",
       "      <td>0.014592</td>\n",
       "      <td>0.020418</td>\n",
       "      <td>0.006557</td>\n",
       "      <td>0.047744</td>\n",
       "    </tr>\n",
       "    <tr>\n",
       "      <th>OUTLIER_HIGH</th>\n",
       "      <td>0.006010</td>\n",
       "      <td>0.039800</td>\n",
       "      <td>1.000000</td>\n",
       "      <td>0.032708</td>\n",
       "      <td>0.014760</td>\n",
       "      <td>0.014493</td>\n",
       "      <td>0.411499</td>\n",
       "      <td>0.002053</td>\n",
       "      <td>0.000702</td>\n",
       "      <td>0.000864</td>\n",
       "      <td>0.004495</td>\n",
       "      <td>0.001984</td>\n",
       "      <td>0.000295</td>\n",
       "      <td>0.006636</td>\n",
       "      <td>0.008163</td>\n",
       "      <td>0.016221</td>\n",
       "    </tr>\n",
       "    <tr>\n",
       "      <th>OUTLIER_HIGH_2</th>\n",
       "      <td>0.002546</td>\n",
       "      <td>0.011669</td>\n",
       "      <td>0.032708</td>\n",
       "      <td>1.000000</td>\n",
       "      <td>0.003944</td>\n",
       "      <td>0.363612</td>\n",
       "      <td>0.776776</td>\n",
       "      <td>0.001707</td>\n",
       "      <td>0.000831</td>\n",
       "      <td>0.000228</td>\n",
       "      <td>0.002500</td>\n",
       "      <td>0.001345</td>\n",
       "      <td>0.002810</td>\n",
       "      <td>0.002143</td>\n",
       "      <td>0.000179</td>\n",
       "      <td>0.003909</td>\n",
       "    </tr>\n",
       "    <tr>\n",
       "      <th>HAS_MULTIPLE_PHONE_COUNTRIES</th>\n",
       "      <td>0.029785</td>\n",
       "      <td>0.005100</td>\n",
       "      <td>0.014760</td>\n",
       "      <td>0.003944</td>\n",
       "      <td>1.000000</td>\n",
       "      <td>0.001307</td>\n",
       "      <td>0.012832</td>\n",
       "      <td>0.042592</td>\n",
       "      <td>0.006117</td>\n",
       "      <td>0.031016</td>\n",
       "      <td>0.049581</td>\n",
       "      <td>0.002830</td>\n",
       "      <td>0.078663</td>\n",
       "      <td>0.041715</td>\n",
       "      <td>0.001450</td>\n",
       "      <td>0.041096</td>\n",
       "    </tr>\n",
       "  </tbody>\n",
       "</table>\n",
       "</div>"
      ],
      "text/plain": [
       "                              HAS_EMAIL  BIRTH_YEAR  OUTLIER_HIGH  \\\n",
       "HAS_EMAIL                      1.000000    0.010204      0.006010   \n",
       "BIRTH_YEAR                     0.010204    1.000000      0.039800   \n",
       "OUTLIER_HIGH                   0.006010    0.039800      1.000000   \n",
       "OUTLIER_HIGH_2                 0.002546    0.011669      0.032708   \n",
       "HAS_MULTIPLE_PHONE_COUNTRIES   0.029785    0.005100      0.014760   \n",
       "\n",
       "                              OUTLIER_HIGH_2  HAS_MULTIPLE_PHONE_COUNTRIES  \\\n",
       "HAS_EMAIL                           0.002546                      0.029785   \n",
       "BIRTH_YEAR                          0.011669                      0.005100   \n",
       "OUTLIER_HIGH                        0.032708                      0.014760   \n",
       "OUTLIER_HIGH_2                      1.000000                      0.003944   \n",
       "HAS_MULTIPLE_PHONE_COUNTRIES        0.003944                      1.000000   \n",
       "\n",
       "                                AMOUNT  AMOUNT_USD  TERMS_VERSION_2017-02-02  \\\n",
       "HAS_EMAIL                     0.001176    0.003532                  0.004882   \n",
       "BIRTH_YEAR                    0.006580    0.035428                  0.009935   \n",
       "OUTLIER_HIGH                  0.014493    0.411499                  0.002053   \n",
       "OUTLIER_HIGH_2                0.363612    0.776776                  0.001707   \n",
       "HAS_MULTIPLE_PHONE_COUNTRIES  0.001307    0.012832                  0.042592   \n",
       "\n",
       "                              TERMS_VERSION_2018-01-01  \\\n",
       "HAS_EMAIL                                     0.011240   \n",
       "BIRTH_YEAR                                    0.022881   \n",
       "OUTLIER_HIGH                                  0.000702   \n",
       "OUTLIER_HIGH_2                                0.000831   \n",
       "HAS_MULTIPLE_PHONE_COUNTRIES                  0.006117   \n",
       "\n",
       "                              TERMS_VERSION_2018-01-13  \\\n",
       "HAS_EMAIL                                     0.001469   \n",
       "BIRTH_YEAR                                    0.041190   \n",
       "OUTLIER_HIGH                                  0.000864   \n",
       "OUTLIER_HIGH_2                                0.000228   \n",
       "HAS_MULTIPLE_PHONE_COUNTRIES                  0.031016   \n",
       "\n",
       "                              TERMS_VERSION_2018-03-20  \\\n",
       "HAS_EMAIL                                     0.010131   \n",
       "BIRTH_YEAR                                    0.012849   \n",
       "OUTLIER_HIGH                                  0.004495   \n",
       "OUTLIER_HIGH_2                                0.002500   \n",
       "HAS_MULTIPLE_PHONE_COUNTRIES                  0.049581   \n",
       "\n",
       "                              TERMS_VERSION_2018-05-25  \\\n",
       "HAS_EMAIL                                     0.026399   \n",
       "BIRTH_YEAR                                    0.000388   \n",
       "OUTLIER_HIGH                                  0.001984   \n",
       "OUTLIER_HIGH_2                                0.001345   \n",
       "HAS_MULTIPLE_PHONE_COUNTRIES                  0.002830   \n",
       "\n",
       "                              TERMS_VERSION_2018-09-20  KYC_NONE  KYC_PASSED  \\\n",
       "HAS_EMAIL                                     0.066403  0.284749    0.227754   \n",
       "BIRTH_YEAR                                    0.014592  0.020418    0.006557   \n",
       "OUTLIER_HIGH                                  0.000295  0.006636    0.008163   \n",
       "OUTLIER_HIGH_2                                0.002810  0.002143    0.000179   \n",
       "HAS_MULTIPLE_PHONE_COUNTRIES                  0.078663  0.041715    0.001450   \n",
       "\n",
       "                              KYC_PENDING  \n",
       "HAS_EMAIL                        0.001153  \n",
       "BIRTH_YEAR                       0.047744  \n",
       "OUTLIER_HIGH                     0.016221  \n",
       "OUTLIER_HIGH_2                   0.003909  \n",
       "HAS_MULTIPLE_PHONE_COUNTRIES     0.041096  "
      ]
     },
     "execution_count": 32,
     "metadata": {},
     "output_type": "execute_result"
    }
   ],
   "source": [
    "X_corr = X.corr().abs()\n",
    "X_corr.head()"
   ]
  },
  {
   "cell_type": "code",
   "execution_count": 33,
   "metadata": {},
   "outputs": [
    {
     "data": {
      "text/plain": [
       "<Axes: >"
      ]
     },
     "execution_count": 33,
     "metadata": {},
     "output_type": "execute_result"
    },
    {
     "data": {
      "image/png": "[encoded data removed]",
      "text/plain": [
       "<Figure size 640x480 with 2 Axes>"
      ]
     },
     "metadata": {},
     "output_type": "display_data"
    }
   ],
   "source": [
    "sns.heatmap(X_corr)"
   ]
  },
  {
   "cell_type": "code",
   "execution_count": 34,
   "metadata": {},
   "outputs": [],
   "source": [
    "# https://h1ros.github.io/posts/drop-highly-correlated-features/\n",
    "import numpy as np\n",
    "threshold = 0.9\n",
    "\n",
    "columns = np.full((X_corr.shape[0],), True, dtype=bool)\n",
    "for i in range(X_corr.shape[0]):\n",
    "    for j in range(i+1, X_corr.shape[0]):\n",
    "        if X_corr.iloc[i,j] >= threshold:\n",
    "            if columns[j]:\n",
    "                columns[j] = False\n",
    "selected_columns = X.columns[columns]\n",
    "selected_columns\n",
    "\n",
    "X = X[selected_columns]"
   ]
  },
  {
   "cell_type": "code",
   "execution_count": 35,
   "metadata": {},
   "outputs": [],
   "source": [
    "from sklearn.model_selection import train_test_split\n",
    "y = Y\n",
    "X_train, X_test, y_train, y_test = train_test_split(X, y, test_size=0.2, random_state=42)"
   ]
  },
  {
   "cell_type": "code",
   "execution_count": 36,
   "metadata": {},
   "outputs": [
    {
     "data": {
      "text/plain": [
       "Index(['HAS_EMAIL', 'BIRTH_YEAR', 'OUTLIER_HIGH', 'OUTLIER_HIGH_2',\n",
       "       'HAS_MULTIPLE_PHONE_COUNTRIES', 'AMOUNT', 'TERMS_VERSION_2017-02-02',\n",
       "       'TERMS_VERSION_2018-01-01', 'TERMS_VERSION_2018-01-13',\n",
       "       'TERMS_VERSION_2018-03-20', 'TERMS_VERSION_2018-05-25',\n",
       "       'TERMS_VERSION_2018-09-20', 'KYC_NONE', 'KYC_PASSED', 'KYC_PENDING'],\n",
       "      dtype='object')"
      ]
     },
     "execution_count": 36,
     "metadata": {},
     "output_type": "execute_result"
    }
   ],
   "source": [
    "X_train.columns"
   ]
  },
  {
   "cell_type": "code",
   "execution_count": 37,
   "metadata": {},
   "outputs": [
    {
     "ename": "KeyError",
     "evalue": "\"['AMOUNT_USD'] not in index\"",
     "output_type": "error",
     "traceback": [
      "\u001b[0;31m---------------------------------------------------------------------------\u001b[0m",
      "\u001b[0;31mKeyError\u001b[0m                                  Traceback (most recent call last)",
      "\u001b[1;32m/Users/jeschrader/code-port/shallow-algo-data-projects/1. Fraud Detection.ipynb Cell 38\u001b[0m line \u001b[0;36m3\n\u001b[1;32m      <a href='vscode-notebook-cell:/Users/jeschrader/code-port/shallow-algo-data-projects/1.%20Fraud%20Detection.ipynb#X53sZmlsZQ%3D%3D?line=0'>1</a>\u001b[0m \u001b[39mfrom\u001b[39;00m \u001b[39msklearn\u001b[39;00m\u001b[39m.\u001b[39;00m\u001b[39mpreprocessing\u001b[39;00m \u001b[39mimport\u001b[39;00m StandardScaler\n\u001b[1;32m      <a href='vscode-notebook-cell:/Users/jeschrader/code-port/shallow-algo-data-projects/1.%20Fraud%20Detection.ipynb#X53sZmlsZQ%3D%3D?line=1'>2</a>\u001b[0m scaler \u001b[39m=\u001b[39m StandardScaler()\n\u001b[0;32m----> <a href='vscode-notebook-cell:/Users/jeschrader/code-port/shallow-algo-data-projects/1.%20Fraud%20Detection.ipynb#X53sZmlsZQ%3D%3D?line=2'>3</a>\u001b[0m scaler\u001b[39m.\u001b[39mfit(X_train[[\u001b[39m\"\u001b[39;49m\u001b[39mAMOUNT\u001b[39;49m\u001b[39m\"\u001b[39;49m, \u001b[39m\"\u001b[39;49m\u001b[39mAMOUNT_USD\u001b[39;49m\u001b[39m\"\u001b[39;49m]])\n",
      "File \u001b[0;32m~/miniconda3/envs/sci-py-env/lib/python3.11/site-packages/pandas/core/frame.py:3767\u001b[0m, in \u001b[0;36mDataFrame.__getitem__\u001b[0;34m(self, key)\u001b[0m\n\u001b[1;32m   3765\u001b[0m     \u001b[39mif\u001b[39;00m is_iterator(key):\n\u001b[1;32m   3766\u001b[0m         key \u001b[39m=\u001b[39m \u001b[39mlist\u001b[39m(key)\n\u001b[0;32m-> 3767\u001b[0m     indexer \u001b[39m=\u001b[39m \u001b[39mself\u001b[39;49m\u001b[39m.\u001b[39;49mcolumns\u001b[39m.\u001b[39;49m_get_indexer_strict(key, \u001b[39m\"\u001b[39;49m\u001b[39mcolumns\u001b[39;49m\u001b[39m\"\u001b[39;49m)[\u001b[39m1\u001b[39m]\n\u001b[1;32m   3769\u001b[0m \u001b[39m# take() does not accept boolean indexers\u001b[39;00m\n\u001b[1;32m   3770\u001b[0m \u001b[39mif\u001b[39;00m \u001b[39mgetattr\u001b[39m(indexer, \u001b[39m\"\u001b[39m\u001b[39mdtype\u001b[39m\u001b[39m\"\u001b[39m, \u001b[39mNone\u001b[39;00m) \u001b[39m==\u001b[39m \u001b[39mbool\u001b[39m:\n",
      "File \u001b[0;32m~/miniconda3/envs/sci-py-env/lib/python3.11/site-packages/pandas/core/indexes/base.py:5877\u001b[0m, in \u001b[0;36mIndex._get_indexer_strict\u001b[0;34m(self, key, axis_name)\u001b[0m\n\u001b[1;32m   5874\u001b[0m \u001b[39melse\u001b[39;00m:\n\u001b[1;32m   5875\u001b[0m     keyarr, indexer, new_indexer \u001b[39m=\u001b[39m \u001b[39mself\u001b[39m\u001b[39m.\u001b[39m_reindex_non_unique(keyarr)\n\u001b[0;32m-> 5877\u001b[0m \u001b[39mself\u001b[39;49m\u001b[39m.\u001b[39;49m_raise_if_missing(keyarr, indexer, axis_name)\n\u001b[1;32m   5879\u001b[0m keyarr \u001b[39m=\u001b[39m \u001b[39mself\u001b[39m\u001b[39m.\u001b[39mtake(indexer)\n\u001b[1;32m   5880\u001b[0m \u001b[39mif\u001b[39;00m \u001b[39misinstance\u001b[39m(key, Index):\n\u001b[1;32m   5881\u001b[0m     \u001b[39m# GH 42790 - Preserve name from an Index\u001b[39;00m\n",
      "File \u001b[0;32m~/miniconda3/envs/sci-py-env/lib/python3.11/site-packages/pandas/core/indexes/base.py:5941\u001b[0m, in \u001b[0;36mIndex._raise_if_missing\u001b[0;34m(self, key, indexer, axis_name)\u001b[0m\n\u001b[1;32m   5938\u001b[0m     \u001b[39mraise\u001b[39;00m \u001b[39mKeyError\u001b[39;00m(\u001b[39mf\u001b[39m\u001b[39m\"\u001b[39m\u001b[39mNone of [\u001b[39m\u001b[39m{\u001b[39;00mkey\u001b[39m}\u001b[39;00m\u001b[39m] are in the [\u001b[39m\u001b[39m{\u001b[39;00maxis_name\u001b[39m}\u001b[39;00m\u001b[39m]\u001b[39m\u001b[39m\"\u001b[39m)\n\u001b[1;32m   5940\u001b[0m not_found \u001b[39m=\u001b[39m \u001b[39mlist\u001b[39m(ensure_index(key)[missing_mask\u001b[39m.\u001b[39mnonzero()[\u001b[39m0\u001b[39m]]\u001b[39m.\u001b[39munique())\n\u001b[0;32m-> 5941\u001b[0m \u001b[39mraise\u001b[39;00m \u001b[39mKeyError\u001b[39;00m(\u001b[39mf\u001b[39m\u001b[39m\"\u001b[39m\u001b[39m{\u001b[39;00mnot_found\u001b[39m}\u001b[39;00m\u001b[39m not in index\u001b[39m\u001b[39m\"\u001b[39m)\n",
      "\u001b[0;31mKeyError\u001b[0m: \"['AMOUNT_USD'] not in index\""
     ]
    }
   ],
   "source": [
    "from sklearn.preprocessing import StandardScaler\n",
    "scaler = StandardScaler()\n",
    "scaler.fit(X_train[[\"AMOUNT\", \"AMOUNT_USD\"]])"
   ]
  },
  {
   "cell_type": "code",
   "execution_count": null,
   "metadata": {},
   "outputs": [],
   "source": [
    "X_train[[\"AMOUNT\", \"AMOUNT_USD\"]] = scaler.transform(X_train[[\"AMOUNT\", \"AMOUNT_USD\"]])\n",
    "X_test[[\"AMOUNT\", \"AMOUNT_USD\"]] = scaler.transform(X_test[[\"AMOUNT\", \"AMOUNT_USD\"]])"
   ]
  },
  {
   "cell_type": "code",
   "execution_count": null,
   "metadata": {},
   "outputs": [
    {
     "data": {
      "text/html": [
       "<div>\n",
       "<style scoped>\n",
       "    .dataframe tbody tr th:only-of-type {\n",
       "        vertical-align: middle;\n",
       "    }\n",
       "\n",
       "    .dataframe tbody tr th {\n",
       "        vertical-align: top;\n",
       "    }\n",
       "\n",
       "    .dataframe thead th {\n",
       "        text-align: right;\n",
       "    }\n",
       "</style>\n",
       "<table border=\"1\" class=\"dataframe\">\n",
       "  <thead>\n",
       "    <tr style=\"text-align: right;\">\n",
       "      <th></th>\n",
       "      <th>AMOUNT</th>\n",
       "      <th>AMOUNT_USD</th>\n",
       "    </tr>\n",
       "  </thead>\n",
       "  <tbody>\n",
       "    <tr>\n",
       "      <th>count</th>\n",
       "      <td>5.109930e+05</td>\n",
       "      <td>5.109930e+05</td>\n",
       "    </tr>\n",
       "    <tr>\n",
       "      <th>mean</th>\n",
       "      <td>5.909683e-19</td>\n",
       "      <td>-2.989604e-18</td>\n",
       "    </tr>\n",
       "    <tr>\n",
       "      <th>std</th>\n",
       "      <td>1.000001e+00</td>\n",
       "      <td>1.000001e+00</td>\n",
       "    </tr>\n",
       "    <tr>\n",
       "      <th>min</th>\n",
       "      <td>-1.314640e-02</td>\n",
       "      <td>-9.217558e-02</td>\n",
       "    </tr>\n",
       "    <tr>\n",
       "      <th>25%</th>\n",
       "      <td>-1.296059e-02</td>\n",
       "      <td>-8.657169e-02</td>\n",
       "    </tr>\n",
       "    <tr>\n",
       "      <th>50%</th>\n",
       "      <td>-1.259217e-02</td>\n",
       "      <td>-7.754159e-02</td>\n",
       "    </tr>\n",
       "    <tr>\n",
       "      <th>75%</th>\n",
       "      <td>-1.115276e-02</td>\n",
       "      <td>-4.595074e-02</td>\n",
       "    </tr>\n",
       "    <tr>\n",
       "      <th>max</th>\n",
       "      <td>3.588418e+02</td>\n",
       "      <td>2.381765e+02</td>\n",
       "    </tr>\n",
       "  </tbody>\n",
       "</table>\n",
       "</div>"
      ],
      "text/plain": [
       "             AMOUNT    AMOUNT_USD\n",
       "count  5.109930e+05  5.109930e+05\n",
       "mean   5.909683e-19 -2.989604e-18\n",
       "std    1.000001e+00  1.000001e+00\n",
       "min   -1.314640e-02 -9.217558e-02\n",
       "25%   -1.296059e-02 -8.657169e-02\n",
       "50%   -1.259217e-02 -7.754159e-02\n",
       "75%   -1.115276e-02 -4.595074e-02\n",
       "max    3.588418e+02  2.381765e+02"
      ]
     },
     "execution_count": 89,
     "metadata": {},
     "output_type": "execute_result"
    }
   ],
   "source": [
    "X_train[[\"AMOUNT\", \"AMOUNT_USD\"]].describe()"
   ]
  },
  {
   "cell_type": "code",
   "execution_count": null,
   "metadata": {},
   "outputs": [],
   "source": [
    "\n",
    "\n",
    "from sklearn.linear_model import LogisticRegression\n",
    "linear = LogisticRegression(max_iter=1000)\n",
    "linear.fit(X_train, y_train)\n",
    "y_pred = linear.predict(X_test) \n",
    "\n"
   ]
  },
  {
   "cell_type": "code",
   "execution_count": null,
   "metadata": {},
   "outputs": [
    {
     "data": {
      "text/plain": [
       "False    127327\n",
       "True        422\n",
       "Name: count, dtype: int64"
      ]
     },
     "execution_count": 92,
     "metadata": {},
     "output_type": "execute_result"
    }
   ],
   "source": [
    "res = pd.DataFrame(y_pred)\n",
    "res.value_counts()"
   ]
  },
  {
   "cell_type": "code",
   "execution_count": null,
   "metadata": {},
   "outputs": [
    {
     "data": {
      "text/plain": [
       "0.981111398132275"
      ]
     },
     "execution_count": 93,
     "metadata": {},
     "output_type": "execute_result"
    }
   ],
   "source": [
    "linear.score(X_test, y_test)"
   ]
  },
  {
   "cell_type": "code",
   "execution_count": null,
   "metadata": {},
   "outputs": [
    {
     "name": "stdout",
     "output_type": "stream",
     "text": [
      "y_pred: False    127327\n",
      "True        422\n",
      "Name: count, dtype: int64\n",
      "y_test: IS_FRAUDSTER\n",
      "False    124990\n",
      "True       2759\n",
      "Name: count, dtype: int64\n",
      "testing accuracy 0.981111398132275\n"
     ]
    }
   ],
   "source": [
    "from sklearn.metrics import accuracy_score\n",
    "print(\"y_pred:\", res.value_counts())\n",
    "\n",
    "print(\"y_test:\", y_test.value_counts())\n",
    "print(\"testing accuracy\",accuracy_score(y_test, linear.predict(X_test)))\n"
   ]
  },
  {
   "cell_type": "code",
   "execution_count": null,
   "metadata": {},
   "outputs": [],
   "source": [
    "y_train_num = y_train.copy().map({True: 1, False: 0})\n",
    "y_test_num = y_test.copy().map({True: 1, False: 0})\n",
    "\n"
   ]
  },
  {
   "cell_type": "code",
   "execution_count": null,
   "metadata": {},
   "outputs": [
    {
     "data": {
      "text/plain": [
       "IS_FRAUDSTER\n",
       "0    124990\n",
       "1      2759\n",
       "Name: count, dtype: int64"
      ]
     },
     "execution_count": 108,
     "metadata": {},
     "output_type": "execute_result"
    }
   ],
   "source": [
    "y_test_num.value_counts()"
   ]
  },
  {
   "cell_type": "code",
   "execution_count": null,
   "metadata": {},
   "outputs": [],
   "source": [
    "\n",
    "from sklearn.linear_model import LogisticRegressionCV\n",
    "clf = LogisticRegressionCV()\n",
    "clf.fit(X_train, y_train_num)\n",
    "LR_predictions = clf.predict(X_test)\n"
   ]
  },
  {
   "cell_type": "code",
   "execution_count": null,
   "metadata": {},
   "outputs": [
    {
     "name": "stdout",
     "output_type": "stream",
     "text": [
      "0    127339\n",
      "1       410\n",
      "Name: count, dtype: int64\n",
      "IS_FRAUDSTER\n",
      "0    124990\n",
      "1      2759\n",
      "Name: count, dtype: int64\n",
      "Accuracy of logistic regression: 98 % (percentage of correctly labelled datapoints)\n"
     ]
    }
   ],
   "source": [
    "print(pd.DataFrame(LR_predictions).value_counts())\n",
    "print(y_test_num.value_counts())\n",
    "print ('Accuracy of logistic regression: %d ' % float((np.dot(y_test_num,LR_predictions) + np.dot(1-y_test_num,1-LR_predictions))/float(y_test.size)*100) +\n",
    "           '% ' + \"(percentage of correctly labelled datapoints)\")\n"
   ]
  },
  {
   "cell_type": "code",
   "execution_count": null,
   "metadata": {},
   "outputs": [],
   "source": [
    "zipped = np.column_stack((LR_predictions, np.array(y_test_num)))\n"
   ]
  },
  {
   "cell_type": "code",
   "execution_count": null,
   "metadata": {},
   "outputs": [
    {
     "name": "stdout",
     "output_type": "stream",
     "text": [
      "TP: 378\n",
      "FP: 32\n",
      "FN: 2381\n"
     ]
    }
   ],
   "source": [
    "df_z = pd.DataFrame(zipped)\n",
    "TP = df_z[(df_z[0] == 1) & (df_z[1] == 1)]\n",
    "FP = df_z[(df_z[0] == 1) & (df_z[1] == 0)]\n",
    "FN = df_z[(df_z[0] == 0) & (df_z[1] == 1)]\n",
    "\n",
    "tp_c = TP.shape[0]\n",
    "fp_c = FP.shape[0]\n",
    "fn_c = FN.shape[0]\n",
    "\n",
    "print('TP:', TP.shape[0])\n",
    "print('FP:', FP.shape[0])\n",
    "print('FN:', FN.shape[0])"
   ]
  },
  {
   "cell_type": "code",
   "execution_count": null,
   "metadata": {},
   "outputs": [
    {
     "name": "stdout",
     "output_type": "stream",
     "text": [
      "Precision:  0.9219512195121952\n",
      "Recall:  0.13700616165277274\n",
      "F1 Score:  0.23856106027137897\n"
     ]
    }
   ],
   "source": [
    "precision = tp_c/(fp_c + tp_c)\n",
    "recall = tp_c/(tp_c + fn_c)\n",
    "f1_score = 2 * (precision * recall) / (precision + recall)  \n",
    "print(\"Precision: \", precision)\n",
    "print(\"Recall: \", recall)\n",
    "print(\"F1 Score: \", f1_score) "
   ]
  },
  {
   "cell_type": "code",
   "execution_count": null,
   "metadata": {},
   "outputs": [],
   "source": [
    "\n"
   ]
  },
  {
   "cell_type": "code",
   "execution_count": null,
   "metadata": {},
   "outputs": [
    {
     "name": "stdout",
     "output_type": "stream",
     "text": [
      "0.04269286412722763\n",
      "0.01787471174387349\n",
      "0.13369634155007193\n"
     ]
    }
   ],
   "source": [
    "from sklearn.metrics import mean_absolute_error,mean_squared_error\n",
    "mae = mean_absolute_error(y_true=y_test,y_pred=y_pred)\n",
    "mse = mean_squared_error(y_true=y_test,y_pred=y_pred)\n",
    "rmse = mean_squared_error(y_true=y_test,y_pred=y_pred,squared=False)\n",
    "\n",
    "print('MAE: ', mae)\n",
    "print('MSE: ', mse)\n",
    "print('RMSE: ', rmse)\n"
   ]
  },
  {
   "cell_type": "code",
   "execution_count": null,
   "metadata": {},
   "outputs": [
    {
     "data": {
      "text/plain": [
       "0.1540842778592323"
      ]
     },
     "execution_count": 45,
     "metadata": {},
     "output_type": "execute_result"
    }
   ],
   "source": [
    "linear.score(X_test, y_test)"
   ]
  },
  {
   "cell_type": "code",
   "execution_count": null,
   "metadata": {},
   "outputs": [
    {
     "name": "stdout",
     "output_type": "stream",
     "text": [
      "[ 4.75739399e-02  5.21106070e-04  9.81591822e-02 -3.59271927e-02\n",
      "  2.48587848e-02  2.49643667e-04  1.31549113e-03  1.79518703e-01\n",
      "  7.66184461e-02  4.71992524e-02  7.04435737e-02  2.68292844e-02\n",
      "  9.13323933e-03  8.65658843e-02 -1.90928608e-01 -1.49420378e-01\n",
      "  5.77998936e-01]\n",
      "-0.9541591533078517\n",
      "['HAS_EMAIL' 'BIRTH_YEAR' 'OUTLIER_HIGH' 'OUTLIER_HIGH_2'\n",
      " 'HAS_MULTIPLE_PHONE_COUNTRIES' 'AMOUNT' 'AMOUNT_USD'\n",
      " 'TERMS_VERSION_2017-02-02' 'TERMS_VERSION_2018-01-01'\n",
      " 'TERMS_VERSION_2018-01-13' 'TERMS_VERSION_2018-03-20'\n",
      " 'TERMS_VERSION_2018-05-25' 'TERMS_VERSION_2018-09-20'\n",
      " 'TERMS_VERSION_missing' 'KYC_NONE' 'KYC_PASSED' 'KYC_PENDING']\n"
     ]
    }
   ],
   "source": [
    "print(linear.coef_)\n",
    "print(linear.intercept_)\n",
    "print(linear.feature_names_in_)"
   ]
  },
  {
   "cell_type": "code",
   "execution_count": null,
   "metadata": {},
   "outputs": [
    {
     "data": {
      "text/html": [
       "<div>\n",
       "<style scoped>\n",
       "    .dataframe tbody tr th:only-of-type {\n",
       "        vertical-align: middle;\n",
       "    }\n",
       "\n",
       "    .dataframe tbody tr th {\n",
       "        vertical-align: top;\n",
       "    }\n",
       "\n",
       "    .dataframe thead th {\n",
       "        text-align: right;\n",
       "    }\n",
       "</style>\n",
       "<table border=\"1\" class=\"dataframe\">\n",
       "  <thead>\n",
       "    <tr style=\"text-align: right;\">\n",
       "      <th></th>\n",
       "      <th>0</th>\n",
       "      <th>1</th>\n",
       "      <th>2</th>\n",
       "      <th>3</th>\n",
       "      <th>4</th>\n",
       "      <th>5</th>\n",
       "      <th>6</th>\n",
       "      <th>7</th>\n",
       "      <th>8</th>\n",
       "      <th>9</th>\n",
       "      <th>10</th>\n",
       "      <th>11</th>\n",
       "      <th>12</th>\n",
       "      <th>13</th>\n",
       "      <th>14</th>\n",
       "      <th>15</th>\n",
       "    </tr>\n",
       "  </thead>\n",
       "  <tbody>\n",
       "    <tr>\n",
       "      <th>0</th>\n",
       "      <td>17553.641544</td>\n",
       "      <td>30730.972777</td>\n",
       "      <td>-13.796094</td>\n",
       "      <td>0.833599</td>\n",
       "      <td>-0.329737</td>\n",
       "      <td>-0.307956</td>\n",
       "      <td>-0.062843</td>\n",
       "      <td>0.010509</td>\n",
       "      <td>-0.010547</td>\n",
       "      <td>-0.010540</td>\n",
       "      <td>-0.006430</td>\n",
       "      <td>-0.002836</td>\n",
       "      <td>0.023190</td>\n",
       "      <td>0.000009</td>\n",
       "      <td>-0.000809</td>\n",
       "      <td>-0.001122</td>\n",
       "    </tr>\n",
       "    <tr>\n",
       "      <th>1</th>\n",
       "      <td>-7463.312820</td>\n",
       "      <td>14634.292269</td>\n",
       "      <td>-13.872144</td>\n",
       "      <td>0.833377</td>\n",
       "      <td>-0.331596</td>\n",
       "      <td>-0.308082</td>\n",
       "      <td>-0.062916</td>\n",
       "      <td>0.010634</td>\n",
       "      <td>-0.010501</td>\n",
       "      <td>-0.010548</td>\n",
       "      <td>-0.006666</td>\n",
       "      <td>-0.002763</td>\n",
       "      <td>0.016093</td>\n",
       "      <td>-0.000576</td>\n",
       "      <td>-0.000780</td>\n",
       "      <td>-0.001151</td>\n",
       "    </tr>\n",
       "    <tr>\n",
       "      <th>2</th>\n",
       "      <td>-30263.401475</td>\n",
       "      <td>-4441.722968</td>\n",
       "      <td>-13.962083</td>\n",
       "      <td>0.833117</td>\n",
       "      <td>-0.333797</td>\n",
       "      <td>-0.308228</td>\n",
       "      <td>-0.063002</td>\n",
       "      <td>0.010782</td>\n",
       "      <td>-0.010447</td>\n",
       "      <td>-0.010557</td>\n",
       "      <td>-0.006946</td>\n",
       "      <td>-0.002676</td>\n",
       "      <td>0.007685</td>\n",
       "      <td>-0.001268</td>\n",
       "      <td>-0.000745</td>\n",
       "      <td>-0.001184</td>\n",
       "    </tr>\n",
       "    <tr>\n",
       "      <th>3</th>\n",
       "      <td>-31294.345980</td>\n",
       "      <td>-5338.638475</td>\n",
       "      <td>-13.966311</td>\n",
       "      <td>0.833105</td>\n",
       "      <td>-0.333900</td>\n",
       "      <td>-0.308235</td>\n",
       "      <td>-0.063006</td>\n",
       "      <td>0.010789</td>\n",
       "      <td>-0.010444</td>\n",
       "      <td>-0.010558</td>\n",
       "      <td>-0.006960</td>\n",
       "      <td>-0.002672</td>\n",
       "      <td>0.007290</td>\n",
       "      <td>-0.001300</td>\n",
       "      <td>-0.000743</td>\n",
       "      <td>-0.001186</td>\n",
       "    </tr>\n",
       "    <tr>\n",
       "      <th>4</th>\n",
       "      <td>-31484.619504</td>\n",
       "      <td>-5598.438371</td>\n",
       "      <td>-13.967532</td>\n",
       "      <td>0.833101</td>\n",
       "      <td>-0.333930</td>\n",
       "      <td>-0.308237</td>\n",
       "      <td>-0.063007</td>\n",
       "      <td>0.010791</td>\n",
       "      <td>-0.010443</td>\n",
       "      <td>-0.010558</td>\n",
       "      <td>-0.006963</td>\n",
       "      <td>-0.002671</td>\n",
       "      <td>0.007176</td>\n",
       "      <td>-0.001310</td>\n",
       "      <td>-0.000743</td>\n",
       "      <td>-0.001186</td>\n",
       "    </tr>\n",
       "    <tr>\n",
       "      <th>...</th>\n",
       "      <td>...</td>\n",
       "      <td>...</td>\n",
       "      <td>...</td>\n",
       "      <td>...</td>\n",
       "      <td>...</td>\n",
       "      <td>...</td>\n",
       "      <td>...</td>\n",
       "      <td>...</td>\n",
       "      <td>...</td>\n",
       "      <td>...</td>\n",
       "      <td>...</td>\n",
       "      <td>...</td>\n",
       "      <td>...</td>\n",
       "      <td>...</td>\n",
       "      <td>...</td>\n",
       "      <td>...</td>\n",
       "    </tr>\n",
       "    <tr>\n",
       "      <th>638737</th>\n",
       "      <td>-31884.937115</td>\n",
       "      <td>-5900.017361</td>\n",
       "      <td>13.031200</td>\n",
       "      <td>0.176619</td>\n",
       "      <td>-0.547464</td>\n",
       "      <td>0.238231</td>\n",
       "      <td>0.980318</td>\n",
       "      <td>-0.216182</td>\n",
       "      <td>-0.264441</td>\n",
       "      <td>-0.017541</td>\n",
       "      <td>-0.110556</td>\n",
       "      <td>-0.024749</td>\n",
       "      <td>-0.000260</td>\n",
       "      <td>0.018869</td>\n",
       "      <td>-0.012062</td>\n",
       "      <td>-0.004795</td>\n",
       "    </tr>\n",
       "    <tr>\n",
       "      <th>638738</th>\n",
       "      <td>-31158.363947</td>\n",
       "      <td>-5355.781722</td>\n",
       "      <td>13.033768</td>\n",
       "      <td>0.176626</td>\n",
       "      <td>-0.547401</td>\n",
       "      <td>0.238235</td>\n",
       "      <td>0.980320</td>\n",
       "      <td>-0.216186</td>\n",
       "      <td>-0.264442</td>\n",
       "      <td>-0.017540</td>\n",
       "      <td>-0.110549</td>\n",
       "      <td>-0.024751</td>\n",
       "      <td>-0.000020</td>\n",
       "      <td>0.018889</td>\n",
       "      <td>-0.012063</td>\n",
       "      <td>-0.004794</td>\n",
       "    </tr>\n",
       "    <tr>\n",
       "      <th>638739</th>\n",
       "      <td>-32127.129574</td>\n",
       "      <td>-6082.762573</td>\n",
       "      <td>13.030338</td>\n",
       "      <td>0.176616</td>\n",
       "      <td>-0.547485</td>\n",
       "      <td>0.238230</td>\n",
       "      <td>0.980317</td>\n",
       "      <td>-0.216181</td>\n",
       "      <td>-0.264440</td>\n",
       "      <td>-0.017541</td>\n",
       "      <td>-0.110559</td>\n",
       "      <td>-0.024748</td>\n",
       "      <td>-0.000340</td>\n",
       "      <td>0.018862</td>\n",
       "      <td>-0.012062</td>\n",
       "      <td>-0.004795</td>\n",
       "    </tr>\n",
       "    <tr>\n",
       "      <th>638740</th>\n",
       "      <td>-31484.511104</td>\n",
       "      <td>-5495.438367</td>\n",
       "      <td>-26.966813</td>\n",
       "      <td>0.738736</td>\n",
       "      <td>0.647524</td>\n",
       "      <td>-0.129597</td>\n",
       "      <td>-0.022860</td>\n",
       "      <td>-0.004460</td>\n",
       "      <td>-0.012319</td>\n",
       "      <td>-0.011286</td>\n",
       "      <td>-0.003679</td>\n",
       "      <td>0.005071</td>\n",
       "      <td>0.007020</td>\n",
       "      <td>0.012827</td>\n",
       "      <td>0.001588</td>\n",
       "      <td>-0.001398</td>\n",
       "    </tr>\n",
       "    <tr>\n",
       "      <th>638741</th>\n",
       "      <td>-32385.317814</td>\n",
       "      <td>-6261.490762</td>\n",
       "      <td>-26.970424</td>\n",
       "      <td>0.738726</td>\n",
       "      <td>0.647436</td>\n",
       "      <td>-0.129603</td>\n",
       "      <td>-0.022864</td>\n",
       "      <td>-0.004454</td>\n",
       "      <td>-0.012317</td>\n",
       "      <td>-0.011287</td>\n",
       "      <td>-0.003690</td>\n",
       "      <td>0.005075</td>\n",
       "      <td>0.006683</td>\n",
       "      <td>0.012799</td>\n",
       "      <td>0.001589</td>\n",
       "      <td>-0.001399</td>\n",
       "    </tr>\n",
       "  </tbody>\n",
       "</table>\n",
       "<p>638742 rows × 16 columns</p>\n",
       "</div>"
      ],
      "text/plain": [
       "                  0             1          2         3         4         5   \\\n",
       "0       17553.641544  30730.972777 -13.796094  0.833599 -0.329737 -0.307956   \n",
       "1       -7463.312820  14634.292269 -13.872144  0.833377 -0.331596 -0.308082   \n",
       "2      -30263.401475  -4441.722968 -13.962083  0.833117 -0.333797 -0.308228   \n",
       "3      -31294.345980  -5338.638475 -13.966311  0.833105 -0.333900 -0.308235   \n",
       "4      -31484.619504  -5598.438371 -13.967532  0.833101 -0.333930 -0.308237   \n",
       "...              ...           ...        ...       ...       ...       ...   \n",
       "638737 -31884.937115  -5900.017361  13.031200  0.176619 -0.547464  0.238231   \n",
       "638738 -31158.363947  -5355.781722  13.033768  0.176626 -0.547401  0.238235   \n",
       "638739 -32127.129574  -6082.762573  13.030338  0.176616 -0.547485  0.238230   \n",
       "638740 -31484.511104  -5495.438367 -26.966813  0.738736  0.647524 -0.129597   \n",
       "638741 -32385.317814  -6261.490762 -26.970424  0.738726  0.647436 -0.129603   \n",
       "\n",
       "              6         7         8         9         10        11        12  \\\n",
       "0      -0.062843  0.010509 -0.010547 -0.010540 -0.006430 -0.002836  0.023190   \n",
       "1      -0.062916  0.010634 -0.010501 -0.010548 -0.006666 -0.002763  0.016093   \n",
       "2      -0.063002  0.010782 -0.010447 -0.010557 -0.006946 -0.002676  0.007685   \n",
       "3      -0.063006  0.010789 -0.010444 -0.010558 -0.006960 -0.002672  0.007290   \n",
       "4      -0.063007  0.010791 -0.010443 -0.010558 -0.006963 -0.002671  0.007176   \n",
       "...          ...       ...       ...       ...       ...       ...       ...   \n",
       "638737  0.980318 -0.216182 -0.264441 -0.017541 -0.110556 -0.024749 -0.000260   \n",
       "638738  0.980320 -0.216186 -0.264442 -0.017540 -0.110549 -0.024751 -0.000020   \n",
       "638739  0.980317 -0.216181 -0.264440 -0.017541 -0.110559 -0.024748 -0.000340   \n",
       "638740 -0.022860 -0.004460 -0.012319 -0.011286 -0.003679  0.005071  0.007020   \n",
       "638741 -0.022864 -0.004454 -0.012317 -0.011287 -0.003690  0.005075  0.006683   \n",
       "\n",
       "              13        14        15  \n",
       "0       0.000009 -0.000809 -0.001122  \n",
       "1      -0.000576 -0.000780 -0.001151  \n",
       "2      -0.001268 -0.000745 -0.001184  \n",
       "3      -0.001300 -0.000743 -0.001186  \n",
       "4      -0.001310 -0.000743 -0.001186  \n",
       "...          ...       ...       ...  \n",
       "638737  0.018869 -0.012062 -0.004795  \n",
       "638738  0.018889 -0.012063 -0.004794  \n",
       "638739  0.018862 -0.012062 -0.004795  \n",
       "638740  0.012827  0.001588 -0.001398  \n",
       "638741  0.012799  0.001589 -0.001399  \n",
       "\n",
       "[638742 rows x 16 columns]"
      ]
     },
     "execution_count": 49,
     "metadata": {},
     "output_type": "execute_result"
    }
   ],
   "source": [
    "# check multi-collinearity\n",
    "from sklearn.decomposition import PCA\n",
    "pca = PCA(n_components=X.shape[1] - 1)\n",
    "df_pca = pd.DataFrame(pca.fit_transform(X))\n",
    "df_pca.head()\n"
   ]
  },
  {
   "cell_type": "code",
   "execution_count": null,
   "metadata": {},
   "outputs": [
    {
     "data": {
      "image/png": "[encoded data removed]",
      "text/plain": [
       "<Figure size 900x300 with 2 Axes>"
      ]
     },
     "metadata": {},
     "output_type": "display_data"
    }
   ],
   "source": [
    "fig, axes = plt.subplots(1, 2, figsize=(9, 3))\n",
    "axes[0].plot(pca.explained_variance_);\n",
    "axes[0].set_title('Explained Variance')\n",
    "axes[1].plot(np.cumsum(pca.explained_variance_ratio_));\n",
    "axes[1].axhline(y=0.95, c='r', ls='-.')\n",
    "axes[1].set_title('Cumulative Explained Variance Ratio')\n",
    "plt.tight_layout()"
   ]
  },
  {
   "cell_type": "code",
   "execution_count": null,
   "metadata": {},
   "outputs": [],
   "source": [
    "pca = PCA(n_components=2, copy=True, whiten=False, tol=0.0)\n",
    "pca.fit(X)\n",
    "X_pca = pca.transform(X)\n"
   ]
  },
  {
   "cell_type": "code",
   "execution_count": null,
   "metadata": {},
   "outputs": [],
   "source": [
    "X_train, X_test, y_train, y_test = train_test_split(X_pca, y, test_size=0.2, random_state=42)\n",
    "\n"
   ]
  },
  {
   "cell_type": "code",
   "execution_count": null,
   "metadata": {},
   "outputs": [
    {
     "data": {
      "text/plain": [
       "(510993,)"
      ]
     },
     "execution_count": 60,
     "metadata": {},
     "output_type": "execute_result"
    }
   ],
   "source": [
    "y_train.shape"
   ]
  },
  {
   "cell_type": "code",
   "execution_count": null,
   "metadata": {},
   "outputs": [],
   "source": [
    "pca_linear = LinearRegression()\n",
    "pca_linear.fit(X_train, y_train)\n",
    "y_pred = pca_linear.predict(X_test)"
   ]
  },
  {
   "cell_type": "code",
   "execution_count": null,
   "metadata": {},
   "outputs": [
    {
     "data": {
      "text/plain": [
       "IS_FRAUDSTER\n",
       "False    124990\n",
       "True       2759\n",
       "Name: count, dtype: int64"
      ]
     },
     "execution_count": 75,
     "metadata": {},
     "output_type": "execute_result"
    }
   ],
   "source": [
    "y_test.value_counts()"
   ]
  },
  {
   "cell_type": "code",
   "execution_count": null,
   "metadata": {},
   "outputs": [],
   "source": [
    "y_pred = pd.DataFrame(y_pred)\n",
    "y_pred_pca = y_pred[y_pred[0] > .1]"
   ]
  },
  {
   "cell_type": "code",
   "execution_count": null,
   "metadata": {},
   "outputs": [
    {
     "data": {
      "text/plain": [
       "0.807761    14\n",
       "0.807763    11\n",
       "0.802552     7\n",
       "0.819715     6\n",
       "0.180045     5\n",
       "            ..\n",
       "0.171787     1\n",
       "0.171713     1\n",
       "0.171711     1\n",
       "0.171626     1\n",
       "0.914429     1\n",
       "Name: count, Length: 1791, dtype: int64"
      ]
     },
     "execution_count": 84,
     "metadata": {},
     "output_type": "execute_result"
    }
   ],
   "source": [
    "y_pred_pca.value_counts()"
   ]
  },
  {
   "cell_type": "code",
   "execution_count": null,
   "metadata": {},
   "outputs": [],
   "source": []
  },
  {
   "cell_type": "code",
   "execution_count": null,
   "metadata": {},
   "outputs": [
    {
     "name": "stdout",
     "output_type": "stream",
     "text": [
      "4.2562862611172925e-05\n",
      "MAE:  0.042455205029876396\n",
      "MSE:  0.021129706514662627\n",
      "RMSE:  0.14536060853842978\n"
     ]
    }
   ],
   "source": [
    "from sklearn.metrics import mean_squared_error\n",
    "from sklearn.metrics import mean_absolute_error\n",
    "mse = mean_squared_error(y_test, y_pred)\n",
    "rmse = mean_squared_error(y_test, y_pred, squared=False)\n",
    "mae = mean_absolute_error(y_test, y_pred)\n",
    "\n",
    "print(pca_linear.score(X_test, y_test))\n",
    "print('MAE: ', mae)\n",
    "print('MSE: ', mse)\n",
    "print('RMSE: ', rmse)"
   ]
  },
  {
   "cell_type": "code",
   "execution_count": null,
   "metadata": {},
   "outputs": [],
   "source": [
    "X_train, X_test, y_train, y_test = train_test_split(X, y, test_size=0.2, random_state=42)"
   ]
  },
  {
   "cell_type": "code",
   "execution_count": null,
   "metadata": {},
   "outputs": [
    {
     "data": {
      "text/html": [
       "<style>#sk-container-id-2 {color: black;}#sk-container-id-2 pre{padding: 0;}#sk-container-id-2 div.sk-toggleable {background-color: white;}#sk-container-id-2 label.sk-toggleable__label {cursor: pointer;display: block;width: 100%;margin-bottom: 0;padding: 0.3em;box-sizing: border-box;text-align: center;}#sk-container-id-2 label.sk-toggleable__label-arrow:before {content: \"▸\";float: left;margin-right: 0.25em;color: #696969;}#sk-container-id-2 label.sk-toggleable__label-arrow:hover:before {color: black;}#sk-container-id-2 div.sk-estimator:hover label.sk-toggleable__label-arrow:before {color: black;}#sk-container-id-2 div.sk-toggleable__content {max-height: 0;max-width: 0;overflow: hidden;text-align: left;background-color: #f0f8ff;}#sk-container-id-2 div.sk-toggleable__content pre {margin: 0.2em;color: black;border-radius: 0.25em;background-color: #f0f8ff;}#sk-container-id-2 input.sk-toggleable__control:checked~div.sk-toggleable__content {max-height: 200px;max-width: 100%;overflow: auto;}#sk-container-id-2 input.sk-toggleable__control:checked~label.sk-toggleable__label-arrow:before {content: \"▾\";}#sk-container-id-2 div.sk-estimator input.sk-toggleable__control:checked~label.sk-toggleable__label {background-color: #d4ebff;}#sk-container-id-2 div.sk-label input.sk-toggleable__control:checked~label.sk-toggleable__label {background-color: #d4ebff;}#sk-container-id-2 input.sk-hidden--visually {border: 0;clip: rect(1px 1px 1px 1px);clip: rect(1px, 1px, 1px, 1px);height: 1px;margin: -1px;overflow: hidden;padding: 0;position: absolute;width: 1px;}#sk-container-id-2 div.sk-estimator {font-family: monospace;background-color: #f0f8ff;border: 1px dotted black;border-radius: 0.25em;box-sizing: border-box;margin-bottom: 0.5em;}#sk-container-id-2 div.sk-estimator:hover {background-color: #d4ebff;}#sk-container-id-2 div.sk-parallel-item::after {content: \"\";width: 100%;border-bottom: 1px solid gray;flex-grow: 1;}#sk-container-id-2 div.sk-label:hover label.sk-toggleable__label {background-color: #d4ebff;}#sk-container-id-2 div.sk-serial::before {content: \"\";position: absolute;border-left: 1px solid gray;box-sizing: border-box;top: 0;bottom: 0;left: 50%;z-index: 0;}#sk-container-id-2 div.sk-serial {display: flex;flex-direction: column;align-items: center;background-color: white;padding-right: 0.2em;padding-left: 0.2em;position: relative;}#sk-container-id-2 div.sk-item {position: relative;z-index: 1;}#sk-container-id-2 div.sk-parallel {display: flex;align-items: stretch;justify-content: center;background-color: white;position: relative;}#sk-container-id-2 div.sk-item::before, #sk-container-id-2 div.sk-parallel-item::before {content: \"\";position: absolute;border-left: 1px solid gray;box-sizing: border-box;top: 0;bottom: 0;left: 50%;z-index: -1;}#sk-container-id-2 div.sk-parallel-item {display: flex;flex-direction: column;z-index: 1;position: relative;background-color: white;}#sk-container-id-2 div.sk-parallel-item:first-child::after {align-self: flex-end;width: 50%;}#sk-container-id-2 div.sk-parallel-item:last-child::after {align-self: flex-start;width: 50%;}#sk-container-id-2 div.sk-parallel-item:only-child::after {width: 0;}#sk-container-id-2 div.sk-dashed-wrapped {border: 1px dashed gray;margin: 0 0.4em 0.5em 0.4em;box-sizing: border-box;padding-bottom: 0.4em;background-color: white;}#sk-container-id-2 div.sk-label label {font-family: monospace;font-weight: bold;display: inline-block;line-height: 1.2em;}#sk-container-id-2 div.sk-label-container {text-align: center;}#sk-container-id-2 div.sk-container {/* jupyter's `normalize.less` sets `[hidden] { display: none; }` but bootstrap.min.css set `[hidden] { display: none !important; }` so we also need the `!important` here to be able to override the default hidden behavior on the sphinx rendered scikit-learn.org. See: https://github.com/scikit-learn/scikit-learn/issues/21755 */display: inline-block !important;position: relative;}#sk-container-id-2 div.sk-text-repr-fallback {display: none;}</style><div id=\"sk-container-id-2\" class=\"sk-top-container\"><div class=\"sk-text-repr-fallback\"><pre>RandomForestClassifier()</pre><b>In a Jupyter environment, please rerun this cell to show the HTML representation or trust the notebook. <br />On GitHub, the HTML representation is unable to render, please try loading this page with nbviewer.org.</b></div><div class=\"sk-container\" hidden><div class=\"sk-item\"><div class=\"sk-estimator sk-toggleable\"><input class=\"sk-toggleable__control sk-hidden--visually\" id=\"sk-estimator-id-2\" type=\"checkbox\" checked><label for=\"sk-estimator-id-2\" class=\"sk-toggleable__label sk-toggleable__label-arrow\">RandomForestClassifier</label><div class=\"sk-toggleable__content\"><pre>RandomForestClassifier()</pre></div></div></div></div></div>"
      ],
      "text/plain": [
       "RandomForestClassifier()"
      ]
     },
     "execution_count": 65,
     "metadata": {},
     "output_type": "execute_result"
    }
   ],
   "source": [
    "from sklearn.tree import DecisionTreeClassifier\n",
    "from sklearn.ensemble import RandomForestClassifier\n",
    "\n",
    "tree_model = DecisionTreeClassifier()\n",
    "rf_model = RandomForestClassifier()\n",
    "\n",
    "tree_model.fit(X_train, y_train)\n",
    "rf_model.fit(X_train, y_train)"
   ]
  },
  {
   "cell_type": "code",
   "execution_count": null,
   "metadata": {},
   "outputs": [
    {
     "name": "stdout",
     "output_type": "stream",
     "text": [
      "Decision Tree training accuracy 0.9970312704870713\n",
      "Random Forest training accuracy 0.9970195286432495\n"
     ]
    }
   ],
   "source": [
    "from sklearn.metrics import accuracy_score\n",
    "print(\"Decision Tree training accuracy\",accuracy_score(y_train, tree_model.predict(X_train)))\n",
    "print(\"Random Forest training accuracy\",accuracy_score(y_train, rf_model.predict(X_train)))"
   ]
  },
  {
   "cell_type": "code",
   "execution_count": null,
   "metadata": {},
   "outputs": [
    {
     "name": "stdout",
     "output_type": "stream",
     "text": [
      "Decision Tree testing accuracy 0.9828178694158075\n",
      "Random Forest testing accuracy 0.9861603613335526\n"
     ]
    }
   ],
   "source": [
    "from sklearn.metrics import accuracy_score\n",
    "print(\"Decision Tree testing accuracy\",accuracy_score(y_test, tree_model.predict(X_test)))\n",
    "print(\"Random Forest testing accuracy\",accuracy_score(y_test, rf_model.predict(X_test)))"
   ]
  },
  {
   "cell_type": "code",
   "execution_count": null,
   "metadata": {},
   "outputs": [],
   "source": [
    "y_pred = rf_model.predict(X_test)"
   ]
  },
  {
   "cell_type": "code",
   "execution_count": null,
   "metadata": {},
   "outputs": [
    {
     "data": {
      "text/plain": [
       "False    125614\n",
       "True       2135\n",
       "Name: count, dtype: int64"
      ]
     },
     "execution_count": 71,
     "metadata": {},
     "output_type": "execute_result"
    }
   ],
   "source": [
    "res = pd.DataFrame(y_pred)\n",
    "res.value_counts()"
   ]
  },
  {
   "cell_type": "code",
   "execution_count": null,
   "metadata": {},
   "outputs": [
    {
     "data": {
      "text/plain": [
       "IS_FRAUDSTER\n",
       "False    124990\n",
       "True       2759\n",
       "Name: count, dtype: int64"
      ]
     },
     "execution_count": 72,
     "metadata": {},
     "output_type": "execute_result"
    }
   ],
   "source": [
    "y_test.value_counts()"
   ]
  }
 ],
 "metadata": {
  "kernelspec": {
   "display_name": "sci-py-env",
   "language": "python",
   "name": "python3"
  },
  "language_info": {
   "codemirror_mode": {
    "name": "ipython",
    "version": 3
   },
   "file_extension": ".py",
   "mimetype": "text/x-python",
   "name": "python",
   "nbconvert_exporter": "python",
   "pygments_lexer": "ipython3",
   "version": "3.11.4"
  },
  "orig_nbformat": 4
 },
 "nbformat": 4,
 "nbformat_minor": 2
}
