{
 "cells": [
  {
   "cell_type": "code",
   "execution_count": 133,
   "metadata": {},
   "outputs": [],
   "source": [
    "import os\n",
    "import pandas as pd\n",
    "import pickle\n",
    "import matplotlib.pyplot as plt\n",
    "import gzip\n",
    "import numpy as np\n",
    "import seaborn as sns\n",
    "import itertools\n",
    "from IPython.display import Markdown, display\n",
    "from mpl_toolkits.mplot3d import axes3d, Axes3D\n",
    "%matplotlib inline\n",
    "\n",
    "sns.set()\n",
    "\n",
    "from sklearn.linear_model import LogisticRegression\n",
    "from sklearn.linear_model import SGDClassifier\n",
    "from sklearn.ensemble import RandomForestClassifier\n",
    "from sklearn.ensemble import GradientBoostingClassifier\n",
    "from sklearn.tree import DecisionTreeClassifier\n",
    "from sklearn.neural_network import MLPClassifier\n",
    "\n",
    "from sklearn.model_selection import train_test_split\n",
    "from sklearn.model_selection import cross_val_score\n",
    "from sklearn.model_selection import cross_val_predict\n",
    "\n",
    "from sklearn.metrics import roc_auc_score\n",
    "from sklearn.metrics import accuracy_score\n",
    "from sklearn.metrics import precision_score, recall_score\n",
    "from sklearn.metrics import precision_recall_curve\n",
    "from sklearn.metrics import f1_score\n",
    "from sklearn.metrics import roc_curve, auc\n",
    "from sklearn.metrics import confusion_matrix, classification_report\n",
    "\n",
    "from sklearn import decomposition\n",
    "from sklearn.discriminant_analysis import LinearDiscriminantAnalysis as LDA\n",
    "\n",
    "from sklearn.preprocessing import StandardScaler"
   ]
  },
  {
   "cell_type": "code",
   "execution_count": 134,
   "metadata": {},
   "outputs": [
    {
     "name": "stdout",
     "output_type": "stream",
     "text": [
      "ID,HAS_EMAIL,PHONE_COUNTRY,IS_FRAUDSTER,TERMS_VERSION,CREATED_DATE,STATE,COUNTRY,BIRTH_YEAR,KYC,FAILED_SIGN_IN_ATTEMPTS\n",
      "\n",
      "1872820f-e3ac-4c02-bdc7-727897b60043,1,GB||JE||IM||GG,False,2018-05-25,2017-08-06 07:33:33.341000,ACTIVE,GB,1971,PASSED,0\n",
      "\n",
      "545ff94d-66f8-4bea-b398-84425fb2301e,1,GB||JE||IM||GG,False,2018-01-01,2017-03-07 10:18:59.427000,ACTIVE,GB,1982,PASSED,0\n",
      "\n",
      "10376f1a-a28a-4885-8daa-c8ca496026bb,1,ES,False,2018-09-20,2018-05-31 04:41:24.672000,ACTIVE,ES,1973,PASSED,0\n",
      "\n",
      "fd308db7-0753-4377-879f-6ecf2af14e4f,1,FR,False,2018-05-25,2018-06-01 17:24:23.852000,ACTIVE,FR,1986,PASSED,0\n",
      "\n"
     ]
    }
   ],
   "source": [
    "n = 5\n",
    "with open('data/users.csv') as lines:\n",
    "  for i in range(n):\n",
    "    print(next(lines))"
   ]
  },
  {
   "cell_type": "code",
   "execution_count": 135,
   "metadata": {},
   "outputs": [],
   "source": [
    "users = pd.read_csv('data/users.csv')"
   ]
  },
  {
   "cell_type": "code",
   "execution_count": 136,
   "metadata": {},
   "outputs": [
    {
     "name": "stdout",
     "output_type": "stream",
     "text": [
      "CURRENCY,AMOUNT,STATE,CREATED_DATE,MERCHANT_CATEGORY,MERCHANT_COUNTRY,ENTRY_METHOD,USER_ID,TYPE,SOURCE,ID,AMOUNT_USD\n",
      "\n",
      "GBP,4420,COMPLETED,2017-12-10 16:38:55.577,,NLD,chip,3ff52b92-d416-4e22-8cad-018f500d4bbc,ATM,GAIA,367bf5f9-7cce-4683-90b9-d3c011bf4c87,3268.0\n",
      "\n",
      "PLN,1500,COMPLETED,2017-12-10 16:37:24.792,point_of_interest,POL,manu,76cbaad3-4721-4a3b-92b9-3eb9e9319565,CARD_PAYMENT,GAIA,ff6802b9-360d-4efe-b09b-f99c6cac3383,\n",
      "\n",
      "GBP,191,COMPLETED,2017-12-10 16:37:16.234,airport,PRT,chip,7bcaa34e-b889-4582-9c29-0b3bab34fb8c,CARD_PAYMENT,GAIA,ddb4a930-7d8a-4f38-9079-ddc4b0db980e,141.0\n",
      "\n",
      "GBP,10000,COMPLETED,2017-12-10 16:34:42.592,,,misc,b3a6762b-a940-4459-bb1d-8e28e151f901,TOPUP,HERA,080ef0be-850a-4f14-ab03-28ff68e6b797,7394.0\n",
      "\n"
     ]
    }
   ],
   "source": [
    "n = 5\n",
    "with open('./data/transactions.csv') as transactions:\n",
    "  for _ in range(n):\n",
    "    print(next(transactions))"
   ]
  },
  {
   "cell_type": "code",
   "execution_count": 137,
   "metadata": {},
   "outputs": [],
   "source": [
    "tr = pd.read_csv('./data/transactions.csv')"
   ]
  },
  {
   "cell_type": "markdown",
   "metadata": {},
   "source": [
    "### Exploratory Data Analysis and Cleaning"
   ]
  },
  {
   "cell_type": "markdown",
   "metadata": {},
   "source": [
    "Looking at:\n",
    "Structure: \n",
    "  - Reasonable. Loads correctly.\n",
    "\n",
    "Granularity: \n",
    "  - Transactions is at the individual transaction.  There are multiple per user.\n",
    "  - User is at the user level.  Single per user.\n",
    "  - When we merge the two data files, the merged data file takes on the granularity of the transaction\n",
    "\n",
    "Scope:\n",
    " - test\n",
    "\n",
    "Temporality:\n",
    " - test\n",
    "\n",
    "Faithfulness:\n",
    " - I'll walk through each field in the next block to examine if the data looks reasonable and if not, how to address it.\n",
    "\n"
   ]
  },
  {
   "cell_type": "markdown",
   "metadata": {},
   "source": [
    "### EDA and Faithfulness\n",
    "We'll look at the User dataset first.\n",
    "\n",
    "If I don't mention missing values, it will be because there are none and so nothing to address.  The number of missing values will be seen by the following `.info()` call.\n",
    "\n",
    "We can actually see that only the `Terms_Version` field has missing values. We will look into the nature of these."
   ]
  },
  {
   "cell_type": "code",
   "execution_count": 138,
   "metadata": {},
   "outputs": [
    {
     "name": "stdout",
     "output_type": "stream",
     "text": [
      "<class 'pandas.core.frame.DataFrame'>\n",
      "RangeIndex: 9944 entries, 0 to 9943\n",
      "Data columns (total 11 columns):\n",
      " #   Column                   Non-Null Count  Dtype \n",
      "---  ------                   --------------  ----- \n",
      " 0   ID                       9944 non-null   object\n",
      " 1   HAS_EMAIL                9944 non-null   int64 \n",
      " 2   PHONE_COUNTRY            9944 non-null   object\n",
      " 3   IS_FRAUDSTER             9944 non-null   bool  \n",
      " 4   TERMS_VERSION            8417 non-null   object\n",
      " 5   CREATED_DATE             9944 non-null   object\n",
      " 6   STATE                    9944 non-null   object\n",
      " 7   COUNTRY                  9944 non-null   object\n",
      " 8   BIRTH_YEAR               9944 non-null   int64 \n",
      " 9   KYC                      9944 non-null   object\n",
      " 10  FAILED_SIGN_IN_ATTEMPTS  9944 non-null   int64 \n",
      "dtypes: bool(1), int64(3), object(7)\n",
      "memory usage: 786.7+ KB\n"
     ]
    }
   ],
   "source": [
    "users.info()"
   ]
  },
  {
   "cell_type": "markdown",
   "metadata": {},
   "source": [
    "Notes: Id\n",
    "  - It is unique(no counts>1) and so leads me to believe that the granularity of the dataset is at the user level."
   ]
  },
  {
   "cell_type": "code",
   "execution_count": 139,
   "metadata": {},
   "outputs": [
    {
     "data": {
      "text/plain": [
       "1"
      ]
     },
     "execution_count": 139,
     "metadata": {},
     "output_type": "execute_result"
    }
   ],
   "source": [
    "users['ID'].value_counts().max()"
   ]
  },
  {
   "cell_type": "markdown",
   "metadata": {},
   "source": [
    "## Explore the distributions of each variable in the Users Table"
   ]
  },
  {
   "cell_type": "code",
   "execution_count": 140,
   "metadata": {},
   "outputs": [
    {
     "name": "stdout",
     "output_type": "stream",
     "text": [
      "Value counts for 'PHONE_COUNTRY':\n",
      "PHONE_COUNTRY\n",
      "GB||JE||IM||GG    4302\n",
      "FR                1309\n",
      "PL                 672\n",
      "LT                 492\n",
      "ES                 411\n",
      "                  ... \n",
      "CO                   1\n",
      "GE                   1\n",
      "OM                   1\n",
      "AD                   1\n",
      "CR                   1\n",
      "Name: count, Length: 83, dtype: int64\n",
      "\n",
      "Value counts for 'IS_FRAUDSTER':\n",
      "IS_FRAUDSTER\n",
      "False    9646\n",
      "True      298\n",
      "Name: count, dtype: int64\n",
      "\n",
      "Value counts for 'TERMS_VERSION':\n",
      "TERMS_VERSION\n",
      "2018-05-25    3393\n",
      "2018-09-20    2109\n",
      "2018-03-20    2048\n",
      "2018-01-13     440\n",
      "2018-01-01     232\n",
      "2017-01-16     121\n",
      "2017-02-02      74\n",
      "Name: count, dtype: int64\n",
      "\n",
      "Value counts for 'CREATED_DATE':\n",
      "CREATED_DATE\n",
      "2017-08-06 07:33:33.341000    1\n",
      "2018-03-16 14:40:22.272000    1\n",
      "2018-07-11 19:04:55.634000    1\n",
      "2018-03-08 18:11:53.408000    1\n",
      "2016-09-29 18:06:48.830000    1\n",
      "                             ..\n",
      "2016-05-06 12:53:19.909000    1\n",
      "2018-04-27 05:10:31.563000    1\n",
      "2018-07-01 17:54:56.665000    1\n",
      "2017-08-14 12:21:12.018000    1\n",
      "2017-12-10 15:40:42.304000    1\n",
      "Name: count, Length: 9944, dtype: int64\n",
      "\n",
      "Value counts for 'STATE':\n",
      "STATE\n",
      "ACTIVE    9646\n",
      "LOCKED     298\n",
      "Name: count, dtype: int64\n",
      "\n",
      "Value counts for 'COUNTRY':\n",
      "COUNTRY\n",
      "GB    4437\n",
      "FR    1322\n",
      "PL     666\n",
      "LT     491\n",
      "IE     413\n",
      "ES     393\n",
      "GR     287\n",
      "RO     220\n",
      "DE     219\n",
      "CH     184\n",
      "IT     143\n",
      "PT     142\n",
      "NL     122\n",
      "CZ     110\n",
      "BE      90\n",
      "MT      89\n",
      "LV      73\n",
      "HU      72\n",
      "BG      60\n",
      "SI      55\n",
      "CY      50\n",
      "SE      47\n",
      "DK      37\n",
      "GI      36\n",
      "NO      31\n",
      "AT      30\n",
      "SK      23\n",
      "HR      20\n",
      "EE      17\n",
      "FI      17\n",
      "JE      13\n",
      "LU       9\n",
      "IS       5\n",
      "GG       4\n",
      "RE       3\n",
      "RU       3\n",
      "MK       2\n",
      "MC       1\n",
      "GF       1\n",
      "GP       1\n",
      "ID       1\n",
      "LI       1\n",
      "IM       1\n",
      "AR       1\n",
      "AD       1\n",
      "AU       1\n",
      "Name: count, dtype: int64\n",
      "\n",
      "Value counts for 'KYC':\n",
      "KYC\n",
      "PASSED     6969\n",
      "NONE       2631\n",
      "FAILED      270\n",
      "PENDING      74\n",
      "Name: count, dtype: int64\n",
      "\n",
      "Value counts for 'HAS_EMAIL':\n",
      "HAS_EMAIL\n",
      "1    9414\n",
      "0     530\n",
      "Name: count, dtype: int64\n",
      "\n",
      "Value counts for 'BIRTH_YEAR':\n",
      "BIRTH_YEAR\n",
      "1990    510\n",
      "1991    478\n",
      "1988    446\n",
      "1989    431\n",
      "1993    429\n",
      "       ... \n",
      "1935      1\n",
      "1937      1\n",
      "1928      1\n",
      "1930      1\n",
      "1927      1\n",
      "Name: count, Length: 69, dtype: int64\n",
      "\n",
      "Value counts for 'FAILED_SIGN_IN_ATTEMPTS':\n",
      "FAILED_SIGN_IN_ATTEMPTS\n",
      "0    9895\n",
      "1      25\n",
      "2      20\n",
      "3       3\n",
      "6       1\n",
      "Name: count, dtype: int64\n",
      "\n"
     ]
    }
   ],
   "source": [
    "columns = [c for c in users.select_dtypes(include=['object', 'bool']) if c != 'ID']\n",
    "columns.extend([c for c in users.select_dtypes(include=['int64']) if c != 'ID'])\n",
    "for column in columns:\n",
    "    print(f\"Value counts for '{column}':\")\n",
    "    print(users[column].value_counts())\n",
    "    print()\n",
    "\n"
   ]
  },
  {
   "cell_type": "markdown",
   "metadata": {},
   "source": [
    "### Notes on data distributions dump\n",
    "  - Has_email: A boolean in the form of 1/0.\n",
    "  - Phone_Country: The highest number by far belongs to `GB...GG`.  It may be interesting to split these out into single countries or otherwise look into this field.\n",
    "  - Terms_Version: We have a limited number of versions and then about 1000 who have no value.  I will make the assumption that those users have never received or signed a \"Terms\" agreement rather than that this missing data is just invalid.\n",
    "  - Failed_sign-in-Attempts: A very few have greater than 1\n",
    "  - KYC: This looks like it may be an interesting field\n",
    "```\n",
    "PASSED     6969\n",
    "NONE       2631\n",
    "FAILED      270\n",
    "PENDING      74\n",
    "\n",
    "```\n",
    "  - State: This looks like it may be an interesting field\n",
    "```\n",
    "  ACTIVE    9646\n",
    "  LOCKED     298\n",
    "```\n"
   ]
  },
  {
   "cell_type": "markdown",
   "metadata": {},
   "source": [
    "Notes: Created_Date\n",
    "\n",
    "This will be transformed into a date time.  The value does have both a date and a time.  I'll split it into two fields.  It is possible that there is some relevant information in the time at which the account was created."
   ]
  },
  {
   "cell_type": "code",
   "execution_count": 141,
   "metadata": {},
   "outputs": [],
   "source": [
    "users['DT_CREATED_DATETIME'] = pd.to_datetime(users['CREATED_DATE'])\n",
    "users['DT_CREATED_DATE'] = users['DT_CREATED_DATETIME'].dt.date\n",
    "users['DT_CREATED_TIME'] = users['DT_CREATED_DATETIME'].dt.time\n"
   ]
  },
  {
   "cell_type": "code",
   "execution_count": 142,
   "metadata": {},
   "outputs": [
    {
     "data": {
      "image/png": "[encoded data removed]",
      "text/plain": [
       "<Figure size 640x480 with 1 Axes>"
      ]
     },
     "metadata": {},
     "output_type": "display_data"
    }
   ],
   "source": [
    "plt.hist(users['DT_CREATED_DATE'])\n",
    "plt.xticks(rotation=90)\n",
    "plt.subplots_adjust(bottom=0.15)\n",
    "plt.show()\n"
   ]
  },
  {
   "cell_type": "markdown",
   "metadata": {},
   "source": [
    "### Exploration of Transaction table"
   ]
  },
  {
   "cell_type": "code",
   "execution_count": 143,
   "metadata": {},
   "outputs": [
    {
     "name": "stdout",
     "output_type": "stream",
     "text": [
      "<class 'pandas.core.frame.DataFrame'>\n",
      "RangeIndex: 688651 entries, 0 to 688650\n",
      "Data columns (total 12 columns):\n",
      " #   Column             Non-Null Count   Dtype  \n",
      "---  ------             --------------   -----  \n",
      " 0   CURRENCY           688651 non-null  object \n",
      " 1   AMOUNT             688651 non-null  int64  \n",
      " 2   STATE              688651 non-null  object \n",
      " 3   CREATED_DATE       688651 non-null  object \n",
      " 4   MERCHANT_CATEGORY  223065 non-null  object \n",
      " 5   MERCHANT_COUNTRY   483055 non-null  object \n",
      " 6   ENTRY_METHOD       688651 non-null  object \n",
      " 7   USER_ID            688651 non-null  object \n",
      " 8   TYPE               688651 non-null  object \n",
      " 9   SOURCE             688651 non-null  object \n",
      " 10  ID                 688651 non-null  object \n",
      " 11  AMOUNT_USD         635328 non-null  float64\n",
      "dtypes: float64(1), int64(1), object(10)\n",
      "memory usage: 63.0+ MB\n"
     ]
    }
   ],
   "source": [
    "tr.info()"
   ]
  },
  {
   "cell_type": "code",
   "execution_count": 144,
   "metadata": {},
   "outputs": [
    {
     "data": {
      "text/plain": [
       "0    2017-12-10 16:38:55.577\n",
       "1    2017-12-10 16:37:24.792\n",
       "2    2017-12-10 16:37:16.234\n",
       "3    2017-12-10 16:34:42.592\n",
       "4     2017-12-10 16:34:17.88\n",
       "Name: CREATED_DATE, dtype: object"
      ]
     },
     "execution_count": 144,
     "metadata": {},
     "output_type": "execute_result"
    }
   ],
   "source": [
    "tr['CREATED_DATE'].head()"
   ]
  },
  {
   "cell_type": "code",
   "execution_count": 145,
   "metadata": {},
   "outputs": [],
   "source": [
    "tr['DT_CREATED_DATE'] = pd.to_datetime(tr['CREATED_DATE'], format='mixed').dt.date"
   ]
  },
  {
   "cell_type": "code",
   "execution_count": 146,
   "metadata": {},
   "outputs": [
    {
     "data": {
      "text/plain": [
       "0    2017-12-10\n",
       "1    2017-12-10\n",
       "2    2017-12-10\n",
       "3    2017-12-10\n",
       "4    2017-12-10\n",
       "Name: DT_CREATED_DATE, dtype: object"
      ]
     },
     "execution_count": 146,
     "metadata": {},
     "output_type": "execute_result"
    }
   ],
   "source": [
    "tr['DT_CREATED_DATE'].head()"
   ]
  },
  {
   "cell_type": "code",
   "execution_count": 147,
   "metadata": {},
   "outputs": [
    {
     "name": "stdout",
     "output_type": "stream",
     "text": [
      "Value counts for 'CURRENCY':\n",
      "CURRENCY\n",
      "GBP    339091\n",
      "EUR    264695\n",
      "USD     31542\n",
      "PLN     22362\n",
      "RON      5837\n",
      "CHF      5761\n",
      "NOK      2602\n",
      "AUD      2110\n",
      "DKK      1711\n",
      "SEK      1579\n",
      "CZK      1507\n",
      "CAD      1463\n",
      "HUF      1446\n",
      "ZAR      1126\n",
      "AED       847\n",
      "JPY       733\n",
      "NZD       717\n",
      "THB       690\n",
      "ILS       522\n",
      "SGD       487\n",
      "HKD       480\n",
      "TRY       338\n",
      "BTC       283\n",
      "INR       207\n",
      "ETH       197\n",
      "LTC       137\n",
      "MAD       115\n",
      "XRP        38\n",
      "QAR        28\n",
      "Name: count, dtype: int64\n",
      "\n",
      "Value counts for 'STATE':\n",
      "STATE\n",
      "COMPLETED    584507\n",
      "DECLINED      45635\n",
      "REVERTED      38663\n",
      "FAILED        16763\n",
      "PENDING        2477\n",
      "CANCELLED       515\n",
      "RECORDED         91\n",
      "Name: count, dtype: int64\n",
      "\n",
      "Value counts for 'MERCHANT_CATEGORY':\n",
      "MERCHANT_CATEGORY\n",
      "point_of_interest      38809\n",
      "supermarket            30546\n",
      "restaurant             23815\n",
      "cafe                   13138\n",
      "bar                    13032\n",
      "                       ...  \n",
      "archipelago                3\n",
      "intersection               1\n",
      "sublocality_level_3        1\n",
      "physiotherapist            1\n",
      "cemetery                   1\n",
      "Name: count, Length: 115, dtype: int64\n",
      "\n",
      "Value counts for 'MERCHANT_COUNTRY':\n",
      "MERCHANT_COUNTRY\n",
      "GBR    146200\n",
      "USA     46050\n",
      "FRA     28980\n",
      "IRL     26196\n",
      "LTU     25597\n",
      "        ...  \n",
      "185         1\n",
      "539         1\n",
      "DZA         1\n",
      "074         1\n",
      "DNP         1\n",
      "Name: count, Length: 344, dtype: int64\n",
      "\n",
      "Value counts for 'ENTRY_METHOD':\n",
      "ENTRY_METHOD\n",
      "misc    227362\n",
      "chip    183662\n",
      "cont    160872\n",
      "manu     93952\n",
      "mags     22311\n",
      "mcon       492\n",
      "Name: count, dtype: int64\n",
      "\n",
      "Value counts for 'TYPE':\n",
      "TYPE\n",
      "CARD_PAYMENT     436570\n",
      "TOPUP            132561\n",
      "P2P               56338\n",
      "ATM               47324\n",
      "BANK_TRANSFER     15858\n",
      "Name: count, dtype: int64\n",
      "\n",
      "Value counts for 'SOURCE':\n",
      "SOURCE\n",
      "GAIA        483831\n",
      "HERA        116081\n",
      "INTERNAL     56407\n",
      "MINOS        11056\n",
      "LETO          6935\n",
      "CRONUS        6139\n",
      "NYX           5178\n",
      "OPHION        1278\n",
      "LIMOS          961\n",
      "APOLLO         784\n",
      "BRIZO            1\n",
      "Name: count, dtype: int64\n",
      "\n",
      "Value counts for 'DT_CREATED_DATE':\n",
      "DT_CREATED_DATE\n",
      "2018-07-27    3824\n",
      "2018-07-20    3565\n",
      "2018-06-29    3523\n",
      "2018-07-28    3406\n",
      "2018-07-26    3311\n",
      "              ... \n",
      "2015-04-30       1\n",
      "2015-03-03       1\n",
      "2015-03-05       1\n",
      "2015-07-18       1\n",
      "2015-07-08       1\n",
      "Name: count, Length: 1118, dtype: int64\n",
      "\n",
      "Value counts for 'AMOUNT':\n",
      "AMOUNT\n",
      "100       26878\n",
      "1000      24401\n",
      "10000     19996\n",
      "5000      17126\n",
      "2000      16722\n",
      "          ...  \n",
      "123910        1\n",
      "28337         1\n",
      "360800        1\n",
      "42808         1\n",
      "24144         1\n",
      "Name: count, Length: 32257, dtype: int64\n",
      "\n"
     ]
    }
   ],
   "source": [
    "columns = [c for c in tr.select_dtypes(include=['object', 'bool']) if c not in ['ID', 'USER_ID', 'CREATED_DATE']]\n",
    "columns.extend([c for c in tr.select_dtypes(include=['int64']) if c != ['AMOUNT','AMOUNT_USD']])\n",
    "for column in columns:\n",
    "    print(f\"Value counts for '{column}':\")\n",
    "    print(tr[column].value_counts())\n",
    "    print()"
   ]
  },
  {
   "cell_type": "markdown",
   "metadata": {},
   "source": [
    "## Relationships Between Factors and Target Variable"
   ]
  },
  {
   "cell_type": "code",
   "execution_count": 148,
   "metadata": {},
   "outputs": [
    {
     "name": "stderr",
     "output_type": "stream",
     "text": [
      "/Users/jeschrader/miniconda3/envs/sci-py-env/lib/python3.11/site-packages/seaborn/axisgrid.py:118: UserWarning: The figure layout has changed to tight\n",
      "  self._figure.tight_layout(*args, **kwargs)\n"
     ]
    },
    {
     "data": {
      "text/plain": [
       "<seaborn.axisgrid.PairGrid at 0x15641e390>"
      ]
     },
     "execution_count": 148,
     "metadata": {},
     "output_type": "execute_result"
    },
    {
     "data": {
      "image/png": "[encoded data removed]",
      "text/plain": [
       "<Figure size 888.472x750 with 12 Axes>"
      ]
     },
     "metadata": {},
     "output_type": "display_data"
    }
   ],
   "source": [
    "sns.pairplot(users, hue='IS_FRAUDSTER')"
   ]
  },
  {
   "cell_type": "code",
   "execution_count": 149,
   "metadata": {},
   "outputs": [
    {
     "name": "stdout",
     "output_type": "stream",
     "text": [
      "Pivot for 'HAS_EMAIL' against IS_FRAUDSTER\n",
      "HAS_EMAIL       0     1\n",
      "IS_FRAUDSTER           \n",
      "False         529  9117\n",
      "True            1   297\n",
      "\n",
      "Pivot for 'PHONE_COUNTRY' against IS_FRAUDSTER\n",
      "PHONE_COUNTRY   AD   AE   AL   AR    AT   AZ    BE    BG  BL||MF||GP   BN  \\\n",
      "IS_FRAUDSTER                                                                \n",
      "False          1.0  3.0  2.0  4.0  30.0  1.0  86.0  61.0         3.0  1.0   \n",
      "True           NaN  NaN  NaN  NaN   NaN  NaN   NaN   NaN         NaN  NaN   \n",
      "\n",
      "PHONE_COUNTRY  ...    SK   SN  TF||RE||YT    TH   TR   TW   UA  US||PR||CA  \\\n",
      "IS_FRAUDSTER   ...                                                           \n",
      "False          ...  22.0  1.0         3.0  10.0  5.0  1.0  4.0        18.0   \n",
      "True           ...   NaN  NaN         NaN   NaN  NaN  NaN  NaN         2.0   \n",
      "\n",
      "PHONE_COUNTRY   VN   ZA  \n",
      "IS_FRAUDSTER             \n",
      "False          2.0  6.0  \n",
      "True           NaN  NaN  \n",
      "\n",
      "[2 rows x 83 columns]\n",
      "\n",
      "Pivot for 'TERMS_VERSION' against IS_FRAUDSTER\n",
      "TERMS_VERSION  2017-01-16  2017-02-02  2018-01-01  2018-01-13  2018-03-20  \\\n",
      "IS_FRAUDSTER                                                                \n",
      "False               121.0        66.0       220.0       434.0      1934.0   \n",
      "True                  NaN         8.0        12.0         6.0       114.0   \n",
      "\n",
      "TERMS_VERSION  2018-05-25  2018-09-20  \n",
      "IS_FRAUDSTER                           \n",
      "False              3302.0      2109.0  \n",
      "True                 91.0         NaN  \n",
      "\n",
      "Pivot for 'STATE' against IS_FRAUDSTER\n",
      "STATE         ACTIVE  LOCKED\n",
      "IS_FRAUDSTER                \n",
      "False         9646.0     NaN\n",
      "True             NaN   298.0\n",
      "\n",
      "Pivot for 'COUNTRY' against IS_FRAUDSTER\n",
      "COUNTRY        AD   AR    AT   AU    BE    BG     CH    CY     CZ     DE  ...  \\\n",
      "IS_FRAUDSTER                                                              ...   \n",
      "False         1.0  1.0  30.0  1.0  89.0  60.0  184.0  50.0  109.0  218.0  ...   \n",
      "True          NaN  NaN   NaN  NaN   1.0   NaN    NaN   NaN    1.0    1.0  ...   \n",
      "\n",
      "COUNTRY          NL    NO     PL     PT   RE     RO   RU    SE    SI    SK  \n",
      "IS_FRAUDSTER                                                                \n",
      "False         121.0  31.0  664.0  142.0  3.0  216.0  3.0  47.0  55.0  23.0  \n",
      "True            1.0   NaN    2.0    NaN  NaN    4.0  NaN   NaN   NaN   NaN  \n",
      "\n",
      "[2 rows x 46 columns]\n",
      "\n",
      "Pivot for 'BIRTH_YEAR' against IS_FRAUDSTER\n",
      "BIRTH_YEAR    1927  1928  1929  1930  1931  1935  1936  1937  1940  1941  ...  \\\n",
      "IS_FRAUDSTER                                                              ...   \n",
      "False          1.0   1.0   1.0   1.0   2.0   1.0   NaN   1.0   2.0   3.0  ...   \n",
      "True           NaN   NaN   NaN   NaN   NaN   NaN   1.0   NaN   NaN   NaN  ...   \n",
      "\n",
      "BIRTH_YEAR     1991   1992   1993   1994   1995   1996   1997   1998   1999  \\\n",
      "IS_FRAUDSTER                                                                  \n",
      "False         456.0  415.0  412.0  400.0  342.0  274.0  246.0  216.0  165.0   \n",
      "True           22.0   14.0   17.0   10.0   13.0   10.0   13.0   15.0    9.0   \n",
      "\n",
      "BIRTH_YEAR    2000  \n",
      "IS_FRAUDSTER        \n",
      "False         53.0  \n",
      "True           4.0  \n",
      "\n",
      "[2 rows x 69 columns]\n",
      "\n",
      "Pivot for 'KYC' against IS_FRAUDSTER\n",
      "KYC           FAILED  NONE  PASSED  PENDING\n",
      "IS_FRAUDSTER                               \n",
      "False            248  2630    6710       58\n",
      "True              22     1     259       16\n",
      "\n",
      "Pivot for 'FAILED_SIGN_IN_ATTEMPTS' against IS_FRAUDSTER\n",
      "FAILED_SIGN_IN_ATTEMPTS       0     1     2    3    6\n",
      "IS_FRAUDSTER                                         \n",
      "False                    9600.0  24.0  18.0  3.0  1.0\n",
      "True                      295.0   1.0   2.0  NaN  NaN\n",
      "\n",
      "Pivot for 'DT_CREATED_DATE' against IS_FRAUDSTER\n",
      "DT_CREATED_DATE  2016-01-03  2016-01-04  2016-01-05  2016-01-06  2016-01-07  \\\n",
      "IS_FRAUDSTER                                                                  \n",
      "False                   3.0         4.0         2.0         5.0         3.0   \n",
      "True                    NaN         NaN         NaN         NaN         NaN   \n",
      "\n",
      "DT_CREATED_DATE  2016-01-08  2016-01-09  2016-01-10  2016-01-11  2016-01-13  \\\n",
      "IS_FRAUDSTER                                                                  \n",
      "False                   2.0         4.0         1.0         1.0         4.0   \n",
      "True                    NaN         NaN         NaN         NaN         NaN   \n",
      "\n",
      "DT_CREATED_DATE  ...  2018-07-22  2018-07-23  2018-07-24  2018-07-25  \\\n",
      "IS_FRAUDSTER     ...                                                   \n",
      "False            ...        32.0        22.0        27.0        31.0   \n",
      "True             ...         NaN         NaN         NaN         NaN   \n",
      "\n",
      "DT_CREATED_DATE  2018-07-26  2018-07-27  2018-07-28  2018-07-29  2018-07-30  \\\n",
      "IS_FRAUDSTER                                                                  \n",
      "False                  24.0        21.0        27.0        16.0        29.0   \n",
      "True                    NaN         NaN         NaN         NaN         NaN   \n",
      "\n",
      "DT_CREATED_DATE  2018-07-31  \n",
      "IS_FRAUDSTER                 \n",
      "False                  18.0  \n",
      "True                    NaN  \n",
      "\n",
      "[2 rows x 930 columns]\n",
      "\n"
     ]
    }
   ],
   "source": [
    "columns = [c for c in users.columns if c not in ['ID', 'IS_FRAUDSTER', 'CREATED_DATE', 'DT_CREATED_DATETIME', 'DT_CREATED_TIME']]\n",
    "for column in columns:\n",
    "    print(f\"Pivot for '{column}' against IS_FRAUDSTER\")\n",
    "    pivoted_df = users.pivot_table(index='IS_FRAUDSTER', columns=column, values='ID', aggfunc='count')\n",
    "    print(pivoted_df)\n",
    "    print()"
   ]
  },
  {
   "cell_type": "markdown",
   "metadata": {},
   "source": [
    "### Notes on relationships between factors and target in users table\n",
    "- STATE: This variable where Locked=True is 100% aligned.  Presumably, this means they've already detected this user was a fraudster.  We can use this variable and be done.  But, that is too easy.\n",
    "- HAS_EMAIL: correlated"
   ]
  },
  {
   "cell_type": "markdown",
   "metadata": {},
   "source": [
    "### Relationship between factors and target in transactions table(after merged to get target)"
   ]
  },
  {
   "cell_type": "code",
   "execution_count": 150,
   "metadata": {},
   "outputs": [],
   "source": [
    "target_df=users[['ID', 'IS_FRAUDSTER']]\n",
    "tr_with_target = pd.merge(target_df, tr, how='inner', left_on='ID', right_on='USER_ID')"
   ]
  },
  {
   "cell_type": "code",
   "execution_count": 151,
   "metadata": {},
   "outputs": [
    {
     "name": "stdout",
     "output_type": "stream",
     "text": [
      "<class 'pandas.core.frame.DataFrame'>\n",
      "RangeIndex: 638742 entries, 0 to 638741\n",
      "Data columns (total 15 columns):\n",
      " #   Column             Non-Null Count   Dtype  \n",
      "---  ------             --------------   -----  \n",
      " 0   ID_x               638742 non-null  object \n",
      " 1   IS_FRAUDSTER       638742 non-null  bool   \n",
      " 2   CURRENCY           638742 non-null  object \n",
      " 3   AMOUNT             638742 non-null  int64  \n",
      " 4   STATE              638742 non-null  object \n",
      " 5   CREATED_DATE       638742 non-null  object \n",
      " 6   MERCHANT_CATEGORY  208677 non-null  object \n",
      " 7   MERCHANT_COUNTRY   447017 non-null  object \n",
      " 8   ENTRY_METHOD       638742 non-null  object \n",
      " 9   USER_ID            638742 non-null  object \n",
      " 10  TYPE               638742 non-null  object \n",
      " 11  SOURCE             638742 non-null  object \n",
      " 12  ID_y               638742 non-null  object \n",
      " 13  AMOUNT_USD         586125 non-null  float64\n",
      " 14  DT_CREATED_DATE    638742 non-null  object \n",
      "dtypes: bool(1), float64(1), int64(1), object(12)\n",
      "memory usage: 68.8+ MB\n"
     ]
    }
   ],
   "source": [
    "tr_with_target.info()"
   ]
  },
  {
   "cell_type": "code",
   "execution_count": 152,
   "metadata": {},
   "outputs": [
    {
     "name": "stdout",
     "output_type": "stream",
     "text": [
      "Pivot for 'CURRENCY' against IS_FRAUDSTER\n",
      "CURRENCY        AED     AUD    BTC     CAD     CHF     CZK     DKK    ETH  \\\n",
      "IS_FRAUDSTER                                                                \n",
      "False         840.0  1999.0  257.0  1431.0  5733.0  1488.0  1681.0  162.0   \n",
      "True            NaN     NaN    3.0     NaN     1.0     1.0     NaN    NaN   \n",
      "\n",
      "CURRENCY           EUR       GBP  ...      PLN   QAR     RON     SEK    SGD  \\\n",
      "IS_FRAUDSTER                      ...                                         \n",
      "False         250082.0  294634.0  ...  22033.0  27.0  5823.0  1578.0  487.0   \n",
      "True             699.0   12739.0  ...    293.0   NaN    13.0     NaN    NaN   \n",
      "\n",
      "CURRENCY        THB    TRY      USD   XRP     ZAR  \n",
      "IS_FRAUDSTER                                       \n",
      "False         671.0  190.0  27806.0  38.0  1120.0  \n",
      "True            NaN    NaN    165.0   NaN     NaN  \n",
      "\n",
      "[2 rows x 29 columns]\n",
      "\n",
      "Pivot for 'STATE' against IS_FRAUDSTER\n",
      "STATE         CANCELLED  COMPLETED  DECLINED   FAILED  PENDING  RECORDED  \\\n",
      "IS_FRAUDSTER                                                               \n",
      "False             468.0   532673.0   38997.0  14999.0   2424.0       1.0   \n",
      "True               20.0    10053.0    2097.0    597.0      6.0       NaN   \n",
      "\n",
      "STATE         REVERTED  \n",
      "IS_FRAUDSTER            \n",
      "False          35266.0  \n",
      "True            1141.0  \n",
      "\n",
      "Pivot for 'MERCHANT_CATEGORY' against IS_FRAUDSTER\n",
      "MERCHANT_CATEGORY  accounting  administrative_area_level_1  \\\n",
      "IS_FRAUDSTER                                                 \n",
      "False                   163.0                         47.0   \n",
      "True                     94.0                          NaN   \n",
      "\n",
      "MERCHANT_CATEGORY  administrative_area_level_2  administrative_area_level_3  \\\n",
      "IS_FRAUDSTER                                                                  \n",
      "False                                     21.0                         40.0   \n",
      "True                                       NaN                          1.0   \n",
      "\n",
      "MERCHANT_CATEGORY  administrative_area_level_4  airport  amusement_park  \\\n",
      "IS_FRAUDSTER                                                              \n",
      "False                                      5.0   2878.0           548.0   \n",
      "True                                       NaN     91.0             5.0   \n",
      "\n",
      "MERCHANT_CATEGORY  aquarium  archipelago  art_gallery  ...  subpremise  \\\n",
      "IS_FRAUDSTER                                           ...               \n",
      "False                 150.0          3.0        148.0  ...        23.0   \n",
      "True                    NaN          NaN          NaN  ...         NaN   \n",
      "\n",
      "MERCHANT_CATEGORY  subway_station  supermarket  taxi_stand  train_station  \\\n",
      "IS_FRAUDSTER                                                                \n",
      "False                       563.0      28555.0       153.0         1244.0   \n",
      "True                         27.0        369.0         1.0           15.0   \n",
      "\n",
      "MERCHANT_CATEGORY  transit_station  travel_agency  university  \\\n",
      "IS_FRAUDSTER                                                    \n",
      "False                        796.0         1679.0       879.0   \n",
      "True                           7.0           28.0         3.0   \n",
      "\n",
      "MERCHANT_CATEGORY  veterinary_care    zoo  \n",
      "IS_FRAUDSTER                               \n",
      "False                         22.0  117.0  \n",
      "True                           NaN    NaN  \n",
      "\n",
      "[2 rows x 115 columns]\n",
      "\n",
      "Pivot for 'MERCHANT_COUNTRY' against IS_FRAUDSTER\n",
      "MERCHANT_COUNTRY   000   001  003  004  005  006  007  008  009  011  ...  \\\n",
      "IS_FRAUDSTER                                                          ...   \n",
      "False             67.0  44.0  4.0  1.0  1.0  3.0  3.0  1.0  2.0  1.0  ...   \n",
      "True               NaN   NaN  NaN  NaN  NaN  NaN  NaN  NaN  NaN  NaN  ...   \n",
      "\n",
      "MERCHANT_COUNTRY  VGB   VIC  VIR     VNM  W71  XXX     ZAF  ZHE   ZMB   ZWE  \n",
      "IS_FRAUDSTER                                                                 \n",
      "False             1.0  55.0  4.0  1929.0  1.0  7.0  3230.0  1.0  23.0  30.0  \n",
      "True              NaN   NaN  NaN     NaN  NaN  NaN     NaN  NaN   NaN   NaN  \n",
      "\n",
      "[2 rows x 303 columns]\n",
      "\n",
      "Pivot for 'ENTRY_METHOD' against IS_FRAUDSTER\n",
      "ENTRY_METHOD    chip    cont   mags   manu  mcon    misc\n",
      "IS_FRAUDSTER                                            \n",
      "False         165505  155884  21254  82886   490  198809\n",
      "True            3102    1859     35   3365     2    5551\n",
      "\n",
      "Pivot for 'TYPE' against IS_FRAUDSTER\n",
      "TYPE            ATM  BANK_TRANSFER  CARD_PAYMENT    P2P   TOPUP\n",
      "IS_FRAUDSTER                                                   \n",
      "False         39243          13528        399423  53998  118636\n",
      "True           2188           1222          6393    436    3675\n",
      "\n",
      "Pivot for 'SOURCE' against IS_FRAUDSTER\n",
      "SOURCE        APOLLO  BRIZO  CRONUS      GAIA      HERA  INTERNAL    LETO  \\\n",
      "IS_FRAUDSTER                                                                \n",
      "False          745.0    1.0  5341.0  438622.0  107635.0   54042.0  6598.0   \n",
      "True            17.0    NaN   114.0    8581.0    1680.0     436.0   141.0   \n",
      "\n",
      "SOURCE        LIMOS   MINOS     NYX  OPHION  \n",
      "IS_FRAUDSTER                                 \n",
      "False         887.0  7750.0  2197.0  1010.0  \n",
      "True           53.0  2890.0     2.0     NaN  \n",
      "\n"
     ]
    }
   ],
   "source": [
    "columns = [c for c in tr_with_target.columns if c not in ['ID_x', 'ID_y', 'USER_ID', 'IS_FRAUDSTER', 'AMOUNT', 'AMOUNT_USD', 'CREATED_DATE', 'DT_CREATED_DATE']]\n",
    "for column in columns:\n",
    "    print(f\"Pivot for '{column}' against IS_FRAUDSTER\")\n",
    "    pivoted_df = tr_with_target.pivot_table(index='IS_FRAUDSTER', columns=column, values='ID_x', aggfunc='count')\n",
    "    print(pivoted_df)\n",
    "    print()"
   ]
  },
  {
   "cell_type": "markdown",
   "metadata": {},
   "source": [
    "### Notes on Relationship between factors and target in transactions table(after merged to get target)\n",
    "\n",
    "Source: \"Minos\" seems to have a correlation\n",
    "Amount: I'll need to look at the Amount field manually.  The automated look at the distribution doesn't work well for this type of continuous variable.  I see below that we have some very high numbers for amount and so will look at outliers."
   ]
  },
  {
   "cell_type": "code",
   "execution_count": 153,
   "metadata": {},
   "outputs": [
    {
     "data": {
      "text/html": [
       "<div>\n",
       "<style scoped>\n",
       "    .dataframe tbody tr th:only-of-type {\n",
       "        vertical-align: middle;\n",
       "    }\n",
       "\n",
       "    .dataframe tbody tr th {\n",
       "        vertical-align: top;\n",
       "    }\n",
       "\n",
       "    .dataframe thead th {\n",
       "        text-align: right;\n",
       "    }\n",
       "</style>\n",
       "<table border=\"1\" class=\"dataframe\">\n",
       "  <thead>\n",
       "    <tr style=\"text-align: right;\">\n",
       "      <th></th>\n",
       "      <th>AMOUNT</th>\n",
       "      <th>AMOUNT_USD</th>\n",
       "    </tr>\n",
       "  </thead>\n",
       "  <tbody>\n",
       "    <tr>\n",
       "      <th>count</th>\n",
       "      <td>6.886510e+05</td>\n",
       "      <td>6.353280e+05</td>\n",
       "    </tr>\n",
       "    <tr>\n",
       "      <th>mean</th>\n",
       "      <td>3.172575e+04</td>\n",
       "      <td>6.856953e+03</td>\n",
       "    </tr>\n",
       "    <tr>\n",
       "      <th>std</th>\n",
       "      <td>2.304381e+06</td>\n",
       "      <td>7.441684e+04</td>\n",
       "    </tr>\n",
       "    <tr>\n",
       "      <th>min</th>\n",
       "      <td>0.000000e+00</td>\n",
       "      <td>0.000000e+00</td>\n",
       "    </tr>\n",
       "    <tr>\n",
       "      <th>25%</th>\n",
       "      <td>4.800000e+02</td>\n",
       "      <td>3.590000e+02</td>\n",
       "    </tr>\n",
       "    <tr>\n",
       "      <th>50%</th>\n",
       "      <td>1.420000e+03</td>\n",
       "      <td>1.037000e+03</td>\n",
       "    </tr>\n",
       "    <tr>\n",
       "      <th>75%</th>\n",
       "      <td>5.000000e+03</td>\n",
       "      <td>3.713000e+03</td>\n",
       "    </tr>\n",
       "    <tr>\n",
       "      <th>max</th>\n",
       "      <td>9.000000e+08</td>\n",
       "      <td>1.641211e+07</td>\n",
       "    </tr>\n",
       "  </tbody>\n",
       "</table>\n",
       "</div>"
      ],
      "text/plain": [
       "             AMOUNT    AMOUNT_USD\n",
       "count  6.886510e+05  6.353280e+05\n",
       "mean   3.172575e+04  6.856953e+03\n",
       "std    2.304381e+06  7.441684e+04\n",
       "min    0.000000e+00  0.000000e+00\n",
       "25%    4.800000e+02  3.590000e+02\n",
       "50%    1.420000e+03  1.037000e+03\n",
       "75%    5.000000e+03  3.713000e+03\n",
       "max    9.000000e+08  1.641211e+07"
      ]
     },
     "execution_count": 153,
     "metadata": {},
     "output_type": "execute_result"
    }
   ],
   "source": [
    "tr[['AMOUNT', 'AMOUNT_USD']].describe()"
   ]
  },
  {
   "cell_type": "code",
   "execution_count": 154,
   "metadata": {},
   "outputs": [
    {
     "data": {
      "image/png": "[encoded data removed]",
      "text/plain": [
       "<Figure size 640x480 with 2 Axes>"
      ]
     },
     "metadata": {},
     "output_type": "display_data"
    }
   ],
   "source": [
    "\n",
    "fig, ax = plt.subplots(1, 2)\n",
    "ax[0] = plt.boxplot(tr['AMOUNT'])\n",
    "# ax[1] = plt.boxplot(tr['AMOUNT_USD'])\n",
    "plt.show()"
   ]
  },
  {
   "cell_type": "code",
   "execution_count": 155,
   "metadata": {},
   "outputs": [
    {
     "name": "stdout",
     "output_type": "stream",
     "text": [
      "IQR = 215649.0\n",
      "Highest = 108832.5\n"
     ]
    }
   ],
   "source": [
    "median = 1008\n",
    "std = 71883\n",
    "high = median + 1.5 * std\n",
    "low = median - 1.5 * std\n",
    "print(\"IQR =\", high - low)\n",
    "print(\"Highest =\", high) \n",
    "\n",
    "tr_with_target['OUTLIER_HIGH'] = False\n",
    "# set outlier_high to True for all rows where AMOUNT_USD is greater than high\n",
    "tr_with_target.loc[tr['AMOUNT_USD'] > high, 'OUTLIER_HIGH'] = True\n"
   ]
  },
  {
   "cell_type": "code",
   "execution_count": 156,
   "metadata": {},
   "outputs": [],
   "source": [
    "tr_with_target['MISSING_AMOUNT_USD'] = False\n",
    "tr_with_target.loc[tr['AMOUNT_USD'].isna(), 'MISSING_AMOUNT_USD'] = True"
   ]
  },
  {
   "cell_type": "code",
   "execution_count": 157,
   "metadata": {},
   "outputs": [
    {
     "data": {
      "text/html": [
       "<div>\n",
       "<style scoped>\n",
       "    .dataframe tbody tr th:only-of-type {\n",
       "        vertical-align: middle;\n",
       "    }\n",
       "\n",
       "    .dataframe tbody tr th {\n",
       "        vertical-align: top;\n",
       "    }\n",
       "\n",
       "    .dataframe thead th {\n",
       "        text-align: right;\n",
       "    }\n",
       "</style>\n",
       "<table border=\"1\" class=\"dataframe\">\n",
       "  <thead>\n",
       "    <tr style=\"text-align: right;\">\n",
       "      <th>IS_FRAUDSTER</th>\n",
       "      <th>False</th>\n",
       "      <th>True</th>\n",
       "    </tr>\n",
       "    <tr>\n",
       "      <th>MISSING_AMOUNT_USD</th>\n",
       "      <th></th>\n",
       "      <th></th>\n",
       "    </tr>\n",
       "  </thead>\n",
       "  <tbody>\n",
       "    <tr>\n",
       "      <th>False</th>\n",
       "      <td>97.635563</td>\n",
       "      <td>2.364437</td>\n",
       "    </tr>\n",
       "    <tr>\n",
       "      <th>True</th>\n",
       "      <td>100.000000</td>\n",
       "      <td>0.000000</td>\n",
       "    </tr>\n",
       "  </tbody>\n",
       "</table>\n",
       "</div>"
      ],
      "text/plain": [
       "IS_FRAUDSTER             False     True \n",
       "MISSING_AMOUNT_USD                      \n",
       "False                97.635563  2.364437\n",
       "True                100.000000  0.000000"
      ]
     },
     "execution_count": 157,
     "metadata": {},
     "output_type": "execute_result"
    }
   ],
   "source": [
    "res = pd.crosstab(index=tr_with_target['MISSING_AMOUNT_USD'],columns=tr_with_target['IS_FRAUDSTER'], normalize='index') * 100\n",
    "res"
   ]
  },
  {
   "cell_type": "markdown",
   "metadata": {},
   "source": [
    "Notes: From above, we can see that none of those missing 'Amount USD' data are associated with fraud.  "
   ]
  },
  {
   "cell_type": "code",
   "execution_count": 158,
   "metadata": {},
   "outputs": [
    {
     "data": {
      "text/html": [
       "<div>\n",
       "<style scoped>\n",
       "    .dataframe tbody tr th:only-of-type {\n",
       "        vertical-align: middle;\n",
       "    }\n",
       "\n",
       "    .dataframe tbody tr th {\n",
       "        vertical-align: top;\n",
       "    }\n",
       "\n",
       "    .dataframe thead th {\n",
       "        text-align: right;\n",
       "    }\n",
       "</style>\n",
       "<table border=\"1\" class=\"dataframe\">\n",
       "  <thead>\n",
       "    <tr style=\"text-align: right;\">\n",
       "      <th>OUTLIER_HIGH</th>\n",
       "      <th>False</th>\n",
       "      <th>True</th>\n",
       "    </tr>\n",
       "    <tr>\n",
       "      <th>IS_FRAUDSTER</th>\n",
       "      <th></th>\n",
       "      <th></th>\n",
       "    </tr>\n",
       "  </thead>\n",
       "  <tbody>\n",
       "    <tr>\n",
       "      <th>False</th>\n",
       "      <td>621011</td>\n",
       "      <td>3817</td>\n",
       "    </tr>\n",
       "    <tr>\n",
       "      <th>True</th>\n",
       "      <td>13834</td>\n",
       "      <td>80</td>\n",
       "    </tr>\n",
       "  </tbody>\n",
       "</table>\n",
       "</div>"
      ],
      "text/plain": [
       "OUTLIER_HIGH   False  True \n",
       "IS_FRAUDSTER               \n",
       "False         621011   3817\n",
       "True           13834     80"
      ]
     },
     "execution_count": 158,
     "metadata": {},
     "output_type": "execute_result"
    }
   ],
   "source": [
    "pivoted_df = tr_with_target.pivot_table(index='IS_FRAUDSTER', columns='OUTLIER_HIGH', values='ID_x', aggfunc='count')\n",
    "pivoted_df"
   ]
  },
  {
   "cell_type": "code",
   "execution_count": 159,
   "metadata": {},
   "outputs": [
    {
     "name": "stdout",
     "output_type": "stream",
     "text": [
      "IQR = 7141686.0\n",
      "Highest = 3572236.0\n"
     ]
    }
   ],
   "source": [
    "median = 1393\n",
    "std = 2380562\n",
    "high = median + 1.5 * std\n",
    "low = median - 1.5 * std\n",
    "print(\"IQR =\", high - low)\n",
    "print(\"Highest =\", high) \n",
    "\n",
    "tr['OUTLIER_HIGH_2'] = False\n",
    "# set outlier_high to True for all rows where AMOUNT_USD is greater than high\n",
    "tr.loc[tr['AMOUNT'] > high, 'OUTLIER_HIGH_2'] = True\n",
    "\n"
   ]
  },
  {
   "cell_type": "code",
   "execution_count": 160,
   "metadata": {},
   "outputs": [
    {
     "data": {
      "text/plain": [
       "count     688651\n",
       "unique         2\n",
       "top        False\n",
       "freq      688231\n",
       "Name: OUTLIER_HIGH_2, dtype: object"
      ]
     },
     "execution_count": 160,
     "metadata": {},
     "output_type": "execute_result"
    }
   ],
   "source": [
    "tr[\"OUTLIER_HIGH_2\"].describe()"
   ]
  },
  {
   "cell_type": "markdown",
   "metadata": {},
   "source": [
    "### Notes on Amount outliers\n",
    "From the pivot on Amount outlier and Is_Fraudster, there does not seem to be a correlation. I'll leave the outliers in for now but will consider removing them when modeling."
   ]
  },
  {
   "cell_type": "code",
   "execution_count": 161,
   "metadata": {},
   "outputs": [],
   "source": [
    "users[\"HAS_MULTIPLE_PHONE_COUNTRIES\"] = False\n",
    "\n",
    "users.loc[users[\"PHONE_COUNTRY\"].str.len() > 3, \"HAS_MULTIPLE_PHONE_COUNTRIES\"] = True\n"
   ]
  },
  {
   "cell_type": "code",
   "execution_count": 162,
   "metadata": {},
   "outputs": [
    {
     "data": {
      "text/html": [
       "<div>\n",
       "<style scoped>\n",
       "    .dataframe tbody tr th:only-of-type {\n",
       "        vertical-align: middle;\n",
       "    }\n",
       "\n",
       "    .dataframe tbody tr th {\n",
       "        vertical-align: top;\n",
       "    }\n",
       "\n",
       "    .dataframe thead th {\n",
       "        text-align: right;\n",
       "    }\n",
       "</style>\n",
       "<table border=\"1\" class=\"dataframe\">\n",
       "  <thead>\n",
       "    <tr style=\"text-align: right;\">\n",
       "      <th>IS_FRAUDSTER</th>\n",
       "      <th>False</th>\n",
       "      <th>True</th>\n",
       "    </tr>\n",
       "    <tr>\n",
       "      <th>HAS_MULTIPLE_PHONE_COUNTRIES</th>\n",
       "      <th></th>\n",
       "      <th></th>\n",
       "    </tr>\n",
       "  </thead>\n",
       "  <tbody>\n",
       "    <tr>\n",
       "      <th>False</th>\n",
       "      <td>99.403902</td>\n",
       "      <td>0.596098</td>\n",
       "    </tr>\n",
       "    <tr>\n",
       "      <th>True</th>\n",
       "      <td>93.988203</td>\n",
       "      <td>6.011797</td>\n",
       "    </tr>\n",
       "  </tbody>\n",
       "</table>\n",
       "</div>"
      ],
      "text/plain": [
       "IS_FRAUDSTER                      False     True \n",
       "HAS_MULTIPLE_PHONE_COUNTRIES                     \n",
       "False                         99.403902  0.596098\n",
       "True                          93.988203  6.011797"
      ]
     },
     "execution_count": 162,
     "metadata": {},
     "output_type": "execute_result"
    }
   ],
   "source": [
    "res = pd.crosstab(index=users['HAS_MULTIPLE_PHONE_COUNTRIES'],columns=users['IS_FRAUDSTER'], normalize='index') * 100\n",
    "res"
   ]
  },
  {
   "cell_type": "markdown",
   "metadata": {},
   "source": [
    "### Notes on Phone_Country\n",
    "Is a correlation between multiple phone countries and target"
   ]
  },
  {
   "cell_type": "code",
   "execution_count": 163,
   "metadata": {},
   "outputs": [],
   "source": [
    "m = pd.merge(left=users, right=tr, left_on='ID', right_on='USER_ID')"
   ]
  },
  {
   "cell_type": "code",
   "execution_count": 164,
   "metadata": {},
   "outputs": [
    {
     "name": "stdout",
     "output_type": "stream",
     "text": [
      "<class 'pandas.core.frame.DataFrame'>\n",
      "RangeIndex: 638742 entries, 0 to 638741\n",
      "Data columns (total 29 columns):\n",
      " #   Column                        Non-Null Count   Dtype         \n",
      "---  ------                        --------------   -----         \n",
      " 0   ID_x                          638742 non-null  object        \n",
      " 1   HAS_EMAIL                     638742 non-null  int64         \n",
      " 2   PHONE_COUNTRY                 638742 non-null  object        \n",
      " 3   IS_FRAUDSTER                  638742 non-null  bool          \n",
      " 4   TERMS_VERSION                 613084 non-null  object        \n",
      " 5   CREATED_DATE_x                638742 non-null  object        \n",
      " 6   STATE_x                       638742 non-null  object        \n",
      " 7   COUNTRY                       638742 non-null  object        \n",
      " 8   BIRTH_YEAR                    638742 non-null  int64         \n",
      " 9   KYC                           638742 non-null  object        \n",
      " 10  FAILED_SIGN_IN_ATTEMPTS       638742 non-null  int64         \n",
      " 11  DT_CREATED_DATETIME           638742 non-null  datetime64[ns]\n",
      " 12  DT_CREATED_DATE_x             638742 non-null  object        \n",
      " 13  DT_CREATED_TIME               638742 non-null  object        \n",
      " 14  HAS_MULTIPLE_PHONE_COUNTRIES  638742 non-null  bool          \n",
      " 15  CURRENCY                      638742 non-null  object        \n",
      " 16  AMOUNT                        638742 non-null  int64         \n",
      " 17  STATE_y                       638742 non-null  object        \n",
      " 18  CREATED_DATE_y                638742 non-null  object        \n",
      " 19  MERCHANT_CATEGORY             208677 non-null  object        \n",
      " 20  MERCHANT_COUNTRY              447017 non-null  object        \n",
      " 21  ENTRY_METHOD                  638742 non-null  object        \n",
      " 22  USER_ID                       638742 non-null  object        \n",
      " 23  TYPE                          638742 non-null  object        \n",
      " 24  SOURCE                        638742 non-null  object        \n",
      " 25  ID_y                          638742 non-null  object        \n",
      " 26  AMOUNT_USD                    586125 non-null  float64       \n",
      " 27  DT_CREATED_DATE_y             638742 non-null  object        \n",
      " 28  OUTLIER_HIGH_2                638742 non-null  bool          \n",
      "dtypes: bool(3), datetime64[ns](1), float64(1), int64(4), object(20)\n",
      "memory usage: 128.5+ MB\n"
     ]
    }
   ],
   "source": [
    "m.info()"
   ]
  },
  {
   "cell_type": "code",
   "execution_count": 165,
   "metadata": {},
   "outputs": [
    {
     "name": "stdout",
     "output_type": "stream",
     "text": [
      "<class 'pandas.core.frame.DataFrame'>\n",
      "RangeIndex: 638742 entries, 0 to 638741\n",
      "Data columns (total 29 columns):\n",
      " #   Column                        Non-Null Count   Dtype         \n",
      "---  ------                        --------------   -----         \n",
      " 0   ID_x                          638742 non-null  object        \n",
      " 1   HAS_EMAIL                     638742 non-null  int64         \n",
      " 2   PHONE_COUNTRY                 638742 non-null  object        \n",
      " 3   IS_FRAUDSTER                  638742 non-null  bool          \n",
      " 4   TERMS_VERSION                 613084 non-null  object        \n",
      " 5   CREATED_DATE_x                638742 non-null  object        \n",
      " 6   STATE_x                       638742 non-null  object        \n",
      " 7   COUNTRY                       638742 non-null  object        \n",
      " 8   BIRTH_YEAR                    638742 non-null  int64         \n",
      " 9   KYC                           638742 non-null  object        \n",
      " 10  FAILED_SIGN_IN_ATTEMPTS       638742 non-null  int64         \n",
      " 11  DT_CREATED_DATETIME           638742 non-null  datetime64[ns]\n",
      " 12  DT_CREATED_DATE_x             638742 non-null  object        \n",
      " 13  DT_CREATED_TIME               638742 non-null  object        \n",
      " 14  HAS_MULTIPLE_PHONE_COUNTRIES  638742 non-null  bool          \n",
      " 15  CURRENCY                      638742 non-null  object        \n",
      " 16  AMOUNT                        638742 non-null  int64         \n",
      " 17  STATE_y                       638742 non-null  object        \n",
      " 18  CREATED_DATE_y                638742 non-null  object        \n",
      " 19  MERCHANT_CATEGORY             208677 non-null  object        \n",
      " 20  MERCHANT_COUNTRY              447017 non-null  object        \n",
      " 21  ENTRY_METHOD                  638742 non-null  object        \n",
      " 22  USER_ID                       638742 non-null  object        \n",
      " 23  TYPE                          638742 non-null  object        \n",
      " 24  SOURCE                        638742 non-null  object        \n",
      " 25  ID_y                          638742 non-null  object        \n",
      " 26  AMOUNT_USD                    586125 non-null  float64       \n",
      " 27  DT_CREATED_DATE_y             638742 non-null  object        \n",
      " 28  OUTLIER_HIGH_2                638742 non-null  bool          \n",
      "dtypes: bool(3), datetime64[ns](1), float64(1), int64(4), object(20)\n",
      "memory usage: 128.5+ MB\n"
     ]
    }
   ],
   "source": [
    "m.info()"
   ]
  },
  {
   "cell_type": "code",
   "execution_count": 178,
   "metadata": {},
   "outputs": [],
   "source": [
    "X = m[['ID_x', 'HAS_EMAIL', 'TERMS_VERSION',\n",
    "       'STATE_x', 'COUNTRY', 'BIRTH_YEAR', 'KYC',\n",
    "       'HAS_MULTIPLE_PHONE_COUNTRIES', 'CURRENCY',\n",
    "       'AMOUNT', 'STATE_y', 'MERCHANT_CATEGORY',\n",
    "       'MERCHANT_COUNTRY', 'ENTRY_METHOD', 'TYPE', 'SOURCE', 'OUTLIER_HIGH_2']]\n",
    "Y = m[\"IS_FRAUDSTER\"]"
   ]
  },
  {
   "cell_type": "markdown",
   "metadata": {},
   "source": [
    "### Handle Missing Values"
   ]
  },
  {
   "cell_type": "code",
   "execution_count": 179,
   "metadata": {},
   "outputs": [
    {
     "name": "stderr",
     "output_type": "stream",
     "text": [
      "/var/folders/6p/w6jknzqs22lg4wxk1hc9z8q40000gq/T/ipykernel_52943/970525989.py:1: SettingWithCopyWarning: \n",
      "A value is trying to be set on a copy of a slice from a DataFrame.\n",
      "Try using .loc[row_indexer,col_indexer] = value instead\n",
      "\n",
      "See the caveats in the documentation: https://pandas.pydata.org/pandas-docs/stable/user_guide/indexing.html#returning-a-view-versus-a-copy\n",
      "  X['TERMS_VERSION'] = X['TERMS_VERSION'].fillna('Missing')\n",
      "/var/folders/6p/w6jknzqs22lg4wxk1hc9z8q40000gq/T/ipykernel_52943/970525989.py:2: SettingWithCopyWarning: \n",
      "A value is trying to be set on a copy of a slice from a DataFrame.\n",
      "Try using .loc[row_indexer,col_indexer] = value instead\n",
      "\n",
      "See the caveats in the documentation: https://pandas.pydata.org/pandas-docs/stable/user_guide/indexing.html#returning-a-view-versus-a-copy\n",
      "  X['MERCHANT_CATEGORY'] = X['MERCHANT_CATEGORY'].fillna('Missing')\n",
      "/var/folders/6p/w6jknzqs22lg4wxk1hc9z8q40000gq/T/ipykernel_52943/970525989.py:3: SettingWithCopyWarning: \n",
      "A value is trying to be set on a copy of a slice from a DataFrame.\n",
      "Try using .loc[row_indexer,col_indexer] = value instead\n",
      "\n",
      "See the caveats in the documentation: https://pandas.pydata.org/pandas-docs/stable/user_guide/indexing.html#returning-a-view-versus-a-copy\n",
      "  X['MERCHANT_COUNTRY'] = X['MERCHANT_COUNTRY'].fillna('Missing')\n"
     ]
    }
   ],
   "source": [
    "X['TERMS_VERSION'] = X['TERMS_VERSION'].fillna('Missing')\n",
    "X['MERCHANT_CATEGORY'] = X['MERCHANT_CATEGORY'].fillna('Missing')\n",
    "X['MERCHANT_COUNTRY'] = X['MERCHANT_COUNTRY'].fillna('Missing')"
   ]
  },
  {
   "cell_type": "code",
   "execution_count": 180,
   "metadata": {},
   "outputs": [],
   "source": [
    "\n",
    "new_cols = pd.get_dummies(X[[\"TERMS_VERSION\", \"KYC\", 'STATE_x', 'COUNTRY', 'STATE_y', 'STATE_x', 'CURRENCY', 'MERCHANT_CATEGORY', 'MERCHANT_COUNTRY', 'ENTRY_METHOD', 'TYPE', 'SOURCE']], drop_first=True)\n",
    "X = pd.concat([X, new_cols], axis=1)"
   ]
  },
  {
   "cell_type": "code",
   "execution_count": 181,
   "metadata": {},
   "outputs": [
    {
     "data": {
      "text/plain": [
       "Index(['ID_x', 'HAS_EMAIL', 'BIRTH_YEAR', 'HAS_MULTIPLE_PHONE_COUNTRIES',\n",
       "       'AMOUNT', 'OUTLIER_HIGH_2', 'TERMS_VERSION_2017-02-02',\n",
       "       'TERMS_VERSION_2018-01-01', 'TERMS_VERSION_2018-01-13',\n",
       "       'TERMS_VERSION_2018-03-20',\n",
       "       ...\n",
       "       'SOURCE_BRIZO', 'SOURCE_CRONUS', 'SOURCE_GAIA', 'SOURCE_HERA',\n",
       "       'SOURCE_INTERNAL', 'SOURCE_LETO', 'SOURCE_LIMOS', 'SOURCE_MINOS',\n",
       "       'SOURCE_NYX', 'SOURCE_OPHION'],\n",
       "      dtype='object', length=532)"
      ]
     },
     "execution_count": 181,
     "metadata": {},
     "output_type": "execute_result"
    }
   ],
   "source": [
    "X=X.drop(['TERMS_VERSION', 'KYC', 'STATE_x', 'COUNTRY', 'STATE_y', 'STATE_x', 'CURRENCY', 'MERCHANT_CATEGORY', 'MERCHANT_COUNTRY', 'ENTRY_METHOD', 'TYPE', 'SOURCE'], axis=1)\n",
    "X.columns"
   ]
  },
  {
   "cell_type": "code",
   "execution_count": 183,
   "metadata": {},
   "outputs": [
    {
     "data": {
      "text/html": [
       "<div>\n",
       "<style scoped>\n",
       "    .dataframe tbody tr th:only-of-type {\n",
       "        vertical-align: middle;\n",
       "    }\n",
       "\n",
       "    .dataframe tbody tr th {\n",
       "        vertical-align: top;\n",
       "    }\n",
       "\n",
       "    .dataframe thead th {\n",
       "        text-align: right;\n",
       "    }\n",
       "</style>\n",
       "<table border=\"1\" class=\"dataframe\">\n",
       "  <thead>\n",
       "    <tr style=\"text-align: right;\">\n",
       "      <th></th>\n",
       "      <th>HAS_EMAIL</th>\n",
       "      <th>BIRTH_YEAR</th>\n",
       "      <th>HAS_MULTIPLE_PHONE_COUNTRIES</th>\n",
       "      <th>AMOUNT</th>\n",
       "      <th>OUTLIER_HIGH_2</th>\n",
       "      <th>TERMS_VERSION_2017-02-02</th>\n",
       "      <th>TERMS_VERSION_2018-01-01</th>\n",
       "      <th>TERMS_VERSION_2018-01-13</th>\n",
       "      <th>TERMS_VERSION_2018-03-20</th>\n",
       "      <th>TERMS_VERSION_2018-05-25</th>\n",
       "      <th>...</th>\n",
       "      <th>SOURCE_BRIZO</th>\n",
       "      <th>SOURCE_CRONUS</th>\n",
       "      <th>SOURCE_GAIA</th>\n",
       "      <th>SOURCE_HERA</th>\n",
       "      <th>SOURCE_INTERNAL</th>\n",
       "      <th>SOURCE_LETO</th>\n",
       "      <th>SOURCE_LIMOS</th>\n",
       "      <th>SOURCE_MINOS</th>\n",
       "      <th>SOURCE_NYX</th>\n",
       "      <th>SOURCE_OPHION</th>\n",
       "    </tr>\n",
       "  </thead>\n",
       "  <tbody>\n",
       "    <tr>\n",
       "      <th>HAS_EMAIL</th>\n",
       "      <td>1.000000</td>\n",
       "      <td>0.010204</td>\n",
       "      <td>0.029785</td>\n",
       "      <td>0.001176</td>\n",
       "      <td>0.002546</td>\n",
       "      <td>0.004882</td>\n",
       "      <td>0.011240</td>\n",
       "      <td>0.001469</td>\n",
       "      <td>0.010131</td>\n",
       "      <td>0.026399</td>\n",
       "      <td>...</td>\n",
       "      <td>0.000130</td>\n",
       "      <td>0.000229</td>\n",
       "      <td>0.014682</td>\n",
       "      <td>0.009860</td>\n",
       "      <td>0.025462</td>\n",
       "      <td>0.008235</td>\n",
       "      <td>0.003209</td>\n",
       "      <td>0.007394</td>\n",
       "      <td>0.098613</td>\n",
       "      <td>0.008465</td>\n",
       "    </tr>\n",
       "    <tr>\n",
       "      <th>BIRTH_YEAR</th>\n",
       "      <td>0.010204</td>\n",
       "      <td>1.000000</td>\n",
       "      <td>0.005100</td>\n",
       "      <td>0.006580</td>\n",
       "      <td>0.011669</td>\n",
       "      <td>0.009935</td>\n",
       "      <td>0.022881</td>\n",
       "      <td>0.041190</td>\n",
       "      <td>0.012849</td>\n",
       "      <td>0.000388</td>\n",
       "      <td>...</td>\n",
       "      <td>0.001146</td>\n",
       "      <td>0.007532</td>\n",
       "      <td>0.010596</td>\n",
       "      <td>0.022569</td>\n",
       "      <td>0.013347</td>\n",
       "      <td>0.010744</td>\n",
       "      <td>0.012541</td>\n",
       "      <td>0.024914</td>\n",
       "      <td>0.009119</td>\n",
       "      <td>0.013449</td>\n",
       "    </tr>\n",
       "    <tr>\n",
       "      <th>HAS_MULTIPLE_PHONE_COUNTRIES</th>\n",
       "      <td>0.029785</td>\n",
       "      <td>0.005100</td>\n",
       "      <td>1.000000</td>\n",
       "      <td>0.001307</td>\n",
       "      <td>0.003944</td>\n",
       "      <td>0.042592</td>\n",
       "      <td>0.006117</td>\n",
       "      <td>0.031016</td>\n",
       "      <td>0.049581</td>\n",
       "      <td>0.002830</td>\n",
       "      <td>...</td>\n",
       "      <td>0.001331</td>\n",
       "      <td>0.007993</td>\n",
       "      <td>0.013010</td>\n",
       "      <td>0.017133</td>\n",
       "      <td>0.072717</td>\n",
       "      <td>0.041370</td>\n",
       "      <td>0.025381</td>\n",
       "      <td>0.088789</td>\n",
       "      <td>0.027870</td>\n",
       "      <td>0.018341</td>\n",
       "    </tr>\n",
       "    <tr>\n",
       "      <th>AMOUNT</th>\n",
       "      <td>0.001176</td>\n",
       "      <td>0.006580</td>\n",
       "      <td>0.001307</td>\n",
       "      <td>1.000000</td>\n",
       "      <td>0.363612</td>\n",
       "      <td>0.000684</td>\n",
       "      <td>0.000815</td>\n",
       "      <td>0.000035</td>\n",
       "      <td>0.002253</td>\n",
       "      <td>0.000447</td>\n",
       "      <td>...</td>\n",
       "      <td>0.000015</td>\n",
       "      <td>0.022142</td>\n",
       "      <td>0.006882</td>\n",
       "      <td>0.002196</td>\n",
       "      <td>0.004828</td>\n",
       "      <td>0.002262</td>\n",
       "      <td>0.006774</td>\n",
       "      <td>0.000976</td>\n",
       "      <td>0.000314</td>\n",
       "      <td>0.000159</td>\n",
       "    </tr>\n",
       "    <tr>\n",
       "      <th>OUTLIER_HIGH_2</th>\n",
       "      <td>0.002546</td>\n",
       "      <td>0.011669</td>\n",
       "      <td>0.003944</td>\n",
       "      <td>0.363612</td>\n",
       "      <td>1.000000</td>\n",
       "      <td>0.001707</td>\n",
       "      <td>0.000831</td>\n",
       "      <td>0.000228</td>\n",
       "      <td>0.002500</td>\n",
       "      <td>0.001345</td>\n",
       "      <td>...</td>\n",
       "      <td>0.000031</td>\n",
       "      <td>0.022122</td>\n",
       "      <td>0.001644</td>\n",
       "      <td>0.010080</td>\n",
       "      <td>0.004937</td>\n",
       "      <td>0.008146</td>\n",
       "      <td>0.022480</td>\n",
       "      <td>0.003180</td>\n",
       "      <td>0.001436</td>\n",
       "      <td>0.000972</td>\n",
       "    </tr>\n",
       "  </tbody>\n",
       "</table>\n",
       "<p>5 rows × 531 columns</p>\n",
       "</div>"
      ],
      "text/plain": [
       "                              HAS_EMAIL  BIRTH_YEAR  \\\n",
       "HAS_EMAIL                      1.000000    0.010204   \n",
       "BIRTH_YEAR                     0.010204    1.000000   \n",
       "HAS_MULTIPLE_PHONE_COUNTRIES   0.029785    0.005100   \n",
       "AMOUNT                         0.001176    0.006580   \n",
       "OUTLIER_HIGH_2                 0.002546    0.011669   \n",
       "\n",
       "                              HAS_MULTIPLE_PHONE_COUNTRIES    AMOUNT  \\\n",
       "HAS_EMAIL                                         0.029785  0.001176   \n",
       "BIRTH_YEAR                                        0.005100  0.006580   \n",
       "HAS_MULTIPLE_PHONE_COUNTRIES                      1.000000  0.001307   \n",
       "AMOUNT                                            0.001307  1.000000   \n",
       "OUTLIER_HIGH_2                                    0.003944  0.363612   \n",
       "\n",
       "                              OUTLIER_HIGH_2  TERMS_VERSION_2017-02-02  \\\n",
       "HAS_EMAIL                           0.002546                  0.004882   \n",
       "BIRTH_YEAR                          0.011669                  0.009935   \n",
       "HAS_MULTIPLE_PHONE_COUNTRIES        0.003944                  0.042592   \n",
       "AMOUNT                              0.363612                  0.000684   \n",
       "OUTLIER_HIGH_2                      1.000000                  0.001707   \n",
       "\n",
       "                              TERMS_VERSION_2018-01-01  \\\n",
       "HAS_EMAIL                                     0.011240   \n",
       "BIRTH_YEAR                                    0.022881   \n",
       "HAS_MULTIPLE_PHONE_COUNTRIES                  0.006117   \n",
       "AMOUNT                                        0.000815   \n",
       "OUTLIER_HIGH_2                                0.000831   \n",
       "\n",
       "                              TERMS_VERSION_2018-01-13  \\\n",
       "HAS_EMAIL                                     0.001469   \n",
       "BIRTH_YEAR                                    0.041190   \n",
       "HAS_MULTIPLE_PHONE_COUNTRIES                  0.031016   \n",
       "AMOUNT                                        0.000035   \n",
       "OUTLIER_HIGH_2                                0.000228   \n",
       "\n",
       "                              TERMS_VERSION_2018-03-20  \\\n",
       "HAS_EMAIL                                     0.010131   \n",
       "BIRTH_YEAR                                    0.012849   \n",
       "HAS_MULTIPLE_PHONE_COUNTRIES                  0.049581   \n",
       "AMOUNT                                        0.002253   \n",
       "OUTLIER_HIGH_2                                0.002500   \n",
       "\n",
       "                              TERMS_VERSION_2018-05-25  ...  SOURCE_BRIZO  \\\n",
       "HAS_EMAIL                                     0.026399  ...      0.000130   \n",
       "BIRTH_YEAR                                    0.000388  ...      0.001146   \n",
       "HAS_MULTIPLE_PHONE_COUNTRIES                  0.002830  ...      0.001331   \n",
       "AMOUNT                                        0.000447  ...      0.000015   \n",
       "OUTLIER_HIGH_2                                0.001345  ...      0.000031   \n",
       "\n",
       "                              SOURCE_CRONUS  SOURCE_GAIA  SOURCE_HERA  \\\n",
       "HAS_EMAIL                          0.000229     0.014682     0.009860   \n",
       "BIRTH_YEAR                         0.007532     0.010596     0.022569   \n",
       "HAS_MULTIPLE_PHONE_COUNTRIES       0.007993     0.013010     0.017133   \n",
       "AMOUNT                             0.022142     0.006882     0.002196   \n",
       "OUTLIER_HIGH_2                     0.022122     0.001644     0.010080   \n",
       "\n",
       "                              SOURCE_INTERNAL  SOURCE_LETO  SOURCE_LIMOS  \\\n",
       "HAS_EMAIL                            0.025462     0.008235      0.003209   \n",
       "BIRTH_YEAR                           0.013347     0.010744      0.012541   \n",
       "HAS_MULTIPLE_PHONE_COUNTRIES         0.072717     0.041370      0.025381   \n",
       "AMOUNT                               0.004828     0.002262      0.006774   \n",
       "OUTLIER_HIGH_2                       0.004937     0.008146      0.022480   \n",
       "\n",
       "                              SOURCE_MINOS  SOURCE_NYX  SOURCE_OPHION  \n",
       "HAS_EMAIL                         0.007394    0.098613       0.008465  \n",
       "BIRTH_YEAR                        0.024914    0.009119       0.013449  \n",
       "HAS_MULTIPLE_PHONE_COUNTRIES      0.088789    0.027870       0.018341  \n",
       "AMOUNT                            0.000976    0.000314       0.000159  \n",
       "OUTLIER_HIGH_2                    0.003180    0.001436       0.000972  \n",
       "\n",
       "[5 rows x 531 columns]"
      ]
     },
     "execution_count": 183,
     "metadata": {},
     "output_type": "execute_result"
    }
   ],
   "source": [
    "X_For_Corr = X.drop(columns=['ID_x'])\n",
    "X_corr = X_For_Corr.corr().abs()\n",
    "X_corr.head()"
   ]
  },
  {
   "cell_type": "code",
   "execution_count": 184,
   "metadata": {},
   "outputs": [
    {
     "data": {
      "text/plain": [
       "<Axes: >"
      ]
     },
     "execution_count": 184,
     "metadata": {},
     "output_type": "execute_result"
    },
    {
     "data": {
      "image/png": "[encoded data removed]",
      "text/plain": [
       "<Figure size 640x480 with 2 Axes>"
      ]
     },
     "metadata": {},
     "output_type": "display_data"
    }
   ],
   "source": [
    "sns.heatmap(X_corr)"
   ]
  },
  {
   "cell_type": "code",
   "execution_count": 185,
   "metadata": {},
   "outputs": [
    {
     "data": {
      "text/html": [
       "<div>\n",
       "<style scoped>\n",
       "    .dataframe tbody tr th:only-of-type {\n",
       "        vertical-align: middle;\n",
       "    }\n",
       "\n",
       "    .dataframe tbody tr th {\n",
       "        vertical-align: top;\n",
       "    }\n",
       "\n",
       "    .dataframe thead th {\n",
       "        text-align: right;\n",
       "    }\n",
       "</style>\n",
       "<table border=\"1\" class=\"dataframe\">\n",
       "  <thead>\n",
       "    <tr style=\"text-align: right;\">\n",
       "      <th>IS_FRAUDSTER</th>\n",
       "      <th>False</th>\n",
       "      <th>True</th>\n",
       "    </tr>\n",
       "    <tr>\n",
       "      <th>MISSING_AMOUNT_USD</th>\n",
       "      <th></th>\n",
       "      <th></th>\n",
       "    </tr>\n",
       "  </thead>\n",
       "  <tbody>\n",
       "    <tr>\n",
       "      <th>False</th>\n",
       "      <td>97.635563</td>\n",
       "      <td>2.364437</td>\n",
       "    </tr>\n",
       "    <tr>\n",
       "      <th>True</th>\n",
       "      <td>100.000000</td>\n",
       "      <td>0.000000</td>\n",
       "    </tr>\n",
       "  </tbody>\n",
       "</table>\n",
       "</div>"
      ],
      "text/plain": [
       "IS_FRAUDSTER             False     True \n",
       "MISSING_AMOUNT_USD                      \n",
       "False                97.635563  2.364437\n",
       "True                100.000000  0.000000"
      ]
     },
     "execution_count": 185,
     "metadata": {},
     "output_type": "execute_result"
    }
   ],
   "source": [
    "res = pd.crosstab(index=tr_with_target['MISSING_AMOUNT_USD'],columns=tr_with_target['IS_FRAUDSTER'], normalize='index') * 100\n",
    "res"
   ]
  },
  {
   "cell_type": "code",
   "execution_count": 189,
   "metadata": {},
   "outputs": [
    {
     "data": {
      "text/plain": [
       "Index(['ID_x', 'HAS_EMAIL', 'BIRTH_YEAR', 'HAS_MULTIPLE_PHONE_COUNTRIES',\n",
       "       'AMOUNT', 'OUTLIER_HIGH_2', 'TERMS_VERSION_2017-02-02',\n",
       "       'TERMS_VERSION_2018-01-01', 'TERMS_VERSION_2018-01-13',\n",
       "       'TERMS_VERSION_2018-03-20',\n",
       "       ...\n",
       "       'TYPE_CARD_PAYMENT', 'TYPE_P2P', 'TYPE_TOPUP', 'SOURCE_BRIZO',\n",
       "       'SOURCE_CRONUS', 'SOURCE_LETO', 'SOURCE_LIMOS', 'SOURCE_MINOS',\n",
       "       'SOURCE_NYX', 'SOURCE_OPHION'],\n",
       "      dtype='object', length=527)"
      ]
     },
     "execution_count": 189,
     "metadata": {},
     "output_type": "execute_result"
    }
   ],
   "source": [
    "# https://h1ros.github.io/posts/drop-highly-correlated-features/\n",
    "import numpy as np\n",
    "threshold = 0.9\n",
    "\n",
    "columns = np.full((X_corr.shape[0],), True, dtype=bool)\n",
    "for i in range(X_corr.shape[0]):\n",
    "    for j in range(i+1, X_corr.shape[0]):\n",
    "        if X_corr.iloc[i,j] >= threshold:\n",
    "            if columns[j]:\n",
    "                columns[j] = False\n",
    "columns = np.insert(columns, 0, True, axis=0)\n",
    "selected_columns = X.columns[columns]\n",
    "selected_columns\n",
    "\n",
    "X = X[selected_columns]"
   ]
  },
  {
   "cell_type": "code",
   "execution_count": 210,
   "metadata": {},
   "outputs": [
    {
     "data": {
      "text/plain": [
       "['STATE_x_LOCKED',\n",
       " 'STATE_y_COMPLETED',\n",
       " 'STATE_y_DECLINED',\n",
       " 'STATE_y_FAILED',\n",
       " 'STATE_y_PENDING',\n",
       " 'STATE_y_RECORDED',\n",
       " 'STATE_y_REVERTED',\n",
       " 'STATE_x_LOCKED']"
      ]
     },
     "execution_count": 210,
     "metadata": {},
     "output_type": "execute_result"
    }
   ],
   "source": [
    "# We need to remove 'STATE_x_LOCKED' because it predicts fraud 100%\n",
    "cols = [c for c in X.columns if c.startswith('STATE')]\n",
    "cols"
   ]
  },
  {
   "cell_type": "code",
   "execution_count": 211,
   "metadata": {},
   "outputs": [
    {
     "data": {
      "text/html": [
       "<div>\n",
       "<style scoped>\n",
       "    .dataframe tbody tr th:only-of-type {\n",
       "        vertical-align: middle;\n",
       "    }\n",
       "\n",
       "    .dataframe tbody tr th {\n",
       "        vertical-align: top;\n",
       "    }\n",
       "\n",
       "    .dataframe thead th {\n",
       "        text-align: right;\n",
       "    }\n",
       "</style>\n",
       "<table border=\"1\" class=\"dataframe\">\n",
       "  <thead>\n",
       "    <tr style=\"text-align: right;\">\n",
       "      <th></th>\n",
       "      <th>STATE_x_LOCKED</th>\n",
       "      <th>STATE_x_LOCKED</th>\n",
       "    </tr>\n",
       "  </thead>\n",
       "  <tbody>\n",
       "    <tr>\n",
       "      <th>0</th>\n",
       "      <td>False</td>\n",
       "      <td>False</td>\n",
       "    </tr>\n",
       "    <tr>\n",
       "      <th>1</th>\n",
       "      <td>False</td>\n",
       "      <td>False</td>\n",
       "    </tr>\n",
       "    <tr>\n",
       "      <th>2</th>\n",
       "      <td>False</td>\n",
       "      <td>False</td>\n",
       "    </tr>\n",
       "    <tr>\n",
       "      <th>3</th>\n",
       "      <td>False</td>\n",
       "      <td>False</td>\n",
       "    </tr>\n",
       "    <tr>\n",
       "      <th>4</th>\n",
       "      <td>False</td>\n",
       "      <td>False</td>\n",
       "    </tr>\n",
       "    <tr>\n",
       "      <th>...</th>\n",
       "      <td>...</td>\n",
       "      <td>...</td>\n",
       "    </tr>\n",
       "    <tr>\n",
       "      <th>638737</th>\n",
       "      <td>False</td>\n",
       "      <td>False</td>\n",
       "    </tr>\n",
       "    <tr>\n",
       "      <th>638738</th>\n",
       "      <td>False</td>\n",
       "      <td>False</td>\n",
       "    </tr>\n",
       "    <tr>\n",
       "      <th>638739</th>\n",
       "      <td>False</td>\n",
       "      <td>False</td>\n",
       "    </tr>\n",
       "    <tr>\n",
       "      <th>638740</th>\n",
       "      <td>False</td>\n",
       "      <td>False</td>\n",
       "    </tr>\n",
       "    <tr>\n",
       "      <th>638741</th>\n",
       "      <td>False</td>\n",
       "      <td>False</td>\n",
       "    </tr>\n",
       "  </tbody>\n",
       "</table>\n",
       "<p>638742 rows × 2 columns</p>\n",
       "</div>"
      ],
      "text/plain": [
       "        STATE_x_LOCKED  STATE_x_LOCKED\n",
       "0                False           False\n",
       "1                False           False\n",
       "2                False           False\n",
       "3                False           False\n",
       "4                False           False\n",
       "...                ...             ...\n",
       "638737           False           False\n",
       "638738           False           False\n",
       "638739           False           False\n",
       "638740           False           False\n",
       "638741           False           False\n",
       "\n",
       "[638742 rows x 2 columns]"
      ]
     },
     "execution_count": 211,
     "metadata": {},
     "output_type": "execute_result"
    }
   ],
   "source": [
    "X[['STATE_x_LOCKED']]"
   ]
  },
  {
   "cell_type": "code",
   "execution_count": 213,
   "metadata": {},
   "outputs": [],
   "source": [
    "from sklearn.model_selection import train_test_split\n",
    "X.drop(columns=['ID_x'], inplace=True)\n",
    "X.drop(columns=['STATE_x_LOCKED'], inplace=True)\n",
    "y = Y\n",
    "X_train, X_test, y_train, y_test = train_test_split(X, y, test_size=0.2, random_state=42)"
   ]
  },
  {
   "cell_type": "code",
   "execution_count": 214,
   "metadata": {},
   "outputs": [
    {
     "data": {
      "text/plain": [
       "Index(['HAS_EMAIL', 'BIRTH_YEAR', 'HAS_MULTIPLE_PHONE_COUNTRIES', 'AMOUNT',\n",
       "       'OUTLIER_HIGH_2', 'TERMS_VERSION_2017-02-02',\n",
       "       'TERMS_VERSION_2018-01-01', 'TERMS_VERSION_2018-01-13',\n",
       "       'TERMS_VERSION_2018-03-20', 'TERMS_VERSION_2018-05-25',\n",
       "       ...\n",
       "       'SOURCE_BRIZO', 'SOURCE_CRONUS', 'SOURCE_GAIA', 'SOURCE_HERA',\n",
       "       'SOURCE_INTERNAL', 'SOURCE_LETO', 'SOURCE_LIMOS', 'SOURCE_MINOS',\n",
       "       'SOURCE_NYX', 'SOURCE_OPHION'],\n",
       "      dtype='object', length=529)"
      ]
     },
     "execution_count": 214,
     "metadata": {},
     "output_type": "execute_result"
    }
   ],
   "source": [
    "X_train.columns"
   ]
  },
  {
   "cell_type": "code",
   "execution_count": 215,
   "metadata": {},
   "outputs": [
    {
     "data": {
      "text/html": [
       "<style>#sk-container-id-3 {color: black;}#sk-container-id-3 pre{padding: 0;}#sk-container-id-3 div.sk-toggleable {background-color: white;}#sk-container-id-3 label.sk-toggleable__label {cursor: pointer;display: block;width: 100%;margin-bottom: 0;padding: 0.3em;box-sizing: border-box;text-align: center;}#sk-container-id-3 label.sk-toggleable__label-arrow:before {content: \"▸\";float: left;margin-right: 0.25em;color: #696969;}#sk-container-id-3 label.sk-toggleable__label-arrow:hover:before {color: black;}#sk-container-id-3 div.sk-estimator:hover label.sk-toggleable__label-arrow:before {color: black;}#sk-container-id-3 div.sk-toggleable__content {max-height: 0;max-width: 0;overflow: hidden;text-align: left;background-color: #f0f8ff;}#sk-container-id-3 div.sk-toggleable__content pre {margin: 0.2em;color: black;border-radius: 0.25em;background-color: #f0f8ff;}#sk-container-id-3 input.sk-toggleable__control:checked~div.sk-toggleable__content {max-height: 200px;max-width: 100%;overflow: auto;}#sk-container-id-3 input.sk-toggleable__control:checked~label.sk-toggleable__label-arrow:before {content: \"▾\";}#sk-container-id-3 div.sk-estimator input.sk-toggleable__control:checked~label.sk-toggleable__label {background-color: #d4ebff;}#sk-container-id-3 div.sk-label input.sk-toggleable__control:checked~label.sk-toggleable__label {background-color: #d4ebff;}#sk-container-id-3 input.sk-hidden--visually {border: 0;clip: rect(1px 1px 1px 1px);clip: rect(1px, 1px, 1px, 1px);height: 1px;margin: -1px;overflow: hidden;padding: 0;position: absolute;width: 1px;}#sk-container-id-3 div.sk-estimator {font-family: monospace;background-color: #f0f8ff;border: 1px dotted black;border-radius: 0.25em;box-sizing: border-box;margin-bottom: 0.5em;}#sk-container-id-3 div.sk-estimator:hover {background-color: #d4ebff;}#sk-container-id-3 div.sk-parallel-item::after {content: \"\";width: 100%;border-bottom: 1px solid gray;flex-grow: 1;}#sk-container-id-3 div.sk-label:hover label.sk-toggleable__label {background-color: #d4ebff;}#sk-container-id-3 div.sk-serial::before {content: \"\";position: absolute;border-left: 1px solid gray;box-sizing: border-box;top: 0;bottom: 0;left: 50%;z-index: 0;}#sk-container-id-3 div.sk-serial {display: flex;flex-direction: column;align-items: center;background-color: white;padding-right: 0.2em;padding-left: 0.2em;position: relative;}#sk-container-id-3 div.sk-item {position: relative;z-index: 1;}#sk-container-id-3 div.sk-parallel {display: flex;align-items: stretch;justify-content: center;background-color: white;position: relative;}#sk-container-id-3 div.sk-item::before, #sk-container-id-3 div.sk-parallel-item::before {content: \"\";position: absolute;border-left: 1px solid gray;box-sizing: border-box;top: 0;bottom: 0;left: 50%;z-index: -1;}#sk-container-id-3 div.sk-parallel-item {display: flex;flex-direction: column;z-index: 1;position: relative;background-color: white;}#sk-container-id-3 div.sk-parallel-item:first-child::after {align-self: flex-end;width: 50%;}#sk-container-id-3 div.sk-parallel-item:last-child::after {align-self: flex-start;width: 50%;}#sk-container-id-3 div.sk-parallel-item:only-child::after {width: 0;}#sk-container-id-3 div.sk-dashed-wrapped {border: 1px dashed gray;margin: 0 0.4em 0.5em 0.4em;box-sizing: border-box;padding-bottom: 0.4em;background-color: white;}#sk-container-id-3 div.sk-label label {font-family: monospace;font-weight: bold;display: inline-block;line-height: 1.2em;}#sk-container-id-3 div.sk-label-container {text-align: center;}#sk-container-id-3 div.sk-container {/* jupyter's `normalize.less` sets `[hidden] { display: none; }` but bootstrap.min.css set `[hidden] { display: none !important; }` so we also need the `!important` here to be able to override the default hidden behavior on the sphinx rendered scikit-learn.org. See: https://github.com/scikit-learn/scikit-learn/issues/21755 */display: inline-block !important;position: relative;}#sk-container-id-3 div.sk-text-repr-fallback {display: none;}</style><div id=\"sk-container-id-3\" class=\"sk-top-container\"><div class=\"sk-text-repr-fallback\"><pre>StandardScaler()</pre><b>In a Jupyter environment, please rerun this cell to show the HTML representation or trust the notebook. <br />On GitHub, the HTML representation is unable to render, please try loading this page with nbviewer.org.</b></div><div class=\"sk-container\" hidden><div class=\"sk-item\"><div class=\"sk-estimator sk-toggleable\"><input class=\"sk-toggleable__control sk-hidden--visually\" id=\"sk-estimator-id-3\" type=\"checkbox\" checked><label for=\"sk-estimator-id-3\" class=\"sk-toggleable__label sk-toggleable__label-arrow\">StandardScaler</label><div class=\"sk-toggleable__content\"><pre>StandardScaler()</pre></div></div></div></div></div>"
      ],
      "text/plain": [
       "StandardScaler()"
      ]
     },
     "execution_count": 215,
     "metadata": {},
     "output_type": "execute_result"
    }
   ],
   "source": [
    "from sklearn.preprocessing import StandardScaler\n",
    "scaler = StandardScaler()\n",
    "scaler.fit(X_train[[\"AMOUNT\"]])"
   ]
  },
  {
   "cell_type": "code",
   "execution_count": 216,
   "metadata": {},
   "outputs": [],
   "source": [
    "X_train[[\"AMOUNT\"]] = scaler.transform(X_train[[\"AMOUNT\"]])\n",
    "X_test[[\"AMOUNT\"]] = scaler.transform(X_test[[\"AMOUNT\"]])"
   ]
  },
  {
   "cell_type": "code",
   "execution_count": 217,
   "metadata": {},
   "outputs": [
    {
     "data": {
      "text/html": [
       "<div>\n",
       "<style scoped>\n",
       "    .dataframe tbody tr th:only-of-type {\n",
       "        vertical-align: middle;\n",
       "    }\n",
       "\n",
       "    .dataframe tbody tr th {\n",
       "        vertical-align: top;\n",
       "    }\n",
       "\n",
       "    .dataframe thead th {\n",
       "        text-align: right;\n",
       "    }\n",
       "</style>\n",
       "<table border=\"1\" class=\"dataframe\">\n",
       "  <thead>\n",
       "    <tr style=\"text-align: right;\">\n",
       "      <th></th>\n",
       "      <th>AMOUNT</th>\n",
       "    </tr>\n",
       "  </thead>\n",
       "  <tbody>\n",
       "    <tr>\n",
       "      <th>count</th>\n",
       "      <td>5.109930e+05</td>\n",
       "    </tr>\n",
       "    <tr>\n",
       "      <th>mean</th>\n",
       "      <td>5.909683e-19</td>\n",
       "    </tr>\n",
       "    <tr>\n",
       "      <th>std</th>\n",
       "      <td>1.000001e+00</td>\n",
       "    </tr>\n",
       "    <tr>\n",
       "      <th>min</th>\n",
       "      <td>-1.314640e-02</td>\n",
       "    </tr>\n",
       "    <tr>\n",
       "      <th>25%</th>\n",
       "      <td>-1.296059e-02</td>\n",
       "    </tr>\n",
       "    <tr>\n",
       "      <th>50%</th>\n",
       "      <td>-1.259217e-02</td>\n",
       "    </tr>\n",
       "    <tr>\n",
       "      <th>75%</th>\n",
       "      <td>-1.115276e-02</td>\n",
       "    </tr>\n",
       "    <tr>\n",
       "      <th>max</th>\n",
       "      <td>3.588418e+02</td>\n",
       "    </tr>\n",
       "  </tbody>\n",
       "</table>\n",
       "</div>"
      ],
      "text/plain": [
       "             AMOUNT\n",
       "count  5.109930e+05\n",
       "mean   5.909683e-19\n",
       "std    1.000001e+00\n",
       "min   -1.314640e-02\n",
       "25%   -1.296059e-02\n",
       "50%   -1.259217e-02\n",
       "75%   -1.115276e-02\n",
       "max    3.588418e+02"
      ]
     },
     "execution_count": 217,
     "metadata": {},
     "output_type": "execute_result"
    }
   ],
   "source": [
    "X_train[[\"AMOUNT\"]].describe()"
   ]
  },
  {
   "cell_type": "markdown",
   "metadata": {},
   "source": [
    "## Modeling\n",
    "Below, we'll try multiple models.\n",
    "\n",
    "I'm going to remove the `State` variable because it predicts `Is_Fraudster` 100%.  Maybe this was the answer to the original exercise, but that is too easy.  The following models become 100% accurate when I leave that feature in to model upon.\n",
    "\n",
    "### Models\n",
    "1. LogisticRegression\n",
    "  - LogisticRegression class\n",
    "    - F1 score is terrible(45)\n",
    "  - LogisticRegressionCV class\n",
    "    - currently failing due to inability to minimize.\n",
    "2. Decision Tree\n",
    "  - Working much better \n",
    "  - F1 score of 76\n",
    "3. Random Forest\n",
    "  - Even better\n",
    "  - F1 score of 78\n",
    "\n",
    "### Evaluation\n",
    "1. sci-kit `accuracy_score`\n",
    "  - Number of correctly labelled items over total items\n",
    "  - This score's issue in this dataset particularly is that we get 98% and yet only identify 50% of the fraudulent transactions.  This is because the vast majority of the transactions are not fraudulent and by skewing toward false negatives, our score is high.\n",
    "2. F1 score\n",
    "  - The F1 score(and its component scores) from our first modeling runs show that we have not been very successful and need to iterate.\n",
    "```\n",
    "  TP: 846\n",
    "  FP: 256\n",
    "  FN: 1913\n",
    "  Precision:  0.7676950998185118\n",
    "  Recall:  0.3066328379847771\n",
    "  F1 Score:  0.4382284382284382\n",
    "```\n",
    "  - F1 score from best model, Random Forest. Much better than LogisticRegression but still missing 700 fraud transactions\n",
    "  ```\n",
    "  TP: 2036\n",
    "  FP: 366\n",
    "  FN: 723\n",
    "  Precision:  0.8476269775187344\n",
    "  Recall:  0.7379485320768394\n",
    "  F1 Score:  0.7889943809339276\n",
    "  ```\n"
   ]
  },
  {
   "cell_type": "code",
   "execution_count": 252,
   "metadata": {},
   "outputs": [],
   "source": [
    "def F1_score(predictions, targets):\n",
    "  zipped = np.column_stack((predictions, np.array(targets)))\n",
    "  df_z = pd.DataFrame(zipped)\n",
    "  TP = df_z[(df_z[0] == 1) & (df_z[1] == 1)]\n",
    "  FP = df_z[(df_z[0] == 1) & (df_z[1] == 0)]\n",
    "  FN = df_z[(df_z[0] == 0) & (df_z[1] == 1)]\n",
    "\n",
    "  tp_c = TP.shape[0]\n",
    "  fp_c = FP.shape[0]\n",
    "  fn_c = FN.shape[0]\n",
    "\n",
    "  print('TP:', TP.shape[0])\n",
    "  print('FP:', FP.shape[0])\n",
    "  print('FN:', FN.shape[0])\n",
    "\n",
    "  precision = tp_c/(fp_c + tp_c)\n",
    "  recall = tp_c/(tp_c + fn_c)\n",
    "  f1_score = 2 * (precision * recall) / (precision + recall)  \n",
    "  print(\"Precision: \", precision)\n",
    "  print(\"Recall: \", recall)\n",
    "  print(\"F1 Score: \", f1_score) "
   ]
  },
  {
   "cell_type": "code",
   "execution_count": 255,
   "metadata": {},
   "outputs": [],
   "source": [
    "def accuracy_evaluation(predictions, targets):\n",
    "  print(\"predictions:\")\n",
    "  predictions = pd.DataFrame(predictions)\n",
    "  print(predictions.value_counts())\n",
    "  print('')\n",
    "  print(\"targets:\", targets.value_counts())\n",
    "  print(\"testing accuracy\",accuracy_score(targets, predictions))\n",
    "  print('')\n",
    "  print ('Manual Accuracy of logistic regression(percentage of correctly labelled datapoints):')\n",
    "  print(float((np.dot(targets,predictions) + np.dot(1-targets,1-predictions))/float(targets.size)*100))\n",
    "\n",
    "  F1Score(predictions, targets)"
   ]
  },
  {
   "cell_type": "code",
   "execution_count": 232,
   "metadata": {},
   "outputs": [],
   "source": [
    "def regression_evaluation():\n",
    "  from sklearn.metrics import mean_absolute_error,mean_squared_error\n",
    "  mae = mean_absolute_error(y_true=y_test,y_pred=y_pred)\n",
    "  mse = mean_squared_error(y_true=y_test,y_pred=y_pred)\n",
    "  rmse = mean_squared_error(y_true=y_test,y_pred=y_pred,squared=False)\n",
    "\n",
    "  print('MAE: ', mae)\n",
    "  print('MSE: ', mse)\n",
    "  print('RMSE: ', rmse)"
   ]
  },
  {
   "cell_type": "code",
   "execution_count": 223,
   "metadata": {},
   "outputs": [
    {
     "name": "stdout",
     "output_type": "stream",
     "text": [
      "y_pred: False    126647\n",
      "True       1102\n",
      "Name: count, dtype: int64\n",
      "y_test: IS_FRAUDSTER\n",
      "False    124990\n",
      "True       2759\n",
      "Name: count, dtype: int64\n",
      "testing accuracy 0.9830213935138435\n"
     ]
    }
   ],
   "source": [
    "from sklearn.linear_model import LogisticRegression\n",
    "from sklearn.metrics import accuracy_score\n",
    "\n",
    "lr = LogisticRegression(max_iter=1000)\n",
    "lr.fit(X_train, y_train)\n",
    "\n",
    "# call predict directly\n",
    "y_pred = lr.predict(X_test)\n",
    "res = pd.DataFrame(y_pred)\n",
    "\n",
    "# use API to call predict and match this against targets\n",
    "lr.score(X_test, y_test)\n",
    "\n"
   ]
  },
  {
   "cell_type": "code",
   "execution_count": null,
   "metadata": {},
   "outputs": [],
   "source": [
    "from sklearn.linear_model import LogisticRegressionCV\n",
    "clf = LogisticRegressionCV()\n",
    "clf.fit(X_train, y_train_num)\n",
    "LR_predictions = clf.predict(X_test)\n",
    "\n",
    "print(pd.DataFrame(LR_predictions).value_counts())\n",
    "print(y_test_num.value_counts())\n",
    "print ('Accuracy of logistic regression: %d ' % float((np.dot(y_test_num,LR_predictions) + np.dot(1-y_test_num,1-LR_predictions))/float(y_test.size)*100) +\n",
    "           '% ' + \"(percentage of correctly labelled datapoints)\")\n"
   ]
  },
  {
   "cell_type": "code",
   "execution_count": 237,
   "metadata": {},
   "outputs": [
    {
     "data": {
      "text/html": [
       "<div>\n",
       "<style scoped>\n",
       "    .dataframe tbody tr th:only-of-type {\n",
       "        vertical-align: middle;\n",
       "    }\n",
       "\n",
       "    .dataframe tbody tr th {\n",
       "        vertical-align: top;\n",
       "    }\n",
       "\n",
       "    .dataframe thead th {\n",
       "        text-align: right;\n",
       "    }\n",
       "</style>\n",
       "<table border=\"1\" class=\"dataframe\">\n",
       "  <thead>\n",
       "    <tr style=\"text-align: right;\">\n",
       "      <th></th>\n",
       "      <th>0</th>\n",
       "      <th>1</th>\n",
       "    </tr>\n",
       "  </thead>\n",
       "  <tbody>\n",
       "    <tr>\n",
       "      <th>0</th>\n",
       "      <td>17521.289855</td>\n",
       "      <td>13.941093</td>\n",
       "    </tr>\n",
       "    <tr>\n",
       "      <th>1</th>\n",
       "      <td>-7478.710145</td>\n",
       "      <td>13.942211</td>\n",
       "    </tr>\n",
       "    <tr>\n",
       "      <th>2</th>\n",
       "      <td>-30258.710146</td>\n",
       "      <td>13.943009</td>\n",
       "    </tr>\n",
       "    <tr>\n",
       "      <th>3</th>\n",
       "      <td>-31288.710146</td>\n",
       "      <td>13.940617</td>\n",
       "    </tr>\n",
       "    <tr>\n",
       "      <th>4</th>\n",
       "      <td>-31478.710145</td>\n",
       "      <td>13.942432</td>\n",
       "    </tr>\n",
       "  </tbody>\n",
       "</table>\n",
       "</div>"
      ],
      "text/plain": [
       "              0          1\n",
       "0  17521.289855  13.941093\n",
       "1  -7478.710145  13.942211\n",
       "2 -30258.710146  13.943009\n",
       "3 -31288.710146  13.940617\n",
       "4 -31478.710145  13.942432"
      ]
     },
     "execution_count": 237,
     "metadata": {},
     "output_type": "execute_result"
    }
   ],
   "source": [
    "# check multi-collinearity\n",
    "from sklearn.decomposition import PCA\n",
    "pca = PCA(n_components=2)\n",
    "df_pca = pd.DataFrame(pca.fit_transform(X))\n",
    "df_pca.head()\n"
   ]
  },
  {
   "cell_type": "code",
   "execution_count": 238,
   "metadata": {},
   "outputs": [
    {
     "data": {
      "image/png": "[encoded data removed]",
      "text/plain": [
       "<Figure size 900x300 with 2 Axes>"
      ]
     },
     "metadata": {},
     "output_type": "display_data"
    }
   ],
   "source": [
    "fig, axes = plt.subplots(1, 2, figsize=(9, 3))\n",
    "axes[0].plot(pca.explained_variance_);\n",
    "axes[0].set_title('Explained Variance')\n",
    "axes[1].plot(np.cumsum(pca.explained_variance_ratio_));\n",
    "axes[1].axhline(y=0.95, c='r', ls='-.')\n",
    "axes[1].set_title('Cumulative Explained Variance Ratio')\n",
    "plt.tight_layout()"
   ]
  },
  {
   "cell_type": "code",
   "execution_count": 239,
   "metadata": {},
   "outputs": [],
   "source": [
    "pca = PCA(n_components=2, copy=True, whiten=False, tol=0.0)\n",
    "pca.fit(X)\n",
    "X_pca = pca.transform(X)\n"
   ]
  },
  {
   "cell_type": "code",
   "execution_count": 240,
   "metadata": {},
   "outputs": [],
   "source": [
    "X_train, X_test, y_train, y_test = train_test_split(X_pca, y, test_size=0.2, random_state=42)\n"
   ]
  },
  {
   "cell_type": "code",
   "execution_count": 241,
   "metadata": {},
   "outputs": [],
   "source": [
    "pca_lr = LogisticRegression()\n",
    "pca_lr.fit(X_train, y_train)\n",
    "y_pred = pca_lr.predict(X_test)\n",
    "F1Score(y_pred, y_test)"
   ]
  },
  {
   "cell_type": "code",
   "execution_count": 248,
   "metadata": {},
   "outputs": [],
   "source": [
    "X_train, X_test, y_train, y_test = train_test_split(X, y, test_size=0.2, random_state=42)"
   ]
  },
  {
   "cell_type": "code",
   "execution_count": 249,
   "metadata": {},
   "outputs": [
    {
     "data": {
      "text/html": [
       "<style>#sk-container-id-4 {color: black;}#sk-container-id-4 pre{padding: 0;}#sk-container-id-4 div.sk-toggleable {background-color: white;}#sk-container-id-4 label.sk-toggleable__label {cursor: pointer;display: block;width: 100%;margin-bottom: 0;padding: 0.3em;box-sizing: border-box;text-align: center;}#sk-container-id-4 label.sk-toggleable__label-arrow:before {content: \"▸\";float: left;margin-right: 0.25em;color: #696969;}#sk-container-id-4 label.sk-toggleable__label-arrow:hover:before {color: black;}#sk-container-id-4 div.sk-estimator:hover label.sk-toggleable__label-arrow:before {color: black;}#sk-container-id-4 div.sk-toggleable__content {max-height: 0;max-width: 0;overflow: hidden;text-align: left;background-color: #f0f8ff;}#sk-container-id-4 div.sk-toggleable__content pre {margin: 0.2em;color: black;border-radius: 0.25em;background-color: #f0f8ff;}#sk-container-id-4 input.sk-toggleable__control:checked~div.sk-toggleable__content {max-height: 200px;max-width: 100%;overflow: auto;}#sk-container-id-4 input.sk-toggleable__control:checked~label.sk-toggleable__label-arrow:before {content: \"▾\";}#sk-container-id-4 div.sk-estimator input.sk-toggleable__control:checked~label.sk-toggleable__label {background-color: #d4ebff;}#sk-container-id-4 div.sk-label input.sk-toggleable__control:checked~label.sk-toggleable__label {background-color: #d4ebff;}#sk-container-id-4 input.sk-hidden--visually {border: 0;clip: rect(1px 1px 1px 1px);clip: rect(1px, 1px, 1px, 1px);height: 1px;margin: -1px;overflow: hidden;padding: 0;position: absolute;width: 1px;}#sk-container-id-4 div.sk-estimator {font-family: monospace;background-color: #f0f8ff;border: 1px dotted black;border-radius: 0.25em;box-sizing: border-box;margin-bottom: 0.5em;}#sk-container-id-4 div.sk-estimator:hover {background-color: #d4ebff;}#sk-container-id-4 div.sk-parallel-item::after {content: \"\";width: 100%;border-bottom: 1px solid gray;flex-grow: 1;}#sk-container-id-4 div.sk-label:hover label.sk-toggleable__label {background-color: #d4ebff;}#sk-container-id-4 div.sk-serial::before {content: \"\";position: absolute;border-left: 1px solid gray;box-sizing: border-box;top: 0;bottom: 0;left: 50%;z-index: 0;}#sk-container-id-4 div.sk-serial {display: flex;flex-direction: column;align-items: center;background-color: white;padding-right: 0.2em;padding-left: 0.2em;position: relative;}#sk-container-id-4 div.sk-item {position: relative;z-index: 1;}#sk-container-id-4 div.sk-parallel {display: flex;align-items: stretch;justify-content: center;background-color: white;position: relative;}#sk-container-id-4 div.sk-item::before, #sk-container-id-4 div.sk-parallel-item::before {content: \"\";position: absolute;border-left: 1px solid gray;box-sizing: border-box;top: 0;bottom: 0;left: 50%;z-index: -1;}#sk-container-id-4 div.sk-parallel-item {display: flex;flex-direction: column;z-index: 1;position: relative;background-color: white;}#sk-container-id-4 div.sk-parallel-item:first-child::after {align-self: flex-end;width: 50%;}#sk-container-id-4 div.sk-parallel-item:last-child::after {align-self: flex-start;width: 50%;}#sk-container-id-4 div.sk-parallel-item:only-child::after {width: 0;}#sk-container-id-4 div.sk-dashed-wrapped {border: 1px dashed gray;margin: 0 0.4em 0.5em 0.4em;box-sizing: border-box;padding-bottom: 0.4em;background-color: white;}#sk-container-id-4 div.sk-label label {font-family: monospace;font-weight: bold;display: inline-block;line-height: 1.2em;}#sk-container-id-4 div.sk-label-container {text-align: center;}#sk-container-id-4 div.sk-container {/* jupyter's `normalize.less` sets `[hidden] { display: none; }` but bootstrap.min.css set `[hidden] { display: none !important; }` so we also need the `!important` here to be able to override the default hidden behavior on the sphinx rendered scikit-learn.org. See: https://github.com/scikit-learn/scikit-learn/issues/21755 */display: inline-block !important;position: relative;}#sk-container-id-4 div.sk-text-repr-fallback {display: none;}</style><div id=\"sk-container-id-4\" class=\"sk-top-container\"><div class=\"sk-text-repr-fallback\"><pre>RandomForestClassifier()</pre><b>In a Jupyter environment, please rerun this cell to show the HTML representation or trust the notebook. <br />On GitHub, the HTML representation is unable to render, please try loading this page with nbviewer.org.</b></div><div class=\"sk-container\" hidden><div class=\"sk-item\"><div class=\"sk-estimator sk-toggleable\"><input class=\"sk-toggleable__control sk-hidden--visually\" id=\"sk-estimator-id-4\" type=\"checkbox\" checked><label for=\"sk-estimator-id-4\" class=\"sk-toggleable__label sk-toggleable__label-arrow\">RandomForestClassifier</label><div class=\"sk-toggleable__content\"><pre>RandomForestClassifier()</pre></div></div></div></div></div>"
      ],
      "text/plain": [
       "RandomForestClassifier()"
      ]
     },
     "execution_count": 249,
     "metadata": {},
     "output_type": "execute_result"
    }
   ],
   "source": [
    "from sklearn.tree import DecisionTreeClassifier\n",
    "from sklearn.ensemble import RandomForestClassifier\n",
    "\n",
    "tree_model = DecisionTreeClassifier()\n",
    "rf_model = RandomForestClassifier()\n",
    "\n",
    "tree_model.fit(X_train, y_train)\n",
    "rf_model.fit(X_train, y_train)"
   ]
  },
  {
   "cell_type": "code",
   "execution_count": 256,
   "metadata": {},
   "outputs": [
    {
     "name": "stdout",
     "output_type": "stream",
     "text": [
      "Decision Tree testing accuracy\n",
      "predictions:\n",
      "False    125099\n",
      "True       2650\n",
      "Name: count, dtype: int64\n",
      "\n",
      "targets: IS_FRAUDSTER\n",
      "False    124990\n",
      "True       2759\n",
      "Name: count, dtype: int64\n",
      "testing accuracy 0.9898942457475205\n",
      "\n",
      "Manual Accuracy of logistic regression(percentage of correctly labelled datapoints):\n",
      "97.37845306029793\n",
      "TP: 2059\n",
      "FP: 591\n",
      "FN: 700\n",
      "Precision:  0.7769811320754717\n",
      "Recall:  0.7462848858281986\n",
      "F1 Score:  0.7613237197263819\n"
     ]
    },
    {
     "name": "stderr",
     "output_type": "stream",
     "text": [
      "/var/folders/6p/w6jknzqs22lg4wxk1hc9z8q40000gq/T/ipykernel_52943/2889587777.py:10: DeprecationWarning: Conversion of an array with ndim > 0 to a scalar is deprecated, and will error in future. Ensure you extract a single element from your array before performing this operation. (Deprecated NumPy 1.25.)\n",
      "  print(float((np.dot(targets,predictions) + np.dot(1-targets,1-predictions))/float(targets.size)*100))\n"
     ]
    },
    {
     "name": "stdout",
     "output_type": "stream",
     "text": [
      "Random Forest testing accuracy\n",
      "predictions:\n",
      "False    125347\n",
      "True       2402\n",
      "Name: count, dtype: int64\n",
      "\n",
      "targets: IS_FRAUDSTER\n",
      "False    124990\n",
      "True       2759\n",
      "Name: count, dtype: int64\n",
      "testing accuracy 0.9914754714322617\n",
      "\n",
      "Manual Accuracy of logistic regression(percentage of correctly labelled datapoints):\n",
      "97.5545796835983\n",
      "TP: 2036\n",
      "FP: 366\n",
      "FN: 723\n",
      "Precision:  0.8476269775187344\n",
      "Recall:  0.7379485320768394\n",
      "F1 Score:  0.7889943809339276\n"
     ]
    },
    {
     "name": "stderr",
     "output_type": "stream",
     "text": [
      "/var/folders/6p/w6jknzqs22lg4wxk1hc9z8q40000gq/T/ipykernel_52943/2889587777.py:10: DeprecationWarning: Conversion of an array with ndim > 0 to a scalar is deprecated, and will error in future. Ensure you extract a single element from your array before performing this operation. (Deprecated NumPy 1.25.)\n",
      "  print(float((np.dot(targets,predictions) + np.dot(1-targets,1-predictions))/float(targets.size)*100))\n"
     ]
    }
   ],
   "source": [
    "tree_preds = tree_model.predict(X_test)\n",
    "print(\"Decision Tree testing accuracy\")\n",
    "accuracy_evaluation(tree_preds, y_test)\n",
    "\n",
    "rf_preds = rf_model.predict(X_test)\n",
    "print(\"Random Forest testing accuracy\")\n",
    "accuracy_evaluation(rf_preds, y_test)\n"
   ]
  }
 ],
 "metadata": {
  "kernelspec": {
   "display_name": "sci-py-env",
   "language": "python",
   "name": "python3"
  },
  "language_info": {
   "codemirror_mode": {
    "name": "ipython",
    "version": 3
   },
   "file_extension": ".py",
   "mimetype": "text/x-python",
   "name": "python",
   "nbconvert_exporter": "python",
   "pygments_lexer": "ipython3",
   "version": "3.11.4"
  },
  "orig_nbformat": 4
 },
 "nbformat": 4,
 "nbformat_minor": 2
}
